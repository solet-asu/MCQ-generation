{
 "cells": [
  {
   "cell_type": "markdown",
   "id": "29e17e09",
   "metadata": {},
   "source": [
    "### This is used to test the Option-shortening Workflow"
   ]
  },
  {
   "cell_type": "code",
   "execution_count": 1,
   "id": "ffb63e83",
   "metadata": {},
   "outputs": [],
   "source": [
    "from src.general import extract_mcq_components, extract_correct_answer_letter"
   ]
  },
  {
   "cell_type": "code",
   "execution_count": null,
   "id": "86094f58",
   "metadata": {},
   "outputs": [],
   "source": [
    "from src.option_shortening_helper import identify_longer_options, syntactic_analysis, calculate_length_range, generate_candidate_short_options, select_best_candidate"
   ]
  },
  {
   "cell_type": "code",
   "execution_count": 2,
   "id": "3f6ee3dc",
   "metadata": {},
   "outputs": [],
   "source": [
    "mcq = '''How do the id, ego, and superego interact in Freud's personality model?\n",
    "\n",
    "A) The ego prioritizes the fulfillment of the id's desires.\n",
    "\n",
    "B) The superego suppresses the ego entirely to enforce social rules.\n",
    "\n",
    "C) The id harmonizes completely with the superego to reduce anxiety.\n",
    "\n",
    "D) The ego balances the instinctive drives of the id with the moral standards of the superego.'''\n"
   ]
  },
  {
   "cell_type": "code",
   "execution_count": 4,
   "id": "532ae9e6",
   "metadata": {},
   "outputs": [],
   "source": [
    "mcq_answer = \"D) The ego balances the instinctive drives of the id with the moral standards of the superego.\""
   ]
  },
  {
   "cell_type": "code",
   "execution_count": 5,
   "id": "0fc7785b",
   "metadata": {},
   "outputs": [],
   "source": [
    "question, options = extract_mcq_components(mcq)"
   ]
  },
  {
   "cell_type": "code",
   "execution_count": 6,
   "id": "faadd514",
   "metadata": {},
   "outputs": [],
   "source": [
    "longer_option_index, longer_option_text = identify_longer_options(options)"
   ]
  },
  {
   "cell_type": "code",
   "execution_count": null,
   "id": "74fa6487",
   "metadata": {},
   "outputs": [],
   "source": [
    "longer_option_text"
   ]
  },
  {
   "cell_type": "code",
   "execution_count": null,
   "id": "77580a9f",
   "metadata": {},
   "outputs": [],
   "source": [
    "if longer_option_index:\n",
    "    print (\"The question contains longer options that may need shortening\")\n",
    "else:\n",
    "    print (\"No longer options detected, no shortening needed\")\n",
    "    exit()"
   ]
  },
  {
   "cell_type": "code",
   "execution_count": 9,
   "id": "04fd517c",
   "metadata": {},
   "outputs": [],
   "source": [
    "invocation_id = \"test20250910\""
   ]
  },
  {
   "cell_type": "code",
   "execution_count": null,
   "id": "e0c80989",
   "metadata": {},
   "outputs": [],
   "source": [
    "identified_rule_meta = await syntactic_analysis(\n",
    "    invocation_id=invocation_id,\n",
    "    model=\"gpt-4o\",\n",
    "    temperature=0.3,\n",
    "    question_stem=question,\n",
    "    options=options)"
   ]
  },
  {
   "cell_type": "code",
   "execution_count": null,
   "id": "f81803a0",
   "metadata": {},
   "outputs": [],
   "source": [
    "identified_rule = identified_rule_meta.get(\"syntactic_rule\", \"\")\n",
    "print(f\"Identified syntactic rule: {identified_rule}\")\n"
   ]
  },
  {
   "cell_type": "code",
   "execution_count": 12,
   "id": "a820fb3d",
   "metadata": {},
   "outputs": [],
   "source": [
    "min_length, max_length = calculate_length_range(options)"
   ]
  },
  {
   "cell_type": "code",
   "execution_count": null,
   "id": "3222f1a4",
   "metadata": {},
   "outputs": [],
   "source": [
    "print(f\"Length range for options: min_length={min_length}, max_length={max_length}\")"
   ]
  },
  {
   "cell_type": "code",
   "execution_count": null,
   "id": "68053138",
   "metadata": {},
   "outputs": [],
   "source": [
    "shortened_options_candidates_meta = await generate_candidate_short_options(\n",
    "        invocation_id=invocation_id,\n",
    "        model=\"gpt-4o\",\n",
    "        options=options,\n",
    "        option_to_shorten=longer_option_text,\n",
    "        syntactic_rule=identified_rule,\n",
    "        min_target=min_length,  \n",
    "        max_target=max_length,\n",
    "        table_name=\"candidate_shortening_metadata\",\n",
    "        database_file= '../database/mcq_metadata.db'\n",
    "    )  # List of lists, each inner list contains candidates for one longer option"
   ]
  },
  {
   "cell_type": "code",
   "execution_count": 14,
   "id": "7f3993df",
   "metadata": {},
   "outputs": [],
   "source": [
    "shortened_options_candidates = shortened_options_candidates_meta.get(\"candidates\", [])"
   ]
  },
  {
   "cell_type": "code",
   "execution_count": null,
   "id": "304d7d55",
   "metadata": {},
   "outputs": [],
   "source": [
    "shortened_options_candidates"
   ]
  },
  {
   "cell_type": "code",
   "execution_count": null,
   "id": "93b06220",
   "metadata": {},
   "outputs": [],
   "source": [
    "candidate_selection_meta = await select_best_candidate(\n",
    "    invocation_id=invocation_id,\n",
    "    model=\"gpt-4o\",\n",
    "    options=options,\n",
    "    option_to_shorten=longer_option_text,\n",
    "    syntactic_rule=identified_rule,\n",
    "    min_target=min_length,\n",
    "    max_target=max_length,\n",
    "    candidates=shortened_options_candidates,\n",
    "    table_name=\"candidate_selection_metadata\",\n",
    "    database_file= '../database/mcq_metadata.db'\n",
    ")  # Returns the best candidate or None    "
   ]
  },
  {
   "cell_type": "code",
   "execution_count": 18,
   "id": "f53c87bc",
   "metadata": {},
   "outputs": [],
   "source": [
    "best_candidate = candidate_selection_meta.get(\"best_candidate\", None)"
   ]
  },
  {
   "cell_type": "code",
   "execution_count": null,
   "id": "6e49bd5e",
   "metadata": {},
   "outputs": [],
   "source": [
    "best_candidate"
   ]
  },
  {
   "cell_type": "code",
   "execution_count": null,
   "id": "3d408ed2",
   "metadata": {},
   "outputs": [],
   "source": [
    "# test the whole pipeline:\n",
    "from src.option_shortener_workflow import check_and_shorten_long_option \n"
   ]
  },
  {
   "cell_type": "code",
   "execution_count": null,
   "id": "4f501dd3",
   "metadata": {},
   "outputs": [],
   "source": [
    "updated_mcq, updated_mcq_answer, token_usage = await check_and_shorten_long_option(\n",
    "    invocation_id=\"test20250910\",\n",
    "    mcq=mcq,    \n",
    "    mcq_answer=mcq_answer,\n",
    "    model=\"gpt-4o\",\n",
    "    )"
   ]
  },
  {
   "cell_type": "code",
   "execution_count": 8,
   "id": "957197b4",
   "metadata": {},
   "outputs": [
    {
     "name": "stdout",
     "output_type": "stream",
     "text": [
      "True\n"
     ]
    }
   ],
   "source": [
    "if token_usage:\n",
    "    print(\"True\")\n",
    "else:\n",
    "    print(\"False\")"
   ]
  },
  {
   "cell_type": "code",
   "execution_count": null,
   "id": "483a4987",
   "metadata": {},
   "outputs": [],
   "source": [
    "print(\"Updated MCQ:\")\n",
    "print(updated_mcq)   \n",
    "print(\"Updated MCQ Answer:\")   \n",
    "print(updated_mcq_answer)\n",
    "print(\"Token usage:\")\n",
    "print(token_usage)"
   ]
  },
  {
   "cell_type": "code",
   "execution_count": 7,
   "id": "f08d9956",
   "metadata": {},
   "outputs": [],
   "source": [
    "mcq2 = '''What function did early exhibitors serve in the showcasing of movies in theaters?\n",
    "    \\nA) They created and pre-recorded the content displayed in theaters.\n",
    "    \\nB) They determined the arrangement of different elements in the film program.\n",
    "    \\nC) They frequently participated in live performances.\n",
    "    \\nD) They offered guidance to filmmakers regarding suitable movie content.'''"
   ]
  },
  {
   "cell_type": "code",
   "execution_count": 12,
   "id": "bb7ae414",
   "metadata": {},
   "outputs": [],
   "source": [
    "mcq_updated_2, token_usage_2 = await check_and_shorten_long_option(\n",
    "    invocation_id=\"test20250910\",\n",
    "    mcq=mcq2,    \n",
    "    model=\"gpt-4o\",\n",
    "    )"
   ]
  },
  {
   "cell_type": "code",
   "execution_count": null,
   "id": "69f76c93",
   "metadata": {},
   "outputs": [],
   "source": [
    "if token_usage_2:\n",
    "    print(\"True\")\n",
    "else:\n",
    "    print(\"False\")"
   ]
  }
 ],
 "metadata": {
  "kernelspec": {
   "display_name": ".venv",
   "language": "python",
   "name": "python3"
  },
  "language_info": {
   "codemirror_mode": {
    "name": "ipython",
    "version": 3
   },
   "file_extension": ".py",
   "mimetype": "text/x-python",
   "name": "python",
   "nbconvert_exporter": "python",
   "pygments_lexer": "ipython3",
   "version": "3.10.3"
  }
 },
 "nbformat": 4,
 "nbformat_minor": 5
}
