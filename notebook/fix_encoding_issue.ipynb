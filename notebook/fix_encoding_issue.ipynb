{
 "cells": [
  {
   "cell_type": "markdown",
   "id": "23cd628a",
   "metadata": {},
   "source": [
    "Encoding issues may occur when text that is originally UTF-8 get decoded or re-opened as Windows-1252/Latin-1 (or you write UTF-8 CSV and Excel guessed ANSI)"
   ]
  },
  {
   "cell_type": "markdown",
   "id": "149ff598",
   "metadata": {},
   "source": [
    "Best practice moving forward: standardize on UTF-8, always pass encoding=\"utf-8\" when reading text, write CSV as utf-8-sig for Excel (or better: .xlsx), and avoid re-saving in editors that default to ANSI."
   ]
  },
  {
   "cell_type": "code",
   "execution_count": 1,
   "id": "07f7c611",
   "metadata": {},
   "outputs": [
    {
     "name": "stdout",
     "output_type": "stream",
     "text": [
      "Requirement already satisfied: ftfy in c:\\users\\ytian126\\documents\\repos\\mcq-generation\\.venv\\lib\\site-packages (6.3.1)\n",
      "Requirement already satisfied: wcwidth in c:\\users\\ytian126\\documents\\repos\\mcq-generation\\.venv\\lib\\site-packages (from ftfy) (0.2.13)\n",
      "Note: you may need to restart the kernel to use updated packages.\n"
     ]
    },
    {
     "name": "stderr",
     "output_type": "stream",
     "text": [
      "WARNING: You are using pip version 22.0.4; however, version 25.2 is available.\n",
      "You should consider upgrading via the 'c:\\Users\\ytian126\\Documents\\repos\\MCQ-generation\\.venv\\Scripts\\python.exe -m pip install --upgrade pip' command.\n"
     ]
    }
   ],
   "source": [
    "%pip install ftfy"
   ]
  },
  {
   "cell_type": "code",
   "execution_count": 8,
   "id": "98520dc1",
   "metadata": {},
   "outputs": [
    {
     "name": "stdout",
     "output_type": "stream",
     "text": [
      "Note: you may need to restart the kernel to use updated packages.Collecting openpyxl\n",
      "  Using cached openpyxl-3.1.5-py2.py3-none-any.whl (250 kB)\n",
      "Collecting et-xmlfile\n",
      "  Using cached et_xmlfile-2.0.0-py3-none-any.whl (18 kB)\n",
      "Installing collected packages: et-xmlfile, openpyxl\n",
      "Successfully installed et-xmlfile-2.0.0 openpyxl-3.1.5\n",
      "\n"
     ]
    },
    {
     "name": "stderr",
     "output_type": "stream",
     "text": [
      "WARNING: You are using pip version 22.0.4; however, version 25.2 is available.\n",
      "You should consider upgrading via the 'c:\\Users\\ytian126\\Documents\\repos\\MCQ-generation\\.venv\\Scripts\\python.exe -m pip install --upgrade pip' command.\n"
     ]
    }
   ],
   "source": [
    "%pip install --upgrade openpyxl"
   ]
  },
  {
   "cell_type": "code",
   "execution_count": 2,
   "id": "b4017917",
   "metadata": {},
   "outputs": [],
   "source": [
    "import logging\n",
    "import re\n",
    "from typing import Sequence\n",
    "from unicodedata import normalize\n",
    "\n",
    "import pandas as pd\n",
    "\n",
    "try:\n",
    "    from ftfy import fix_text as _ftfy_fix\n",
    "    _HAVE_FTFY = True\n",
    "except Exception:  # ftfy not installed; fallback only\n",
    "    _HAVE_FTFY = False\n",
    "    _ftfy_fix = None"
   ]
  },
  {
   "cell_type": "code",
   "execution_count": 3,
   "id": "87df0425",
   "metadata": {},
   "outputs": [],
   "source": [
    "\n",
    "\n",
    "# Heuristic: patterns that strongly suggest mojibake\n",
    "_MOJIBAKE_RE = re.compile(r\"(Ã.|Â|â€™|â€œ|â€”|â€“|â€)\")\n",
    "\n",
    "def _looks_mojibake(s: str) -> bool:\n",
    "    return bool(_MOJIBAKE_RE.search(s))\n",
    "\n",
    "def _redecode_latin1_to_utf8(s: str) -> str:\n",
    "    \"\"\"\n",
    "    Reverse the common failure mode: UTF-8 bytes decoded as Latin-1/cp1252.\n",
    "    Example: 'Isbellâ€™s' -> 'Isbell’s'\n",
    "    \"\"\"\n",
    "    try:\n",
    "        return s.encode(\"latin1\").decode(\"utf-8\")\n",
    "    except UnicodeError:\n",
    "        return s\n",
    "\n",
    "def _repair_string(s: str, *, use_ftfy: bool = True, max_passes: int = 2) -> str:\n",
    "    \"\"\"\n",
    "    Repair mojibake in a single string using:\n",
    "      1) ftfy (if installed),\n",
    "      2) latin1->utf8 re-decode,\n",
    "      3) NFC normalization.\n",
    "    Runs a couple of passes to handle multi-step corruption.\n",
    "    \"\"\"\n",
    "    if not s:\n",
    "        return s\n",
    "    t = s\n",
    "    for _ in range(max_passes):\n",
    "        changed = False\n",
    "\n",
    "        if use_ftfy and _HAVE_FTFY:\n",
    "            t2 = _ftfy_fix(t)\n",
    "            if t2 != t:\n",
    "                t, changed = t2, True\n",
    "\n",
    "        if _looks_mojibake(t):\n",
    "            t2 = _redecode_latin1_to_utf8(t)\n",
    "            if t2 != t:\n",
    "                t, changed = t2, True\n",
    "\n",
    "        if not changed:\n",
    "            break\n",
    "\n",
    "    return normalize(\"NFC\", t)\n",
    "\n",
    "def fix_mojibake_in_columns(\n",
    "    df: pd.DataFrame,\n",
    "    columns: Sequence[str],\n",
    "    *,\n",
    "    use_ftfy: bool = True,\n",
    "    copy: bool = True,\n",
    ") -> pd.DataFrame:\n",
    "    \"\"\"\n",
    "    Fix mojibake/encoding artifacts in the specified text columns.\n",
    "\n",
    "    Parameters\n",
    "    ----------\n",
    "    df : pd.DataFrame\n",
    "        Input dataframe.\n",
    "    columns : Sequence[str]\n",
    "        Column names to clean.\n",
    "    use_ftfy : bool, optional\n",
    "        If True and 'ftfy' is installed, use it as the first pass, by default True.\n",
    "    copy : bool, optional\n",
    "        If True, operate on a copy and return it; else modify in place, by default True.\n",
    "\n",
    "    Returns\n",
    "    -------\n",
    "    pd.DataFrame\n",
    "        Cleaned dataframe (or the same object if copy=False).\n",
    "    \"\"\"\n",
    "    if copy:\n",
    "        df = df.copy()\n",
    "\n",
    "    for col in columns:\n",
    "        if col not in df.columns:\n",
    "            raise KeyError(f\"Column not found: {col}\")\n",
    "        # Only transform strings; leave non-strings as-is\n",
    "        df[col] = df[col].map(\n",
    "            lambda v: _repair_string(v, use_ftfy=use_ftfy) if isinstance(v, str) else v\n",
    "        )\n",
    "\n",
    "    return df\n"
   ]
  },
  {
   "cell_type": "code",
   "execution_count": 5,
   "id": "6e09e4ab",
   "metadata": {},
   "outputs": [],
   "source": [
    "INPUT_CSV = \"./some_recorded_output/source_texts.csv\"\n",
    "OUTPUT_XLSX = \"./some_recorded_output/source_texts_cleaned.xlsx\"\n",
    "df = pd.read_csv(INPUT_CSV)\n",
    "\n"
   ]
  },
  {
   "cell_type": "code",
   "execution_count": 6,
   "id": "c2f0b71e",
   "metadata": {},
   "outputs": [],
   "source": [
    "fixed = fix_mojibake_in_columns(df, [\"text\"])"
   ]
  },
  {
   "cell_type": "code",
   "execution_count": 9,
   "id": "e66e9611",
   "metadata": {},
   "outputs": [],
   "source": [
    "fixed.to_excel(OUTPUT_XLSX, index=False)"
   ]
  },
  {
   "cell_type": "code",
   "execution_count": 36,
   "id": "9c414c93",
   "metadata": {},
   "outputs": [],
   "source": [
    "baseline_input = \"./some_recorded_output/baseline_questions.csv\"\n",
    "requesta_input = \"./some_recorded_output/requesta_mcqs.csv\"\n",
    "baseline_output = \"./some_recorded_output/baseline_questions_cleaned_uuid.xlsx\"\n",
    "requesta_output = \"./some_recorded_output/requesta_mcqs_cleaned_uuid.xlsx\""
   ]
  },
  {
   "cell_type": "code",
   "execution_count": 24,
   "id": "4d3afb25",
   "metadata": {},
   "outputs": [],
   "source": [
    "baseline_input_df = pd.read_csv(baseline_input)\n",
    "requesta_input_df = pd.read_csv(requesta_input)"
   ]
  },
  {
   "cell_type": "code",
   "execution_count": 25,
   "id": "992a1866",
   "metadata": {},
   "outputs": [],
   "source": [
    "def strip_tag(s, tag):\n",
    "    return (s.str.replace(fr\"(?is)</?\\s*{tag}\\b[^>]*>\", \"\", regex=True)\n",
    "             .str.replace(r\"^\\s+|\\s+$\", \"\", regex=True))  # trim\n",
    "\n",
    "baseline_input_df[\"baseline_question\"] = strip_tag(baseline_input_df[\"baseline_question\"], \"QUESTION\")\n",
    "baseline_input_df[\"baseline_answer\"]  = strip_tag(baseline_input_df[\"baseline_answer\"],  \"ANSWER\")"
   ]
  },
  {
   "cell_type": "code",
   "execution_count": 26,
   "id": "d61390ab",
   "metadata": {},
   "outputs": [
    {
     "data": {
      "text/plain": [
       "0     C) They are more social and use a wide variety...\n",
       "1     B) They contributed to the development of huma...\n",
       "2            C) The survival of primates is threatened.\n",
       "3     D) To learn how certain genes and traits are d...\n",
       "4     C) The exploration of human origins, evolution...\n",
       "                            ...                        \n",
       "95                                    C) Studying twins\n",
       "96                                              D) 2003\n",
       "97    B) Genetics plays a significant role in shapin...\n",
       "98    D) Socialization reproduces inequality by conv...\n",
       "99    C) Both nature and nurture play significant ro...\n",
       "Name: baseline_answer, Length: 100, dtype: object"
      ]
     },
     "execution_count": 26,
     "metadata": {},
     "output_type": "execute_result"
    }
   ],
   "source": [
    "baseline_input_df[\"baseline_answer\"]"
   ]
  },
  {
   "cell_type": "code",
   "execution_count": 27,
   "id": "8db1aaf4",
   "metadata": {},
   "outputs": [],
   "source": [
    "baseline_fixed = fix_mojibake_in_columns(baseline_input_df, [\"text\", \"baseline_question\", \"baseline_answer\"])\n",
    "requesta_fixed = fix_mojibake_in_columns(requesta_input_df, [\"text\", \"requesta_question\", \"requesta_answer\"])"
   ]
  },
  {
   "cell_type": "code",
   "execution_count": 33,
   "id": "8e33a5fa",
   "metadata": {},
   "outputs": [],
   "source": [
    "# add a question_id_uuid column to requesta_fixed\n",
    "# use uuid4 to generate unique ids\n",
    "\n",
    "import uuid \n",
    "question_uuids = [str(uuid.uuid4()) for _ in range(len(requesta_fixed))]\n",
    "requesta_fixed.insert(0, \"question_uuid\", \n",
    "                     question_uuids)\n"
   ]
  },
  {
   "cell_type": "code",
   "execution_count": 34,
   "id": "aad4e231",
   "metadata": {},
   "outputs": [
    {
     "data": {
      "text/html": [
       "<div>\n",
       "<style scoped>\n",
       "    .dataframe tbody tr th:only-of-type {\n",
       "        vertical-align: middle;\n",
       "    }\n",
       "\n",
       "    .dataframe tbody tr th {\n",
       "        vertical-align: top;\n",
       "    }\n",
       "\n",
       "    .dataframe thead th {\n",
       "        text-align: right;\n",
       "    }\n",
       "</style>\n",
       "<table border=\"1\" class=\"dataframe\">\n",
       "  <thead>\n",
       "    <tr style=\"text-align: right;\">\n",
       "      <th></th>\n",
       "      <th>question_uuid</th>\n",
       "      <th>question_id</th>\n",
       "      <th>textID</th>\n",
       "      <th>text</th>\n",
       "      <th>requesta_question_type</th>\n",
       "      <th>requesta_question</th>\n",
       "      <th>requesta_answer</th>\n",
       "    </tr>\n",
       "  </thead>\n",
       "  <tbody>\n",
       "    <tr>\n",
       "      <th>0</th>\n",
       "      <td>7702d5f4-57a7-48da-abc2-2fe7c197a530</td>\n",
       "      <td>requesta_anthropology_1_2_1</td>\n",
       "      <td>anthropology_1_2</td>\n",
       "      <td>Biological anthropology focuses on the earlies...</td>\n",
       "      <td>fact</td>\n",
       "      <td>Q1: Which combination of research approaches i...</td>\n",
       "      <td>Q1: B) Fossil record, genetic data, primate st...</td>\n",
       "    </tr>\n",
       "    <tr>\n",
       "      <th>1</th>\n",
       "      <td>97dec8f5-d6ef-4566-9637-5af9ea6db9dd</td>\n",
       "      <td>requesta_anthropology_1_2_2</td>\n",
       "      <td>anthropology_1_2</td>\n",
       "      <td>Biological anthropology focuses on the earlies...</td>\n",
       "      <td>fact</td>\n",
       "      <td>Q2: What adaptations does Isbell's snake detec...</td>\n",
       "      <td>Q2: D) Refined vision and communication to war...</td>\n",
       "    </tr>\n",
       "    <tr>\n",
       "      <th>2</th>\n",
       "      <td>b1059eba-5c49-4c6d-98eb-2748d2394fe9</td>\n",
       "      <td>requesta_anthropology_1_2_3</td>\n",
       "      <td>anthropology_1_2</td>\n",
       "      <td>Biological anthropology focuses on the earlies...</td>\n",
       "      <td>inference</td>\n",
       "      <td>Q3: Which inference is best supported by van S...</td>\n",
       "      <td>Q3: A) Cultural learning and problem-solving l...</td>\n",
       "    </tr>\n",
       "    <tr>\n",
       "      <th>3</th>\n",
       "      <td>5ed6ec45-7a03-4b1a-96d4-88745e3efcd7</td>\n",
       "      <td>requesta_anthropology_1_2_4</td>\n",
       "      <td>anthropology_1_2</td>\n",
       "      <td>Biological anthropology focuses on the earlies...</td>\n",
       "      <td>inference</td>\n",
       "      <td>Q4: If the pressures of habitat loss, illegal ...</td>\n",
       "      <td>Q4: B) Diminished access to living comparative...</td>\n",
       "    </tr>\n",
       "    <tr>\n",
       "      <th>4</th>\n",
       "      <td>7127c216-c5ab-4670-8866-29bf76d31341</td>\n",
       "      <td>requesta_anthropology_1_2_5</td>\n",
       "      <td>anthropology_1_2</td>\n",
       "      <td>Biological anthropology focuses on the earlies...</td>\n",
       "      <td>main_idea</td>\n",
       "      <td>Q5: Which statement best summarizes the text?\\...</td>\n",
       "      <td>Q5: A) Biological anthropology integrates evid...</td>\n",
       "    </tr>\n",
       "  </tbody>\n",
       "</table>\n",
       "</div>"
      ],
      "text/plain": [
       "                          question_uuid                  question_id  \\\n",
       "0  7702d5f4-57a7-48da-abc2-2fe7c197a530  requesta_anthropology_1_2_1   \n",
       "1  97dec8f5-d6ef-4566-9637-5af9ea6db9dd  requesta_anthropology_1_2_2   \n",
       "2  b1059eba-5c49-4c6d-98eb-2748d2394fe9  requesta_anthropology_1_2_3   \n",
       "3  5ed6ec45-7a03-4b1a-96d4-88745e3efcd7  requesta_anthropology_1_2_4   \n",
       "4  7127c216-c5ab-4670-8866-29bf76d31341  requesta_anthropology_1_2_5   \n",
       "\n",
       "             textID                                               text  \\\n",
       "0  anthropology_1_2  Biological anthropology focuses on the earlies...   \n",
       "1  anthropology_1_2  Biological anthropology focuses on the earlies...   \n",
       "2  anthropology_1_2  Biological anthropology focuses on the earlies...   \n",
       "3  anthropology_1_2  Biological anthropology focuses on the earlies...   \n",
       "4  anthropology_1_2  Biological anthropology focuses on the earlies...   \n",
       "\n",
       "  requesta_question_type                                  requesta_question  \\\n",
       "0                   fact  Q1: Which combination of research approaches i...   \n",
       "1                   fact  Q2: What adaptations does Isbell's snake detec...   \n",
       "2              inference  Q3: Which inference is best supported by van S...   \n",
       "3              inference  Q4: If the pressures of habitat loss, illegal ...   \n",
       "4              main_idea  Q5: Which statement best summarizes the text?\\...   \n",
       "\n",
       "                                     requesta_answer  \n",
       "0  Q1: B) Fossil record, genetic data, primate st...  \n",
       "1  Q2: D) Refined vision and communication to war...  \n",
       "2  Q3: A) Cultural learning and problem-solving l...  \n",
       "3  Q4: B) Diminished access to living comparative...  \n",
       "4  Q5: A) Biological anthropology integrates evid...  "
      ]
     },
     "execution_count": 34,
     "metadata": {},
     "output_type": "execute_result"
    }
   ],
   "source": [
    "requesta_fixed.head()"
   ]
  },
  {
   "cell_type": "code",
   "execution_count": 35,
   "id": "3fe8528a",
   "metadata": {},
   "outputs": [],
   "source": [
    "# add a question_id_uuid column to baseline_fixed\n",
    "# use uuid4 to generate unique ids\n",
    "baseline_fixed.insert(0, \"question_uuid\", \n",
    "                      [str(uuid.uuid4()) for _ in range(len(baseline_fixed))])\n"
   ]
  },
  {
   "cell_type": "code",
   "execution_count": 37,
   "id": "c97b7596",
   "metadata": {},
   "outputs": [
    {
     "data": {
      "text/html": [
       "<div>\n",
       "<style scoped>\n",
       "    .dataframe tbody tr th:only-of-type {\n",
       "        vertical-align: middle;\n",
       "    }\n",
       "\n",
       "    .dataframe tbody tr th {\n",
       "        vertical-align: top;\n",
       "    }\n",
       "\n",
       "    .dataframe thead th {\n",
       "        text-align: right;\n",
       "    }\n",
       "</style>\n",
       "<table border=\"1\" class=\"dataframe\">\n",
       "  <thead>\n",
       "    <tr style=\"text-align: right;\">\n",
       "      <th></th>\n",
       "      <th>question_uuid</th>\n",
       "      <th>question_id</th>\n",
       "      <th>textID</th>\n",
       "      <th>text</th>\n",
       "      <th>baseline_question_type</th>\n",
       "      <th>baseline_question</th>\n",
       "      <th>baseline_answer</th>\n",
       "    </tr>\n",
       "  </thead>\n",
       "  <tbody>\n",
       "    <tr>\n",
       "      <th>0</th>\n",
       "      <td>2d1c8f3b-187a-4a2a-b326-c7ac0206ef75</td>\n",
       "      <td>baseline_anthropology_1_2_1</td>\n",
       "      <td>anthropology_1_2</td>\n",
       "      <td>Biological anthropology focuses on the earlies...</td>\n",
       "      <td>factual</td>\n",
       "      <td>What did Carel van Schaik discover about orang...</td>\n",
       "      <td>C) They are more social and use a wide variety...</td>\n",
       "    </tr>\n",
       "    <tr>\n",
       "      <th>1</th>\n",
       "      <td>eeff2c44-7c35-4561-a41a-b200e295bfde</td>\n",
       "      <td>baseline_anthropology_1_2_2</td>\n",
       "      <td>anthropology_1_2</td>\n",
       "      <td>Biological anthropology focuses on the earlies...</td>\n",
       "      <td>factual</td>\n",
       "      <td>According to Lynne Isbell, what role did snake...</td>\n",
       "      <td>B) They contributed to the development of huma...</td>\n",
       "    </tr>\n",
       "    <tr>\n",
       "      <th>2</th>\n",
       "      <td>e7152717-7f6e-464f-8dca-89b2ed2097ba</td>\n",
       "      <td>baseline_anthropology_1_2_3</td>\n",
       "      <td>anthropology_1_2</td>\n",
       "      <td>Biological anthropology focuses on the earlies...</td>\n",
       "      <td>inferential</td>\n",
       "      <td>What might be a consequence of habitat loss an...</td>\n",
       "      <td>C) The survival of primates is threatened.</td>\n",
       "    </tr>\n",
       "    <tr>\n",
       "      <th>3</th>\n",
       "      <td>927b3c6e-25a6-42a7-8c86-a9fd0962cb87</td>\n",
       "      <td>baseline_anthropology_1_2_4</td>\n",
       "      <td>anthropology_1_2</td>\n",
       "      <td>Biological anthropology focuses on the earlies...</td>\n",
       "      <td>inferential</td>\n",
       "      <td>Why might biological anthropologists study the...</td>\n",
       "      <td>D) To learn how certain genes and traits are d...</td>\n",
       "    </tr>\n",
       "    <tr>\n",
       "      <th>4</th>\n",
       "      <td>640a7dce-9c07-441e-a806-957d52dc8d09</td>\n",
       "      <td>baseline_anthropology_1_2_5</td>\n",
       "      <td>anthropology_1_2</td>\n",
       "      <td>Biological anthropology focuses on the earlies...</td>\n",
       "      <td>main idea</td>\n",
       "      <td>What is the main focus of the text on biologic...</td>\n",
       "      <td>C) The exploration of human origins, evolution...</td>\n",
       "    </tr>\n",
       "  </tbody>\n",
       "</table>\n",
       "</div>"
      ],
      "text/plain": [
       "                          question_uuid                  question_id  \\\n",
       "0  2d1c8f3b-187a-4a2a-b326-c7ac0206ef75  baseline_anthropology_1_2_1   \n",
       "1  eeff2c44-7c35-4561-a41a-b200e295bfde  baseline_anthropology_1_2_2   \n",
       "2  e7152717-7f6e-464f-8dca-89b2ed2097ba  baseline_anthropology_1_2_3   \n",
       "3  927b3c6e-25a6-42a7-8c86-a9fd0962cb87  baseline_anthropology_1_2_4   \n",
       "4  640a7dce-9c07-441e-a806-957d52dc8d09  baseline_anthropology_1_2_5   \n",
       "\n",
       "             textID                                               text  \\\n",
       "0  anthropology_1_2  Biological anthropology focuses on the earlies...   \n",
       "1  anthropology_1_2  Biological anthropology focuses on the earlies...   \n",
       "2  anthropology_1_2  Biological anthropology focuses on the earlies...   \n",
       "3  anthropology_1_2  Biological anthropology focuses on the earlies...   \n",
       "4  anthropology_1_2  Biological anthropology focuses on the earlies...   \n",
       "\n",
       "  baseline_question_type                                  baseline_question  \\\n",
       "0                factual  What did Carel van Schaik discover about orang...   \n",
       "1                factual  According to Lynne Isbell, what role did snake...   \n",
       "2            inferential  What might be a consequence of habitat loss an...   \n",
       "3            inferential  Why might biological anthropologists study the...   \n",
       "4              main idea  What is the main focus of the text on biologic...   \n",
       "\n",
       "                                     baseline_answer  \n",
       "0  C) They are more social and use a wide variety...  \n",
       "1  B) They contributed to the development of huma...  \n",
       "2         C) The survival of primates is threatened.  \n",
       "3  D) To learn how certain genes and traits are d...  \n",
       "4  C) The exploration of human origins, evolution...  "
      ]
     },
     "execution_count": 37,
     "metadata": {},
     "output_type": "execute_result"
    }
   ],
   "source": [
    "baseline_fixed.head()"
   ]
  },
  {
   "cell_type": "code",
   "execution_count": 38,
   "id": "87719e1f",
   "metadata": {},
   "outputs": [],
   "source": [
    "# write out\n",
    "baseline_fixed.to_excel(baseline_output, index=False)\n",
    "requesta_fixed.to_excel(requesta_output, index=False)"
   ]
  }
 ],
 "metadata": {
  "kernelspec": {
   "display_name": ".venv",
   "language": "python",
   "name": "python3"
  },
  "language_info": {
   "codemirror_mode": {
    "name": "ipython",
    "version": 3
   },
   "file_extension": ".py",
   "mimetype": "text/x-python",
   "name": "python",
   "nbconvert_exporter": "python",
   "pygments_lexer": "ipython3",
   "version": "3.10.3"
  }
 },
 "nbformat": 4,
 "nbformat_minor": 5
}
