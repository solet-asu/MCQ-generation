{
 "cells": [
  {
   "cell_type": "code",
   "execution_count": 1,
   "metadata": {},
   "outputs": [],
   "source": [
    "from src.mcq_generation import *"
   ]
  },
  {
   "cell_type": "code",
   "execution_count": 11,
   "metadata": {},
   "outputs": [],
   "source": [
    "table_name = 'mcq_metadata'\n",
    "database_file = \"../database/mcq_metadata.db\""
   ]
  },
  {
   "cell_type": "code",
   "execution_count": 4,
   "metadata": {},
   "outputs": [
    {
     "data": {
      "text/plain": [
       "True"
      ]
     },
     "execution_count": 4,
     "metadata": {},
     "output_type": "execute_result"
    }
   ],
   "source": [
    "table_exists(table_name, database_file)"
   ]
  },
  {
   "cell_type": "code",
   "execution_count": 4,
   "metadata": {},
   "outputs": [],
   "source": [
    "from src.database_query import *"
   ]
  },
  {
   "cell_type": "code",
   "execution_count": 5,
   "metadata": {},
   "outputs": [
    {
     "name": "stdout",
     "output_type": "stream",
     "text": [
      "Exported 7 rows to ../output\\20250414_mcq_metadata.csv\n"
     ]
    }
   ],
   "source": [
    "export_table_to_csv(\"mcq_metadata\", \"20250414_mcq_metadata.csv\")"
   ]
  },
  {
   "cell_type": "code",
   "execution_count": 5,
   "metadata": {},
   "outputs": [],
   "source": [
    "# Example usage of the function\n",
    "extraction_list = get_extraction_values()"
   ]
  },
  {
   "cell_type": "code",
   "execution_count": 6,
   "metadata": {},
   "outputs": [
    {
     "data": {
      "text/plain": [
       "['What is the likely outcome when organisms fail to capture and consume all available food at a trophic level, as mentioned in the text?\\nA) Populations at higher trophic levels increase rapidly.\\nB) Energy transfer from one trophic level to the next is more efficient.\\nC) The total energy available to organisms decreases at each successive trophic level.\\nD) Ecologists find it challenging to construct ecological pyramids accurately.',\n",
       " 'A) Decrease in biodiversity\\nB) Increase in energy transfer efficiency\\nC) Higher population sizes at higher trophic levels\\nD) Release of energy as heat into the environment',\n",
       " 'Based on the provided text, why do organisms fail to capture and eat all the food available at the trophic level below them in an ecosystem?\\nA) Lack of appetite\\nB) Inefficiency in digestion\\nC) Overpopulation at lower trophic levels\\nD) Excessive energy consumption\\nE) Environmental changes affecting food availability']"
      ]
     },
     "execution_count": 6,
     "metadata": {},
     "output_type": "execute_result"
    }
   ],
   "source": [
    "extraction_list"
   ]
  },
  {
   "cell_type": "code",
   "execution_count": 1,
   "metadata": {},
   "outputs": [],
   "source": [
    "from src.mcq_generation import generate_mcq\n",
    "from src.general import *"
   ]
  },
  {
   "cell_type": "code",
   "execution_count": 2,
   "metadata": {},
   "outputs": [],
   "source": [
    "# get all the files in data folder\n",
    "files_to_process =  get_files_in_directory(\"../data/\")\n",
    "text = read_text_file(files_to_process[0])"
   ]
  },
  {
   "cell_type": "code",
   "execution_count": 3,
   "metadata": {},
   "outputs": [
    {
     "data": {
      "text/plain": [
       "'Energy and trophic levels: Ecological pyramids How can you show how energy is used in an ecosystem? Ecologists use food chains and food webs to model the distribution of matter and energy within an ecosystem. They also use another kind of model, called an ecological pyramid. An ecological pyramid shows how energy flows through an ecosystem. The base of the ecological pyramid represents the autotrophs, or first trophic level. Higher trophic levels are layered on top of one another. The initial source of energy for all ecological pyramids is energy from the sun. Energy decreases at each succeeding trophic level. The total energy transfer from one trophic level to the next is only about ten percent because organisms fail to capture and eat all the food available at the trophic level below them. When an organism consumes food, it uses some of the energy in the food for metabolism, some for building body tissues, and some is given off as waste. When the organism is eaten, the energy that was used to build body tissue is available as energy to be used by the organism that consumed it. The energy lost at each successive trophic level enters the environment as heat. Ecologists construct a pyramid of numbers based on the population sizes of organisms in each trophic level. Sometimes population sizes decrease at each higher trophic level. This is not always true. For example, one tree can be food for 50,000 insects. In this case, the pyramid would be inverted. A pyramid of biomass expresses the weight of living material at each trophic level. Ecologists calculate the biomass at each trophic level by finding the average weight of each species at that trophic level and multiplying by the estimated number of organisms in each population.'"
      ]
     },
     "execution_count": 3,
     "metadata": {},
     "output_type": "execute_result"
    }
   ],
   "source": [
    "text"
   ]
  },
  {
   "cell_type": "code",
   "execution_count": 5,
   "metadata": {},
   "outputs": [],
   "source": [
    "table_name = 'mcq_metadata'\n",
    "database_file = \"../database/mcq_metadata.db\""
   ]
  },
  {
   "cell_type": "code",
   "execution_count": 6,
   "metadata": {},
   "outputs": [
    {
     "data": {
      "text/plain": [
       "{'system_prompt': '[ROLE]:\\nYou are an experienced college instructor. You are an expert in writing multiple-choice questions to assess students’ understanding of academic texts (e.g., chapters in textbooks, academic articles).\\n\\n[TASK]:\\nYou are asked to write an inferential multiple-choice question based on an academic text provided by the user. \\nFollow the guidelines in [GUIDELINES] to do exactly what you are instructed to do. \\n\\n[DEFINITION]\\n**What are inferential questions?**\\nInferential questions require students to go beyond the explicit information in a text and draw conclusions based on evidence, reasoning, and prior knowledge. Unlike literal questions, which ask for directly stated facts, inferential questions challenge students to interpret, analyze, or predict based on textual clues.\\nFor example, \\nExcerpt:\\n\"Studies have shown that prolonged exposure to stress can negatively impact cognitive function, particularly memory and decision-making. This is because chronic stress leads to an overproduction of cortisol, a hormone that, in excessive amounts, has been linked to neural atrophy in the hippocampus, a brain region crucial for memory formation.\"\\nLiteral Question:\\n\"According to the passage, what is one effect of chronic stress on the brain?\"\\n(Answer: Neural atrophy in the hippocampus, affecting memory formation.)\\nInferential Question:\\n\"Based on the passage, why might individuals in high-stress professions experience difficulty making decisions?\"\\n(Reasoning and Answer: The passage states that chronic stress impairs cognitive functions like decision-making. Since high-stress professions expose individuals to prolonged stress, they may experience cognitive difficulties due to excessive cortisol affecting brain regions involved in these functions.)\\n\\n[GUIDELINES]\\nStep1: Summarize your understanding of what inferential questions are. \\nStep2: Identify a key inference based on the TEXT and write an inferential question following the principles below: \\n  - Make the inference clear, objective, and unambiguous.\\n  - Keep the wording concise.\\n  - Try to avoid negative constructions (e.g., words like “not” or “except”).\\n  - Ensure the inference requires understanding of multiple sentences in the TEXT.\\nStep3: Provide a correct answer to the inferential question based on the TEXT. The correct answer should:\\n  - Be indisputably correct based on the TEXT.\\n  - Try not to use words that are in the question.\\n  - Avoid using determinative words such as always, never, absolutely.\\n  - Avoid wording that could make multiple answers seem correct.\\nStep4: Provide three plausible distractors based on the TEXT. The distractors should:\\n  - Be plausible but incorrect based on the TEXT.\\n  - Avoid obviously wrong or ridiculous choices.\\n  - Use common misconceptions or similar-sounding terms.\\n  - Be approximately the same number of words as the answer. \\n  - Be independent of the answer.\\n Step5: Shuffle the answer and distractors to create a list of four options (A, B, C, D).\\n\\nPrint out your reasoning BEFORE you print out the mutliple-choice inferential question. \\n\\nIMPORTANT: \\n1) Wrap up the multiple-choice inferential question within <QUESTION></QUESTION> tags. The stem SHOULD be included in the <QUESTION> tags. Example:\\n<QUESTION>Based on the passage, what is the likely cause of the decrease in energy at each succeeding trophic level in an ecosystem?\\n  \\\\nA) The inefficient capture and consumption of food by organisms\\n  \\\\nB) The availability of sunlight for photosynthesis\\n  \\\\nC) The decrease in the number of autotrophs\\n  \\\\nD) The high metabolic rate of consumers</QUESTION>\\n2) Wrap up the correct answer within <ANSWER></ANSWER> tags. The answer should contain the letter of the correct answer (A, B, C, or D) and the text of the correct answer. Example:\\n<ANSWER>A) The inefficient capture and consumption of food by organisms</ANSWER>\\n',\n",
       " 'user_prompt': '<text>\\nEnergy and trophic levels: Ecological pyramids How can you show how energy is used in an ecosystem? Ecologists use food chains and food webs to model the distribution of matter and energy within an ecosystem. They also use another kind of model, called an ecological pyramid. An ecological pyramid shows how energy flows through an ecosystem. The base of the ecological pyramid represents the autotrophs, or first trophic level. Higher trophic levels are layered on top of one another. The initial source of energy for all ecological pyramids is energy from the sun. Energy decreases at each succeeding trophic level. The total energy transfer from one trophic level to the next is only about ten percent because organisms fail to capture and eat all the food available at the trophic level below them. When an organism consumes food, it uses some of the energy in the food for metabolism, some for building body tissues, and some is given off as waste. When the organism is eaten, the energy that was used to build body tissue is available as energy to be used by the organism that consumed it. The energy lost at each successive trophic level enters the environment as heat. Ecologists construct a pyramid of numbers based on the population sizes of organisms in each trophic level. Sometimes population sizes decrease at each higher trophic level. This is not always true. For example, one tree can be food for 50,000 insects. In this case, the pyramid would be inverted. A pyramid of biomass expresses the weight of living material at each trophic level. Ecologists calculate the biomass at each trophic level by finding the average weight of each species at that trophic level and multiplying by the estimated number of organisms in each population.\\n</text>\\n',\n",
       " 'model': 'gpt-4o',\n",
       " 'completion': '**Step 1: Summarize your understanding of what inferential questions are.**\\n\\nInferential questions require students to draw conclusions or make interpretations based on evidence and reasoning provided in the text, rather than relying solely on explicitly stated information. These questions challenge students to connect various pieces of information and understand underlying concepts.\\n\\n**Step 2: Identify a key inference based on the TEXT and write an inferential question.**\\n\\nBased on the TEXT, it can be inferred that ecological pyramids may vary in their structure depending on specific conditions like the type of organisms present and their biomass. The TEXT mentions that ecological pyramids can be inverted in some cases, such as when one tree feeds a large number of insects, impacting the representation of energy flow or biomass at different trophic levels. \\n\\nInferential Question:\\n<QUESTION>Based on the passage, how can the structure of an ecological pyramid become inverted?\\n  \\\\nA) When there are fewer autotrophs compared to consumer organisms\\n  \\\\nB) When a single organism supports a large number of consumers\\n  \\\\nC) When energy is transferred entirely as heat\\n  \\\\nD) When organisms do not capture all available food</QUESTION>\\n\\n**Step 3: Provide a correct answer to the inferential question based on the TEXT.**\\n\\n<ANSWER>B) When a single organism supports a large number of consumers</ANSWER>\\n\\n**Step 4: Provide three plausible distractors based on the TEXT.**\\n\\n- A) When there are fewer autotrophs compared to consumer organisms\\n- C) When energy is transferred entirely as heat\\n- D) When organisms do not capture all available food\\n\\n**Step 5: Shuffle the answer and distractors to create a list of four options (A, B, C, D).**\\n\\n<QUESTION>Based on the passage, how can the structure of an ecological pyramid become inverted?\\n  \\\\nA) When a single organism supports a large number of consumers\\n  \\\\nB) When energy is transferred entirely as heat\\n  \\\\nC) When there are fewer autotrophs compared to consumer organisms\\n  \\\\nD) When organisms do not capture all available food</QUESTION>\\n\\n<ANSWER>A) When a single organism supports a large number of consumers</ANSWER>',\n",
       " 'execution_time': '0:00:17.548046',\n",
       " 'input_tokens': 1144,\n",
       " 'output_tokens': 459,\n",
       " 'question_type': 'inference',\n",
       " 'mcq': 'Based on the passage, how can the structure of an ecological pyramid become inverted?\\n  \\nA) When there are fewer autotrophs compared to consumer organisms\\n  \\nB) When a single organism supports a large number of consumers\\n  \\nC) When energy is transferred entirely as heat\\n  \\nD) When organisms do not capture all available food',\n",
       " 'mcq_answer': 'B) When a single organism supports a large number of consumers'}"
      ]
     },
     "execution_count": 6,
     "metadata": {},
     "output_type": "execute_result"
    }
   ],
   "source": [
    "generate_mcq(text, question_type=\"inference\", table_name=table_name, database_file=database_file)"
   ]
  },
  {
   "cell_type": "code",
   "execution_count": 5,
   "metadata": {},
   "outputs": [],
   "source": [
    "from src.prompt_fetch import *\n",
    "from src.agent import Agent\n",
    "from src.general import *"
   ]
  },
  {
   "cell_type": "code",
   "execution_count": 6,
   "metadata": {},
   "outputs": [],
   "source": [
    "# get all the files in data folder\n",
    "files_to_process =  get_files_in_directory(\"../data/\")\n"
   ]
  },
  {
   "cell_type": "code",
   "execution_count": 7,
   "metadata": {},
   "outputs": [
    {
     "data": {
      "text/plain": [
       "['../data/text1.txt']"
      ]
     },
     "execution_count": 7,
     "metadata": {},
     "output_type": "execute_result"
    }
   ],
   "source": [
    "files_to_process"
   ]
  },
  {
   "cell_type": "code",
   "execution_count": 9,
   "metadata": {},
   "outputs": [],
   "source": [
    "# get prompts \n",
    "prompts = get_prompts(\"inference_prompts.yaml\")"
   ]
  },
  {
   "cell_type": "code",
   "execution_count": 10,
   "metadata": {},
   "outputs": [
    {
     "data": {
      "text/plain": [
       "{'system_prompt': '[ROLE]:\\nYou are an experienced college instructor. You are an expert in writing multiple-choice questions to assess students’ understanding of academic texts (e.g., chapters in textbooks, academic articles).\\n\\n[TASK]:\\nYou are asked to write an inferential multiple-choice question based on an academic text provided by the user. \\nFollow the guidelines in [GUIDELINES] to do exactly what you are instructed to do. \\n\\n[DEFINITION]\\n**What are inferential questions?**\\nInferential questions require students to go beyond the explicit information in a text and draw conclusions based on evidence, reasoning, and prior knowledge. Unlike literal questions, which ask for directly stated facts, inferential questions challenge students to interpret, analyze, or predict based on textual clues.\\nFor example, \\nExcerpt:\\n\"Studies have shown that prolonged exposure to stress can negatively impact cognitive function, particularly memory and decision-making. This is because chronic stress leads to an overproduction of cortisol, a hormone that, in excessive amounts, has been linked to neural atrophy in the hippocampus, a brain region crucial for memory formation.\"\\nLiteral Question:\\n\"According to the passage, what is one effect of chronic stress on the brain?\"\\n(Answer: Neural atrophy in the hippocampus, affecting memory formation.)\\nInferential Question:\\n\"Based on the passage, why might individuals in high-stress professions experience difficulty making decisions?\"\\n(Answer: The passage states that chronic stress impairs cognitive functions like decision-making. Since high-stress professions expose individuals to prolonged stress, they may experience cognitive difficulties due to excessive cortisol affecting brain regions involved in these functions.)\\n\\n**What is cause-and-effect inference?**\\nDefinition: Identifying unstated causes or effects based on textual evidence.\\nExample Question: What is the likely cause of X, given the author’s argument?\\nExample Application:\\nText: Prolonged exposure to air pollution has been linked to cognitive decline in older adults.\\nInference: Long-term air pollution exposure may impair brain function.\\n\\n[GUIDELINES]\\nStep1: Summarize your understanding of what inferential questions are and what is cause-and-effect inference. \\nStep 2: Based on your understanding of what inferential questions are, generate one mutliple-choice inferential question based on the text provided by the user. This questions should be cause-and-effect inference.  \\nPrint out your reasoning BEFORE you print out the mutliple-choice inferential question. \\nwrap up the multiple-choice inferential question within <MCQ></MCQ> tags.\\n',\n",
       " 'user_prompt': '<text>\\n{text}\\n</text>\\n'}"
      ]
     },
     "execution_count": 10,
     "metadata": {},
     "output_type": "execute_result"
    }
   ],
   "source": [
    "prompts"
   ]
  },
  {
   "cell_type": "code",
   "execution_count": 11,
   "metadata": {},
   "outputs": [],
   "source": [
    "text = read_text_file(files_to_process[0])"
   ]
  },
  {
   "cell_type": "code",
   "execution_count": 12,
   "metadata": {},
   "outputs": [
    {
     "data": {
      "text/plain": [
       "'Energy and trophic levels: Ecological pyramids How can you show how energy is used in an ecosystem? Ecologists use food chains and food webs to model the distribution of matter and energy within an ecosystem. They also use another kind of model, called an ecological pyramid. An ecological pyramid shows how energy flows through an ecosystem. The base of the ecological pyramid represents the autotrophs, or first trophic level. Higher trophic levels are layered on top of one another. The initial source of energy for all ecological pyramids is energy from the sun. Energy decreases at each succeeding trophic level. The total energy transfer from one trophic level to the next is only about ten percent because organisms fail to capture and eat all the food available at the trophic level below them. When an organism consumes food, it uses some of the energy in the food for metabolism, some for building body tissues, and some is given off as waste. When the organism is eaten, the energy that was used to build body tissue is available as energy to be used by the organism that consumed it. The energy lost at each successive trophic level enters the environment as heat. Ecologists construct a pyramid of numbers based on the population sizes of organisms in each trophic level. Sometimes population sizes decrease at each higher trophic level. This is not always true. For example, one tree can be food for 50,000 insects. In this case, the pyramid would be inverted. A pyramid of biomass expresses the weight of living material at each trophic level. Ecologists calculate the biomass at each trophic level by finding the average weight of each species at that trophic level and multiplying by the estimated number of organisms in each population.'"
      ]
     },
     "execution_count": 12,
     "metadata": {},
     "output_type": "execute_result"
    }
   ],
   "source": [
    "text"
   ]
  },
  {
   "cell_type": "code",
   "execution_count": 14,
   "metadata": {},
   "outputs": [],
   "source": [
    "model = \"gpt-3.5-turbo\"\n",
    "system_prompt = prompts[\"system_prompt\"]\n",
    "user_prompt = prompts[\"user_prompt\"].format(text=text)"
   ]
  },
  {
   "cell_type": "code",
   "execution_count": 15,
   "metadata": {},
   "outputs": [],
   "source": [
    "test_agent = Agent(model=model, system_prompt=system_prompt, user_prompt=user_prompt)"
   ]
  },
  {
   "cell_type": "code",
   "execution_count": 16,
   "metadata": {},
   "outputs": [
    {
     "data": {
      "text/plain": [
       "'**Inferential Multiple-Choice Question:** \\nWhat is the likely effect of organisms failing to capture and eat all the food available at a trophic level, as described in the text?\\n\\nA) It leads to an increase in biomass at higher trophic levels.\\nB) It results in a decrease in population sizes at higher trophic levels.\\nC) It causes a surplus of available energy at lower trophic levels.\\nD) It contributes to a redistribution of energy as heat into the environment.\\n\\nAnswer: D) It contributes to a redistribution of energy as heat into the environment.'"
      ]
     },
     "execution_count": 16,
     "metadata": {},
     "output_type": "execute_result"
    }
   ],
   "source": [
    "test_agent.completion_generation()"
   ]
  },
  {
   "cell_type": "code",
   "execution_count": 13,
   "metadata": {},
   "outputs": [
    {
     "data": {
      "text/plain": [
       "{'task': None,\n",
       " 'system_prompt': '[ROLE]:\\nYou are an experienced college instructor. You are an expert in writing multiple-choice questions to assess students’ understanding of academic texts (e.g., chapters in textbooks, academic articles).\\n\\n[TASK]:\\nYou are asked to write an inferential multiple-choice question based on an academic text provided by the user. \\nFollow the guidelines in [GUIDELINES] to do exactly what you are instructed to do. \\n\\n[DEFINITION]\\n**What are inferential questions?**\\nInferential questions require students to go beyond the explicit information in a text and draw conclusions based on evidence, reasoning, and prior knowledge. Unlike literal questions, which ask for directly stated facts, inferential questions challenge students to interpret, analyze, or predict based on textual clues.\\nFor example, \\nExcerpt:\\n\"Studies have shown that prolonged exposure to stress can negatively impact cognitive function, particularly memory and decision-making. This is because chronic stress leads to an overproduction of cortisol, a hormone that, in excessive amounts, has been linked to neural atrophy in the hippocampus, a brain region crucial for memory formation.\"\\nLiteral Question:\\n\"According to the passage, what is one effect of chronic stress on the brain?\"\\n(Answer: Neural atrophy in the hippocampus, affecting memory formation.)\\nInferential Question:\\n\"Based on the passage, why might individuals in high-stress professions experience difficulty making decisions?\"\\n(Answer: The passage states that chronic stress impairs cognitive functions like decision-making. Since high-stress professions expose individuals to prolonged stress, they may experience cognitive difficulties due to excessive cortisol affecting brain regions involved in these functions.)\\n\\n**What is cause-and-effect inference?**\\nDefinition: Identifying unstated causes or effects based on textual evidence.\\nExample Question: What is the likely cause of X, given the author’s argument?\\nExample Application:\\nText: Prolonged exposure to air pollution has been linked to cognitive decline in older adults.\\nInference: Long-term air pollution exposure may impair brain function.\\n\\n[GUIDELINES]\\nStep1: Summarize your understanding of what inferential questions are and what is cause-and-effect inference. \\nStep 2: Based on your understanding of what inferential questions are, generate one mutliple-choice inferential question based on the text provided by the user. This questions should be cause-and-effect inference.  \\nPrint out your reasoning BEFORE you print out the mutliple-choice inferential question. \\nwrap up the multiple-choice inferential question within <MCQ></MCQ> tags.\\n',\n",
       " 'user_prompt': '<text>\\nEnergy and trophic levels: Ecological pyramids How can you show how energy is used in an ecosystem? Ecologists use food chains and food webs to model the distribution of matter and energy within an ecosystem. They also use another kind of model, called an ecological pyramid. An ecological pyramid shows how energy flows through an ecosystem. The base of the ecological pyramid represents the autotrophs, or first trophic level. Higher trophic levels are layered on top of one another. The initial source of energy for all ecological pyramids is energy from the sun. Energy decreases at each succeeding trophic level. The total energy transfer from one trophic level to the next is only about ten percent because organisms fail to capture and eat all the food available at the trophic level below them. When an organism consumes food, it uses some of the energy in the food for metabolism, some for building body tissues, and some is given off as waste. When the organism is eaten, the energy that was used to build body tissue is available as energy to be used by the organism that consumed it. The energy lost at each successive trophic level enters the environment as heat. Ecologists construct a pyramid of numbers based on the population sizes of organisms in each trophic level. Sometimes population sizes decrease at each higher trophic level. This is not always true. For example, one tree can be food for 50,000 insects. In this case, the pyramid would be inverted. A pyramid of biomass expresses the weight of living material at each trophic level. Ecologists calculate the biomass at each trophic level by finding the average weight of each species at that trophic level and multiplying by the estimated number of organisms in each population.\\n</text>\\n',\n",
       " 'model': 'gpt-3.5-turbo',\n",
       " 'completion': '**Understanding of inferential questions and cause-and-effect inference:**\\n\\nInferential questions require students to make conclusions based on evidence from the text that is not explicitly stated. Specifically, cause-and-effect inference questions prompt students to identify unstated causes or effects based on textual evidence provided in the passage. For instance, students need to infer the relationship between different elements in the text to deduce the causes or effects presented indirectly.\\n\\n**Multiple-choice inferential question:**\\n\\n<MCQ>\\nBased on the information in the text, what is the likely reason for the decrease in energy at each succeeding trophic level in the ecosystem model?\\n\\nA) Organisms become more efficient at capturing and consuming food at higher trophic levels.\\nB) Autotrophs transfer less energy to higher trophic levels due to competition for resources.\\nC) Organisms at higher trophic levels use more energy for metabolism and building body tissues.\\nD) Herbivores at the lower trophic levels consume too much energy, leaving insufficient for higher trophic levels.\\nE) Energy from the sun is absorbed faster at lower trophic levels, leading to reduced availability at higher levels.\\n\\nCorrect Answer: C) Organisms at higher trophic levels use more energy for metabolism and building body tissues.\\n</MCQ>',\n",
       " 'extraction': 'Based on the information in the text, what is the likely reason for the decrease in energy at each succeeding trophic level in the ecosystem model?\\n\\nA) Organisms become more efficient at capturing and consuming food at higher trophic levels.\\nB) Autotrophs transfer less energy to higher trophic levels due to competition for resources.\\nC) Organisms at higher trophic levels use more energy for metabolism and building body tissues.\\nD) Herbivores at the lower trophic levels consume too much energy, leaving insufficient for higher trophic levels.\\nE) Energy from the sun is absorbed faster at lower trophic levels, leading to reduced availability at higher levels.\\n\\nCorrect Answer: C) Organisms at higher trophic levels use more energy for metabolism and building body tissues.',\n",
       " 'execution_time': '0:00:06.878721',\n",
       " 'input_tokens': 873,\n",
       " 'output_tokens': 263}"
      ]
     },
     "execution_count": 13,
     "metadata": {},
     "output_type": "execute_result"
    }
   ],
   "source": [
    "test_agent.get_metadata()"
   ]
  },
  {
   "cell_type": "code",
   "execution_count": 1,
   "metadata": {},
   "outputs": [
    {
     "data": {
      "text/plain": [
       "75685.90350047304"
      ]
     },
     "execution_count": 1,
     "metadata": {},
     "output_type": "execute_result"
    }
   ],
   "source": [
    "80000000/1057"
   ]
  },
  {
   "cell_type": "code",
   "execution_count": 1,
   "metadata": {},
   "outputs": [
    {
     "name": "stdout",
     "output_type": "stream",
     "text": [
      "en_core_web_sm is already installed.\n"
     ]
    }
   ],
   "source": [
    "from src.text_processing import *"
   ]
  },
  {
   "cell_type": "code",
   "execution_count": 5,
   "metadata": {},
   "outputs": [],
   "source": [
    "from src.general import *\n",
    "\n",
    "# get all the files in data folder\n",
    "files_to_process =  get_files_in_directory(\"../data/\")\n",
    "text = read_text_file(files_to_process[1])"
   ]
  },
  {
   "cell_type": "code",
   "execution_count": 6,
   "metadata": {},
   "outputs": [
    {
     "data": {
      "text/plain": [
       "'The Alaska pipeline starts at the frozen edge of the Arctic Ocean. It stretches southward across the largest and northernmost state in the United States, ending at a remote ice-free seaport village nearly 800 miles from where it begins. It is massive in size and extremely complicated to operate.\\nThe steel pipe crosses windswept plains and endless miles of delicate tundra that tops the frozen ground. It weaves through crooked canyons, climbs sheer mountains, plunges over rocky crags, makes its way through thick forests, and passes over or under hundreds of rivers and streams. The pipe is 4 feet in diameter, and up to 2 million barrels (or 84 million gallons) of crude oil can be pumped through it daily. Resting on H-shaped steel racks called \"bents,\" long sections of the pipeline follow a zigzag course high above the frozen earth. Other long sections drop out of sight beneath spongy or rocky ground and return to the surface later on. The pattern of the pipeline\\'s up-and-down route is determined by the often harsh demands of the arctic and subarctic climate, the tortuous lay of the land, and the varied compositions of soil, rock, or permafrost (permanently frozen ground). A little more than half of the pipeline is elevated above the ground. The remainder is buried anywhere from 3 to 12 feet, depending largely upon the type of terrain and the properties of the soil. \\nOne of the largest in the world, the pipeline cost approximately $8 billion and is by far the biggest and most expensive construction project ever undertaken by private industry. In fact, no single business could raise that much money, so eight major oil companies formed a consortium in order to share the costs. Each company controlled oil rights to particular shares of land in the oil fields and paid into the pipeline-construction fund according to the size of its holdings. Today, despite enormous problems of climate, supply shortages, equipment breakdowns, labor disagreements, treacherous terrain, a certain amount of mismanagement, and even theft, the Alaska pipeline has been completed and is operating. '"
      ]
     },
     "execution_count": 6,
     "metadata": {},
     "output_type": "execute_result"
    }
   ],
   "source": [
    "text"
   ]
  },
  {
   "cell_type": "code",
   "execution_count": 7,
   "metadata": {},
   "outputs": [
    {
     "data": {
      "text/plain": [
       "'<chunk1>The Alaska pipeline starts at the frozen edge of the Arctic Ocean. It stretches southward across the largest and northernmost state in the United States, ending at a remote ice-free seaport village nearly 800 miles from where it begins. It is massive in size and extremely complicated to operate.\\nThe steel pipe crosses windswept plains and endless miles of delicate tundra that tops the frozen ground. It weaves through crooked canyons, climbs sheer mountains, plunges over rocky crags, makes its way through thick forests, and passes over or under hundreds of rivers and streams. The pipe is 4 feet in diameter, and up to 2 million barrels (or 84 million gallons) of crude oil can be pumped through it daily. Resting on H-shaped steel racks called \"bents,\" long sections of the pipeline follow a zigzag course high above the frozen earth. Other long sections drop out of sight beneath spongy or rocky ground and return to the surface later on. The pattern of the pipeline\\'s up-and-down route is determined by the often harsh demands of the arctic and subarctic climate, the tortuous lay of the land, and the varied compositions of soil, rock, or permafrost (permanently frozen ground). A little more than half of the pipeline is elevated above the ground. The remainder is buried anywhere from 3 to 12 feet, depending largely upon the type of terrain and the properties of the soil. \\nOne of the largest in the world, the pipeline cost approximately $8 billion and is by far the biggest and most expensive construction project ever undertaken by private industry. In fact, no single business could raise that much money, so eight major oil companies formed a consortium in order to share the costs. Each company controlled oil rights to particular shares of land in the oil fields and paid into the pipeline-construction fund according to the size of its holdings. Today, despite enormous problems of climate, supply shortages, equipment breakdowns, labor disagreements, treacherous terrain, a certain amount of mismanagement, and even theft, the Alaska pipeline has been completed and is operating. </chunk1>'"
      ]
     },
     "execution_count": 7,
     "metadata": {},
     "output_type": "execute_result"
    }
   ],
   "source": [
    "add_chunk_markers(text)"
   ]
  },
  {
   "cell_type": "markdown",
   "metadata": {},
   "source": [
    "## Test Preprocessor"
   ]
  },
  {
   "cell_type": "code",
   "execution_count": 1,
   "metadata": {},
   "outputs": [
    {
     "name": "stdout",
     "output_type": "stream",
     "text": [
      "en_core_web_sm is already installed.\n"
     ]
    }
   ],
   "source": [
    "from src.text_processing import *"
   ]
  },
  {
   "cell_type": "code",
   "execution_count": 2,
   "metadata": {},
   "outputs": [],
   "source": [
    "from src.general import *"
   ]
  },
  {
   "cell_type": "code",
   "execution_count": 3,
   "metadata": {},
   "outputs": [],
   "source": [
    "# get all the files in data folder\n",
    "files_to_process =  get_files_in_directory(\"../data/\")\n",
    "text = read_text_file(files_to_process[2])"
   ]
  },
  {
   "cell_type": "code",
   "execution_count": 4,
   "metadata": {},
   "outputs": [
    {
     "data": {
      "text/plain": [
       "'Research magazine from Stanford University Journalist Anne Simonson â€“ January 13, 2008\\n\\nThe sun counteracts cancer\\nSunrays that hit our skin reinforce the bodyâ€™s own defense against cancer. The campaigns to get people out of the sun have gone too far, according to the researcher Johan Moan.\\n\\nâ€œThe rays of the sun speed up the bodyâ€™s production of vitamin D. This can prevent cancer as well as many other diseases.â€\\x9d So says Johan Moan, Professor at the Cancer Center at Boston Medical Center. Along with colleagues from Norway, he is presenting results that support the theory that sun exposure provides the body with a more effective defense against cancer. The findings show, for example, that people who live closer to the equator, and whose bodies hence are more exposed to the sun, have a better chance of survival if they develop cancer in their internal organs. Moreover, they show that cancer patients have a better prognosis if they are diagnosed in summer or autumn, when their store of vitamin D has been replenished. Their research has been published in the prestigious scientific journal Proceedings of the National Academy of Sciences.\\n\\nSunbathing or cod-liver oil is important to northerners\\nVitamin D has also been shown to play a protective role in many types of cancer of internal organs, and possibly also for a number of other diseases. Avoiding the sun can thus do more harm than good, according to Richard Setlow, who is one of Moanâ€™s collaborators. He thinks that this applies especially to us northerners, who see little of the sun for long periods of the year. Setlow is a biophysicist at the Brookhaven National Laboratory and is one of the worldâ€™s most recognized experts on the relationship between solar radiation and skin cancer.\\n\\nâ€œPeople are being advised to spend less time in the sun, but some sun without sunscreen is healthy for us. If you stay outside for half an hour in midsummer, you obtain the same amount of vitamin D as you would from drinking a small bottle of cod-liver oil,â€\\x9d Moan says. He claims that in addition, it would be beneficial to use a tanning bed once or twice a week during the dark winter months, because this provides an excellent supplement of vitamin D at that time of year. â€œFrom November to March we obtain no vitamin D from the sun, and we therefore need to ingest it or obtain it from a tanning bed,â€\\x9d Moan explains.\\n\\nMelanomas are triggered by the type of solar radiation known as UVA. The bodyâ€™s production of vitamin D is stimulated by the type of solar radiation known as UVB. Perhaps we should change the sunscreens so that they do not block as much of the UVB radiation, while still protecting us against the UVA rays, according to Setlow.\\n'"
      ]
     },
     "execution_count": 4,
     "metadata": {},
     "output_type": "execute_result"
    }
   ],
   "source": [
    "text"
   ]
  },
  {
   "cell_type": "code",
   "execution_count": 5,
   "metadata": {},
   "outputs": [],
   "source": [
    "chunked_text = add_chunk_markers(text)"
   ]
  },
  {
   "cell_type": "code",
   "execution_count": 6,
   "metadata": {},
   "outputs": [
    {
     "data": {
      "text/plain": [
       "'<chunk1>Research magazine from Stanford University Journalist Anne Simonson â€“ January 13, 2008 The sun counteracts cancer\\nSunrays that hit our skin reinforce the bodyâ€™s own defense against cancer. The campaigns to get people out of the sun have gone too far, according to the researcher Johan Moan. â€œThe rays of the sun speed up the bodyâ€™s production of vitamin D. This can prevent cancer as well as many other diseases.â€\\x9d So says Johan Moan, Professor at the Cancer Center at Boston Medical Center. Along with colleagues from Norway, he is presenting results that support the theory that sun exposure provides the body with a more effective defense against cancer. The findings show, for example, that people who live closer to the equator, and whose bodies hence are more exposed to the sun, have a better chance of survival if they develop cancer in their internal organs. Moreover, they show that cancer patients have a better prognosis if they are diagnosed in summer or autumn, when their store of vitamin D has been replenished. Their research has been published in the prestigious scientific journal Proceedings of the National Academy of Sciences. Sunbathing or cod-liver oil is important to northerners\\nVitamin D has also been shown to play a protective role in many types of cancer of internal organs, and possibly also for a number of other diseases. Avoiding the sun can thus do more harm than good, according to Richard Setlow, who is one of Moanâ€™s collaborators. He thinks that this applies especially to us northerners, who see little of the sun for long periods of the year. Setlow is a biophysicist at the Brookhaven National Laboratory and is one of the worldâ€™s most recognized experts on the relationship between solar radiation and skin cancer.</chunk1>\\n\\n<chunk2>â€œPeople are being advised to spend less time in the sun, but some sun without sunscreen is healthy for us. If you stay outside for half an hour in midsummer, you obtain the same amount of vitamin D as you would from drinking a small bottle of cod-liver oil,â€\\x9d Moan says. He claims that in addition, it would be beneficial to use a tanning bed once or twice a week during the dark winter months, because this provides an excellent supplement of vitamin D at that time of year. â€œFrom November to March we obtain no vitamin D from the sun, and we therefore need to ingest it or obtain it from a tanning bed,â€\\x9d Moan explains. Melanomas are triggered by the type of solar radiation known as UVA. The bodyâ€™s production of vitamin D is stimulated by the type of solar radiation known as UVB. Perhaps we should change the sunscreens so that they do not block as much of the UVB radiation, while still protecting us against the UVA rays, according to Setlow.\\n</chunk2>'"
      ]
     },
     "execution_count": 6,
     "metadata": {},
     "output_type": "execute_result"
    }
   ],
   "source": [
    "chunked_text"
   ]
  },
  {
   "cell_type": "markdown",
   "metadata": {},
   "source": [
    "## Test Planner"
   ]
  },
  {
   "cell_type": "code",
   "execution_count": 7,
   "metadata": {},
   "outputs": [],
   "source": [
    "from src.planner import *"
   ]
  },
  {
   "cell_type": "code",
   "execution_count": 8,
   "metadata": {},
   "outputs": [],
   "source": [
    "invocation_id = \"rstikkwls\"\n"
   ]
  },
  {
   "cell_type": "code",
   "execution_count": 9,
   "metadata": {},
   "outputs": [
    {
     "name": "stderr",
     "output_type": "stream",
     "text": [
      "2025-05-20 17:18:02,819 - INFO - Table 'plan_metadata' created or already exists.\n",
      "2025-05-20 17:18:22,737 - INFO - HTTP Request: POST https://api.openai.com/v1/chat/completions \"HTTP/1.1 200 OK\"\n",
      "2025-05-20 17:18:22,744 - INFO - Plan generated successfully.\n",
      "2025-05-20 17:18:22,745 - INFO - Generated text converted to dictionary successfully.\n",
      "2025-05-20 17:18:22,766 - INFO - Metadata inserted into 'plan_metadata'.\n"
     ]
    }
   ],
   "source": [
    "plan = generate_plan(\n",
    "    invocation_id=invocation_id,\n",
    "    model=\"gpt-4o\",\n",
    "    text=chunked_text, \n",
    "    fact = 1, \n",
    "    inference = 1, \n",
    "    table_name = \"plan_metadata\", \n",
    "    database_file = \"../database/mcq_metadata.db\")"
   ]
  },
  {
   "cell_type": "code",
   "execution_count": 10,
   "metadata": {},
   "outputs": [
    {
     "data": {
      "text/plain": [
       "{'system_prompt': '[ROLE]:\\n  You are an experienced college instructor specializing in developing reading comprehension questions to evaluate students\\' understanding of academic texts, such as textbook chapters and academic articles. You excel at identifying and selecting key facts and inferences from these texts for question development.\\n\\n[TASK]:\\n  Your task is to summarize the academic text provided by the user and select the specified number of facts and inferences as requested by the user following the guidelines below. \\n\\n[Guidelines]\\n  Step1: Summarize the text \\n  The text is divided into chunks (as indicated by the html tags such as <chunk1></chunk1>). Summarize the content within each chunk, maintaining the chunk tags in your summary.\\n\\n  Step2: Identify key facts and/or inferences\\n  Depending on the user’s requests, create a list of key facts and/or inferences from the academic text. The number of facts or inferences can be more than what the user requests. \\n  Skip this step if the user requests none of them. \\n\\n  Read the definitions below to better understand what key facts and inferences are:\\n  \\n  ** Key Facts**\\n  Key facts are explicit pieces of information stated directly in the text. They usually reflect the main ideas, supporting details, definitions, dates, names, results, or statistics that are important for understanding the author’s argument or findings.\\n  Example (from a psychology textbook):\\n  \"Classical conditioning was first demonstrated by Ivan Pavlov in 1897 through experiments with dogs.\"\\n  Key fact: Ivan Pavlov demonstrated classical conditioning in 1897 using dogs.\\n  \\n  ** Key Inferences**\\n  Key inferences are logical conclusions that a reader can draw from the information in the text, even though they are not directly stated. Inferences require the reader to interpret, analyze, or synthesize information to understand implications, underlying meanings, or cause-effect relationships.\\n  Characteristics:\\n  - Require higher-order thinking (interpretive or inferential comprehension)\\n  - Often answer the questions: why, what does this suggest, what can be concluded, what would likely happen if...\\n  Example (from a sociology article):\\n  \"In communities with high income inequality, researchers found lower levels of trust among residents and reduced participation in civic activities.\"\\n  Key inference: High income inequality may contribute to weakened social cohesion.\\n\\n  key inferences may emerge from synthesizing ideas spread across multiple sentences or paragraphs. These inferences require readers to connect concepts that are not directly adjacent in the text.\\n  Example (from a Psychology Text):\\n  chunk1: \"...Studies show that securely attached infants tend to be more socially competent and exhibit fewer behavioral problems later in life...\"\\n  chunk5: \"...Longitudinal research indicates that early childhood experiences with caregivers shape patterns of emotion regulation, social skills, and even academic performance into adolescence and adulthood...\"\\n  Key inference: Children who experience secure attachment and authoritative parenting early in life are more likely to develop strong emotional and social skills that persist into adolescence and adulthood.\\n\\n  Step3: Order the list of facts or/and inferences based on their importance for understanding the text. Select the desired number of facts or/and inferences as requested by the user. \\n  \\n  Step4: Output your response following the JSON format as specified below. \\n\\n  {\\n    \"summary\": \"Summarized text here\",\\n    \"reasoning_for_selection\": \"Your reasoning for the selection here\",\\n    \"selection\": {\\n      \"facts\": {\\n        \"fact1\": {\"content\": \"Content of fact1\", \"chunk\": [chunk_label]},\\n        \"fact2\": {\"content\": \"Content of fact2\", \"chunk\": [chunk_label]}\\n        // Add more facts as requested by the user\\n      },\\n      \"inferences\": {\\n        \"inference1\": {\"content\": \"Content of inference1\", \"chunk\": [chunk_label]},\\n        \"inference2\": {\"content\": \"Content of inference2\", \"chunk\": [chunk_label]}\\n        // Add more inferences as requested by the user\\n      }\\n    }\\n  }\\n\\n  IMPORTANT:\\n  - The \"reasoning_for_selection\" should briefly explain how the facts or inferences are derived and why they are important for understanding the text.\\n  - The number of facts and inferences should match the user\\'s request. For example, if the user requests 3 facts, include \"fact1\", \"fact2\", and \"fact3\".\\n  - If no facts or inferences are requested, the values for the \"facts\" or \"inferences\" field should be an empty object {}.\\n  - The \"chunk\" field indicates the source of the facts or inferences in the text. The value is a list of chunk labels obtained from the html tags, such as “chunk1”, “chunk2”. Sometimes an inference may be from multiple chunks, such as [“chunk1”, “chunck2”].\\n\\nStep5: Self-critique your response\\n  After completing the task, review your response to ensure it meets the requirements. Revise your output if necessary. \\n  - Do you keep the chunk tags in the summary? \\n  - Do you provide the number and type of facts and/or inferences as requested by the user?\\n  - Are the facts and/or inferences relevant and essential for comprehending the text? \\n  - Do you provide correct chunk labels to indicate the source of each fact and/or inference?\\n  - Does the output include everything required and follow the format correctly?\\n',\n",
       " 'user_prompt': '<text>\\n<chunk1>Research magazine from Stanford University Journalist Anne Simonson â€“ January 13, 2008 The sun counteracts cancer\\nSunrays that hit our skin reinforce the bodyâ€™s own defense against cancer. The campaigns to get people out of the sun have gone too far, according to the researcher Johan Moan. â€œThe rays of the sun speed up the bodyâ€™s production of vitamin D. This can prevent cancer as well as many other diseases.â€\\x9d So says Johan Moan, Professor at the Cancer Center at Boston Medical Center. Along with colleagues from Norway, he is presenting results that support the theory that sun exposure provides the body with a more effective defense against cancer. The findings show, for example, that people who live closer to the equator, and whose bodies hence are more exposed to the sun, have a better chance of survival if they develop cancer in their internal organs. Moreover, they show that cancer patients have a better prognosis if they are diagnosed in summer or autumn, when their store of vitamin D has been replenished. Their research has been published in the prestigious scientific journal Proceedings of the National Academy of Sciences. Sunbathing or cod-liver oil is important to northerners\\nVitamin D has also been shown to play a protective role in many types of cancer of internal organs, and possibly also for a number of other diseases. Avoiding the sun can thus do more harm than good, according to Richard Setlow, who is one of Moanâ€™s collaborators. He thinks that this applies especially to us northerners, who see little of the sun for long periods of the year. Setlow is a biophysicist at the Brookhaven National Laboratory and is one of the worldâ€™s most recognized experts on the relationship between solar radiation and skin cancer.</chunk1>\\n\\n<chunk2>â€œPeople are being advised to spend less time in the sun, but some sun without sunscreen is healthy for us. If you stay outside for half an hour in midsummer, you obtain the same amount of vitamin D as you would from drinking a small bottle of cod-liver oil,â€\\x9d Moan says. He claims that in addition, it would be beneficial to use a tanning bed once or twice a week during the dark winter months, because this provides an excellent supplement of vitamin D at that time of year. â€œFrom November to March we obtain no vitamin D from the sun, and we therefore need to ingest it or obtain it from a tanning bed,â€\\x9d Moan explains. Melanomas are triggered by the type of solar radiation known as UVA. The bodyâ€™s production of vitamin D is stimulated by the type of solar radiation known as UVB. Perhaps we should change the sunscreens so that they do not block as much of the UVB radiation, while still protecting us against the UVA rays, according to Setlow.\\n</chunk2>\\n</text>\\n<number_of_facts>\\nI need 1 key facts from the text.\\n</number_of_facts>\\n<number_of_inferences>\\nI need 1 key inferences from the text.\\n</number_of_inferences>',\n",
       " 'model': 'gpt-4o',\n",
       " 'completion': '{\\n  \"summary\": \"<chunk1>Research from Stanford University\\'s magazine discusses how sunrays that hit our skin bolster the body\\'s defense against cancer. Researcher Johan Moan argues that sun exposure, which increases vitamin D production, can prevent cancer and other diseases. Those living closer to the equator have better cancer survival rates, and patients have improved prognoses if diagnosed in sunnier months. This research has been published in the Proceedings of the National Academy of Sciences. Avoiding sun exposure may be harmful, especially for northerners who are sun-deprived, notes collaborator Richard Setlow.</chunk1> <chunk2>Many are advised to avoid sun exposure, but Moan suggests minimal sunscreen-free sun exposure is healthy. Half an hour outdoors in midsummer provides vitamin D equivalent to a small bottle of cod-liver oil. During low-sun months, tanning beds can supplement vitamin D. Melanomas are caused by UVA radiation, while UVB stimulates vitamin D production. Setlow suggests reformulating sunscreens to block UVA while allowing UVB.</chunk2>\",\\n  \"reasoning_for_selection\": \"The selected fact highlights the core message of the research: sunlight is beneficial in generating vitamin D, enhancing cancer defense. The inference addresses the implications of avoiding sun exposure, particularly its potential negative impact on health due to vitamin D deficiency.\",\\n  \"selection\": {\\n    \"facts\": {\\n      \"fact1\": {\\n        \"content\": \"Sun exposure boosts the body\\'s production of vitamin D, which can prevent cancer and other diseases.\",\\n        \"chunk\": [\"chunk1\"]\\n      }\\n    },\\n    \"inferences\": {\\n      \"inference1\": {\\n        \"content\": \"Avoiding sun exposure could lead to vitamin D deficiency, potentially increasing the risk of cancer and other diseases, especially for people in regions with limited sunlight.\",\\n        \"chunk\": [\"chunk1\", \"chunk2\"]\\n      }\\n    }\\n  }\\n}',\n",
       " 'execution_time': '0:00:19.918601',\n",
       " 'input_tokens': 1763,\n",
       " 'output_tokens': 388,\n",
       " 'invocation_id': 'rstikkwls',\n",
       " 'summary': \"<chunk1>Research from Stanford University's magazine discusses how sunrays that hit our skin bolster the body's defense against cancer. Researcher Johan Moan argues that sun exposure, which increases vitamin D production, can prevent cancer and other diseases. Those living closer to the equator have better cancer survival rates, and patients have improved prognoses if diagnosed in sunnier months. This research has been published in the Proceedings of the National Academy of Sciences. Avoiding sun exposure may be harmful, especially for northerners who are sun-deprived, notes collaborator Richard Setlow.</chunk1> <chunk2>Many are advised to avoid sun exposure, but Moan suggests minimal sunscreen-free sun exposure is healthy. Half an hour outdoors in midsummer provides vitamin D equivalent to a small bottle of cod-liver oil. During low-sun months, tanning beds can supplement vitamin D. Melanomas are caused by UVA radiation, while UVB stimulates vitamin D production. Setlow suggests reformulating sunscreens to block UVA while allowing UVB.</chunk2>\",\n",
       " 'facts': '{\"fact1\": {\"content\": \"Sun exposure boosts the body\\'s production of vitamin D, which can prevent cancer and other diseases.\", \"chunk\": [\"chunk1\"]}}',\n",
       " 'inferences': '{\"inference1\": {\"content\": \"Avoiding sun exposure could lead to vitamin D deficiency, potentially increasing the risk of cancer and other diseases, especially for people in regions with limited sunlight.\", \"chunk\": [\"chunk1\", \"chunk2\"]}}',\n",
       " 'timestamp': '2025-05-20T17:18:22.745778'}"
      ]
     },
     "execution_count": 10,
     "metadata": {},
     "output_type": "execute_result"
    }
   ],
   "source": [
    "plan"
   ]
  },
  {
   "cell_type": "markdown",
   "metadata": {},
   "source": [
    "## Test Controller"
   ]
  },
  {
   "cell_type": "code",
   "execution_count": 11,
   "metadata": {},
   "outputs": [],
   "source": [
    "from src.controller_helper import *"
   ]
  },
  {
   "cell_type": "code",
   "execution_count": 12,
   "metadata": {},
   "outputs": [],
   "source": [
    "fact =1\n",
    "inference = 1\n",
    "main_idea = 1"
   ]
  },
  {
   "cell_type": "code",
   "execution_count": 13,
   "metadata": {},
   "outputs": [],
   "source": [
    "task_list = create_task_list(plan, fact, inference, main_idea)"
   ]
  },
  {
   "cell_type": "code",
   "execution_count": 14,
   "metadata": {},
   "outputs": [
    {
     "data": {
      "text/plain": [
       "[{'question_type': 'fact',\n",
       "  'content': \"Sun exposure boosts the body's production of vitamin D, which can prevent cancer and other diseases.\",\n",
       "  'text': '',\n",
       "  'context': \"Research from Stanford University's magazine discusses how sunrays that hit our skin bolster the body's defense against cancer. Researcher Johan Moan argues that sun exposure, which increases vitamin D production, can prevent cancer and other diseases. Those living closer to the equator have better cancer survival rates, and patients have improved prognoses if diagnosed in sunnier months. This research has been published in the Proceedings of the National Academy of Sciences. Avoiding sun exposure may be harmful, especially for northerners who are sun-deprived, notes collaborator Richard Setlow. Many are advised to avoid sun exposure, but Moan suggests minimal sunscreen-free sun exposure is healthy. Half an hour outdoors in midsummer provides vitamin D equivalent to a small bottle of cod-liver oil. During low-sun months, tanning beds can supplement vitamin D. Melanomas are caused by UVA radiation, while UVB stimulates vitamin D production. Setlow suggests reformulating sunscreens to block UVA while allowing UVB.\"},\n",
       " {'question_type': 'inference',\n",
       "  'content': 'Avoiding sun exposure could lead to vitamin D deficiency, potentially increasing the risk of cancer and other diseases, especially for people in regions with limited sunlight.',\n",
       "  'text': '',\n",
       "  'context': \"Research from Stanford University's magazine discusses how sunrays that hit our skin bolster the body's defense against cancer. Researcher Johan Moan argues that sun exposure, which increases vitamin D production, can prevent cancer and other diseases. Those living closer to the equator have better cancer survival rates, and patients have improved prognoses if diagnosed in sunnier months. This research has been published in the Proceedings of the National Academy of Sciences. Avoiding sun exposure may be harmful, especially for northerners who are sun-deprived, notes collaborator Richard Setlow. Many are advised to avoid sun exposure, but Moan suggests minimal sunscreen-free sun exposure is healthy. Half an hour outdoors in midsummer provides vitamin D equivalent to a small bottle of cod-liver oil. During low-sun months, tanning beds can supplement vitamin D. Melanomas are caused by UVA radiation, while UVB stimulates vitamin D production. Setlow suggests reformulating sunscreens to block UVA while allowing UVB.\"},\n",
       " {'question_type': 'main_idea',\n",
       "  'text': \"Research from Stanford University's magazine discusses how sunrays that hit our skin bolster the body's defense against cancer. Researcher Johan Moan argues that sun exposure, which increases vitamin D production, can prevent cancer and other diseases. Those living closer to the equator have better cancer survival rates, and patients have improved prognoses if diagnosed in sunnier months. This research has been published in the Proceedings of the National Academy of Sciences. Avoiding sun exposure may be harmful, especially for northerners who are sun-deprived, notes collaborator Richard Setlow. Many are advised to avoid sun exposure, but Moan suggests minimal sunscreen-free sun exposure is healthy. Half an hour outdoors in midsummer provides vitamin D equivalent to a small bottle of cod-liver oil. During low-sun months, tanning beds can supplement vitamin D. Melanomas are caused by UVA radiation, while UVB stimulates vitamin D production. Setlow suggests reformulating sunscreens to block UVA while allowing UVB.\"}]"
      ]
     },
     "execution_count": 14,
     "metadata": {},
     "output_type": "execute_result"
    }
   ],
   "source": [
    "task_list"
   ]
  }
 ],
 "metadata": {
  "kernelspec": {
   "display_name": ".venv",
   "language": "python",
   "name": "python3"
  },
  "language_info": {
   "codemirror_mode": {
    "name": "ipython",
    "version": 3
   },
   "file_extension": ".py",
   "mimetype": "text/x-python",
   "name": "python",
   "nbconvert_exporter": "python",
   "pygments_lexer": "ipython3",
   "version": "3.10.3"
  }
 },
 "nbformat": 4,
 "nbformat_minor": 2
}
