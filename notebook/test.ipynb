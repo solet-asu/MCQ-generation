{
 "cells": [
  {
   "cell_type": "code",
   "execution_count": 1,
   "metadata": {},
   "outputs": [],
   "source": [
    "from src.mcq_generation import *"
   ]
  },
  {
   "cell_type": "code",
   "execution_count": 2,
   "metadata": {},
   "outputs": [],
   "source": [
    "table_name = 'mcq_metadata'"
   ]
  },
  {
   "cell_type": "code",
   "execution_count": 3,
   "metadata": {},
   "outputs": [
    {
     "data": {
      "text/plain": [
       "True"
      ]
     },
     "execution_count": 3,
     "metadata": {},
     "output_type": "execute_result"
    }
   ],
   "source": [
    "table_exists(table_name)"
   ]
  },
  {
   "cell_type": "code",
   "execution_count": 1,
   "metadata": {},
   "outputs": [],
   "source": [
    "from src.mcq_generation import generate_mcq\n",
    "from src.general import *"
   ]
  },
  {
   "cell_type": "code",
   "execution_count": 2,
   "metadata": {},
   "outputs": [],
   "source": [
    "# get all the files in data folder\n",
    "files_to_process =  get_files_in_directory(\"../data/\")\n",
    "text = read_text_file(files_to_process[0])"
   ]
  },
  {
   "cell_type": "code",
   "execution_count": 3,
   "metadata": {},
   "outputs": [
    {
     "data": {
      "text/plain": [
       "'Energy and trophic levels: Ecological pyramids How can you show how energy is used in an ecosystem? Ecologists use food chains and food webs to model the distribution of matter and energy within an ecosystem. They also use another kind of model, called an ecological pyramid. An ecological pyramid shows how energy flows through an ecosystem. The base of the ecological pyramid represents the autotrophs, or first trophic level. Higher trophic levels are layered on top of one another. The initial source of energy for all ecological pyramids is energy from the sun. Energy decreases at each succeeding trophic level. The total energy transfer from one trophic level to the next is only about ten percent because organisms fail to capture and eat all the food available at the trophic level below them. When an organism consumes food, it uses some of the energy in the food for metabolism, some for building body tissues, and some is given off as waste. When the organism is eaten, the energy that was used to build body tissue is available as energy to be used by the organism that consumed it. The energy lost at each successive trophic level enters the environment as heat. Ecologists construct a pyramid of numbers based on the population sizes of organisms in each trophic level. Sometimes population sizes decrease at each higher trophic level. This is not always true. For example, one tree can be food for 50,000 insects. In this case, the pyramid would be inverted. A pyramid of biomass expresses the weight of living material at each trophic level. Ecologists calculate the biomass at each trophic level by finding the average weight of each species at that trophic level and multiplying by the estimated number of organisms in each population.'"
      ]
     },
     "execution_count": 3,
     "metadata": {},
     "output_type": "execute_result"
    }
   ],
   "source": [
    "text"
   ]
  },
  {
   "cell_type": "code",
   "execution_count": 4,
   "metadata": {},
   "outputs": [
    {
     "data": {
      "text/plain": [
       "{'question_type': 'inference',\n",
       " 'system_prompt': '[ROLE]:\\nYou are an experienced college instructor. You are an expert in writing multiple-choice questions to assess students’ understanding of academic texts (e.g., chapters in textbooks, academic articles).\\n\\n[TASK]:\\nYou are asked to write an inferential multiple-choice question based on an academic text provided by the user. \\nFollow the guidelines in [GUIDELINES] to do exactly what you are instructed to do. \\n\\n[DEFINITION]\\n**What are inferential questions?**\\nInferential questions require students to go beyond the explicit information in a text and draw conclusions based on evidence, reasoning, and prior knowledge. Unlike literal questions, which ask for directly stated facts, inferential questions challenge students to interpret, analyze, or predict based on textual clues.\\nFor example, \\nExcerpt:\\n\"Studies have shown that prolonged exposure to stress can negatively impact cognitive function, particularly memory and decision-making. This is because chronic stress leads to an overproduction of cortisol, a hormone that, in excessive amounts, has been linked to neural atrophy in the hippocampus, a brain region crucial for memory formation.\"\\nLiteral Question:\\n\"According to the passage, what is one effect of chronic stress on the brain?\"\\n(Answer: Neural atrophy in the hippocampus, affecting memory formation.)\\nInferential Question:\\n\"Based on the passage, why might individuals in high-stress professions experience difficulty making decisions?\"\\n(Answer: The passage states that chronic stress impairs cognitive functions like decision-making. Since high-stress professions expose individuals to prolonged stress, they may experience cognitive difficulties due to excessive cortisol affecting brain regions involved in these functions.)\\n\\n**What is cause-and-effect inference?**\\nDefinition: Identifying unstated causes or effects based on textual evidence.\\nExample Question: What is the likely cause of X, given the author’s argument?\\nExample Application:\\nText: Prolonged exposure to air pollution has been linked to cognitive decline in older adults.\\nInference: Long-term air pollution exposure may impair brain function.\\n\\n[GUIDELINES]\\nStep1: Summarize your understanding of what inferential questions are and what is cause-and-effect inference. \\nStep 2: Based on your understanding of what inferential questions are, generate one mutliple-choice inferential question based on the text provided by the user. This questions should be cause-and-effect inference.  \\nPrint out your reasoning BEFORE you print out the mutliple-choice inferential question. \\nwrap up the multiple-choice inferential question within <MCQ></MCQ> tags.\\n',\n",
       " 'user_prompt': '<text>\\nEnergy and trophic levels: Ecological pyramids How can you show how energy is used in an ecosystem? Ecologists use food chains and food webs to model the distribution of matter and energy within an ecosystem. They also use another kind of model, called an ecological pyramid. An ecological pyramid shows how energy flows through an ecosystem. The base of the ecological pyramid represents the autotrophs, or first trophic level. Higher trophic levels are layered on top of one another. The initial source of energy for all ecological pyramids is energy from the sun. Energy decreases at each succeeding trophic level. The total energy transfer from one trophic level to the next is only about ten percent because organisms fail to capture and eat all the food available at the trophic level below them. When an organism consumes food, it uses some of the energy in the food for metabolism, some for building body tissues, and some is given off as waste. When the organism is eaten, the energy that was used to build body tissue is available as energy to be used by the organism that consumed it. The energy lost at each successive trophic level enters the environment as heat. Ecologists construct a pyramid of numbers based on the population sizes of organisms in each trophic level. Sometimes population sizes decrease at each higher trophic level. This is not always true. For example, one tree can be food for 50,000 insects. In this case, the pyramid would be inverted. A pyramid of biomass expresses the weight of living material at each trophic level. Ecologists calculate the biomass at each trophic level by finding the average weight of each species at that trophic level and multiplying by the estimated number of organisms in each population.\\n</text>\\n',\n",
       " 'model': 'gpt-3.5-turbo',\n",
       " 'completion': '**Understanding of Inferential Questions and Cause-and-Effect Inference:**\\nInferential questions require students to make connections, draw conclusions, or infer information based on evidence presented in the text. Cause-and-effect inference, a type of inferential question, involves identifying unstated causes or effects based on textual clues.\\n\\n**Inferential Multiple-Choice Question (Cause-and-Effect Inference):**\\nBased on the text provided, what is the likely reason for the decrease in available energy at each succeeding trophic level in an ecosystem?\\n\\n<MCQ>\\nA) Autotrophs at higher trophic levels use more energy for metabolism.\\nB) Organisms fail to capture and eat all the food available at lower trophic levels.\\nC) Energy from the sun is insufficient to sustain higher trophic levels.\\nD) Ecological pyramids are inefficient models for representing energy flow.\\nE) Organisms at higher trophic levels do not release energy as waste.\\n</MCQ>',\n",
       " 'extraction': 'A) Autotrophs at higher trophic levels use more energy for metabolism.\\nB) Organisms fail to capture and eat all the food available at lower trophic levels.\\nC) Energy from the sun is insufficient to sustain higher trophic levels.\\nD) Ecological pyramids are inefficient models for representing energy flow.\\nE) Organisms at higher trophic levels do not release energy as waste.',\n",
       " 'execution_time': '0:00:03.479756',\n",
       " 'input_tokens': 873,\n",
       " 'output_tokens': 201}"
      ]
     },
     "execution_count": 4,
     "metadata": {},
     "output_type": "execute_result"
    }
   ],
   "source": [
    "generate_mcq(text, question_type=\"inference\")"
   ]
  },
  {
   "cell_type": "code",
   "execution_count": 5,
   "metadata": {},
   "outputs": [],
   "source": [
    "from src.prompt_fetch import *\n",
    "from src.agent import Agent\n",
    "from src.general import *"
   ]
  },
  {
   "cell_type": "code",
   "execution_count": 6,
   "metadata": {},
   "outputs": [],
   "source": [
    "# get all the files in data folder\n",
    "files_to_process =  get_files_in_directory(\"../data/\")\n"
   ]
  },
  {
   "cell_type": "code",
   "execution_count": 7,
   "metadata": {},
   "outputs": [
    {
     "data": {
      "text/plain": [
       "['../data/text1.txt']"
      ]
     },
     "execution_count": 7,
     "metadata": {},
     "output_type": "execute_result"
    }
   ],
   "source": [
    "files_to_process"
   ]
  },
  {
   "cell_type": "code",
   "execution_count": 9,
   "metadata": {},
   "outputs": [],
   "source": [
    "# get prompts \n",
    "prompts = get_prompts(\"inference_prompts.yaml\")"
   ]
  },
  {
   "cell_type": "code",
   "execution_count": 10,
   "metadata": {},
   "outputs": [
    {
     "data": {
      "text/plain": [
       "{'system_prompt': '[ROLE]:\\nYou are an experienced college instructor. You are an expert in writing multiple-choice questions to assess students’ understanding of academic texts (e.g., chapters in textbooks, academic articles).\\n\\n[TASK]:\\nYou are asked to write an inferential multiple-choice question based on an academic text provided by the user. \\nFollow the guidelines in [GUIDELINES] to do exactly what you are instructed to do. \\n\\n[DEFINITION]\\n**What are inferential questions?**\\nInferential questions require students to go beyond the explicit information in a text and draw conclusions based on evidence, reasoning, and prior knowledge. Unlike literal questions, which ask for directly stated facts, inferential questions challenge students to interpret, analyze, or predict based on textual clues.\\nFor example, \\nExcerpt:\\n\"Studies have shown that prolonged exposure to stress can negatively impact cognitive function, particularly memory and decision-making. This is because chronic stress leads to an overproduction of cortisol, a hormone that, in excessive amounts, has been linked to neural atrophy in the hippocampus, a brain region crucial for memory formation.\"\\nLiteral Question:\\n\"According to the passage, what is one effect of chronic stress on the brain?\"\\n(Answer: Neural atrophy in the hippocampus, affecting memory formation.)\\nInferential Question:\\n\"Based on the passage, why might individuals in high-stress professions experience difficulty making decisions?\"\\n(Answer: The passage states that chronic stress impairs cognitive functions like decision-making. Since high-stress professions expose individuals to prolonged stress, they may experience cognitive difficulties due to excessive cortisol affecting brain regions involved in these functions.)\\n\\n**What is cause-and-effect inference?**\\nDefinition: Identifying unstated causes or effects based on textual evidence.\\nExample Question: What is the likely cause of X, given the author’s argument?\\nExample Application:\\nText: Prolonged exposure to air pollution has been linked to cognitive decline in older adults.\\nInference: Long-term air pollution exposure may impair brain function.\\n\\n[GUIDELINES]\\nStep1: Summarize your understanding of what inferential questions are and what is cause-and-effect inference. \\nStep 2: Based on your understanding of what inferential questions are, generate one mutliple-choice inferential question based on the text provided by the user. This questions should be cause-and-effect inference.  \\nPrint out your reasoning BEFORE you print out the mutliple-choice inferential question. \\nwrap up the multiple-choice inferential question within <MCQ></MCQ> tags.\\n',\n",
       " 'user_prompt': '<text>\\n{text}\\n</text>\\n'}"
      ]
     },
     "execution_count": 10,
     "metadata": {},
     "output_type": "execute_result"
    }
   ],
   "source": [
    "prompts"
   ]
  },
  {
   "cell_type": "code",
   "execution_count": 11,
   "metadata": {},
   "outputs": [],
   "source": [
    "text = read_text_file(files_to_process[0])"
   ]
  },
  {
   "cell_type": "code",
   "execution_count": 12,
   "metadata": {},
   "outputs": [
    {
     "data": {
      "text/plain": [
       "'Energy and trophic levels: Ecological pyramids How can you show how energy is used in an ecosystem? Ecologists use food chains and food webs to model the distribution of matter and energy within an ecosystem. They also use another kind of model, called an ecological pyramid. An ecological pyramid shows how energy flows through an ecosystem. The base of the ecological pyramid represents the autotrophs, or first trophic level. Higher trophic levels are layered on top of one another. The initial source of energy for all ecological pyramids is energy from the sun. Energy decreases at each succeeding trophic level. The total energy transfer from one trophic level to the next is only about ten percent because organisms fail to capture and eat all the food available at the trophic level below them. When an organism consumes food, it uses some of the energy in the food for metabolism, some for building body tissues, and some is given off as waste. When the organism is eaten, the energy that was used to build body tissue is available as energy to be used by the organism that consumed it. The energy lost at each successive trophic level enters the environment as heat. Ecologists construct a pyramid of numbers based on the population sizes of organisms in each trophic level. Sometimes population sizes decrease at each higher trophic level. This is not always true. For example, one tree can be food for 50,000 insects. In this case, the pyramid would be inverted. A pyramid of biomass expresses the weight of living material at each trophic level. Ecologists calculate the biomass at each trophic level by finding the average weight of each species at that trophic level and multiplying by the estimated number of organisms in each population.'"
      ]
     },
     "execution_count": 12,
     "metadata": {},
     "output_type": "execute_result"
    }
   ],
   "source": [
    "text"
   ]
  },
  {
   "cell_type": "code",
   "execution_count": 14,
   "metadata": {},
   "outputs": [],
   "source": [
    "model = \"gpt-3.5-turbo\"\n",
    "system_prompt = prompts[\"system_prompt\"]\n",
    "user_prompt = prompts[\"user_prompt\"].format(text=text)"
   ]
  },
  {
   "cell_type": "code",
   "execution_count": 15,
   "metadata": {},
   "outputs": [],
   "source": [
    "test_agent = Agent(model=model, system_prompt=system_prompt, user_prompt=user_prompt)"
   ]
  },
  {
   "cell_type": "code",
   "execution_count": 16,
   "metadata": {},
   "outputs": [
    {
     "data": {
      "text/plain": [
       "'**Inferential Multiple-Choice Question:** \\nWhat is the likely effect of organisms failing to capture and eat all the food available at a trophic level, as described in the text?\\n\\nA) It leads to an increase in biomass at higher trophic levels.\\nB) It results in a decrease in population sizes at higher trophic levels.\\nC) It causes a surplus of available energy at lower trophic levels.\\nD) It contributes to a redistribution of energy as heat into the environment.\\n\\nAnswer: D) It contributes to a redistribution of energy as heat into the environment.'"
      ]
     },
     "execution_count": 16,
     "metadata": {},
     "output_type": "execute_result"
    }
   ],
   "source": [
    "test_agent.completion_generation()"
   ]
  },
  {
   "cell_type": "code",
   "execution_count": 13,
   "metadata": {},
   "outputs": [
    {
     "data": {
      "text/plain": [
       "{'task': None,\n",
       " 'system_prompt': '[ROLE]:\\nYou are an experienced college instructor. You are an expert in writing multiple-choice questions to assess students’ understanding of academic texts (e.g., chapters in textbooks, academic articles).\\n\\n[TASK]:\\nYou are asked to write an inferential multiple-choice question based on an academic text provided by the user. \\nFollow the guidelines in [GUIDELINES] to do exactly what you are instructed to do. \\n\\n[DEFINITION]\\n**What are inferential questions?**\\nInferential questions require students to go beyond the explicit information in a text and draw conclusions based on evidence, reasoning, and prior knowledge. Unlike literal questions, which ask for directly stated facts, inferential questions challenge students to interpret, analyze, or predict based on textual clues.\\nFor example, \\nExcerpt:\\n\"Studies have shown that prolonged exposure to stress can negatively impact cognitive function, particularly memory and decision-making. This is because chronic stress leads to an overproduction of cortisol, a hormone that, in excessive amounts, has been linked to neural atrophy in the hippocampus, a brain region crucial for memory formation.\"\\nLiteral Question:\\n\"According to the passage, what is one effect of chronic stress on the brain?\"\\n(Answer: Neural atrophy in the hippocampus, affecting memory formation.)\\nInferential Question:\\n\"Based on the passage, why might individuals in high-stress professions experience difficulty making decisions?\"\\n(Answer: The passage states that chronic stress impairs cognitive functions like decision-making. Since high-stress professions expose individuals to prolonged stress, they may experience cognitive difficulties due to excessive cortisol affecting brain regions involved in these functions.)\\n\\n**What is cause-and-effect inference?**\\nDefinition: Identifying unstated causes or effects based on textual evidence.\\nExample Question: What is the likely cause of X, given the author’s argument?\\nExample Application:\\nText: Prolonged exposure to air pollution has been linked to cognitive decline in older adults.\\nInference: Long-term air pollution exposure may impair brain function.\\n\\n[GUIDELINES]\\nStep1: Summarize your understanding of what inferential questions are and what is cause-and-effect inference. \\nStep 2: Based on your understanding of what inferential questions are, generate one mutliple-choice inferential question based on the text provided by the user. This questions should be cause-and-effect inference.  \\nPrint out your reasoning BEFORE you print out the mutliple-choice inferential question. \\nwrap up the multiple-choice inferential question within <MCQ></MCQ> tags.\\n',\n",
       " 'user_prompt': '<text>\\nEnergy and trophic levels: Ecological pyramids How can you show how energy is used in an ecosystem? Ecologists use food chains and food webs to model the distribution of matter and energy within an ecosystem. They also use another kind of model, called an ecological pyramid. An ecological pyramid shows how energy flows through an ecosystem. The base of the ecological pyramid represents the autotrophs, or first trophic level. Higher trophic levels are layered on top of one another. The initial source of energy for all ecological pyramids is energy from the sun. Energy decreases at each succeeding trophic level. The total energy transfer from one trophic level to the next is only about ten percent because organisms fail to capture and eat all the food available at the trophic level below them. When an organism consumes food, it uses some of the energy in the food for metabolism, some for building body tissues, and some is given off as waste. When the organism is eaten, the energy that was used to build body tissue is available as energy to be used by the organism that consumed it. The energy lost at each successive trophic level enters the environment as heat. Ecologists construct a pyramid of numbers based on the population sizes of organisms in each trophic level. Sometimes population sizes decrease at each higher trophic level. This is not always true. For example, one tree can be food for 50,000 insects. In this case, the pyramid would be inverted. A pyramid of biomass expresses the weight of living material at each trophic level. Ecologists calculate the biomass at each trophic level by finding the average weight of each species at that trophic level and multiplying by the estimated number of organisms in each population.\\n</text>\\n',\n",
       " 'model': 'gpt-3.5-turbo',\n",
       " 'completion': '**Understanding of inferential questions and cause-and-effect inference:**\\n\\nInferential questions require students to make conclusions based on evidence from the text that is not explicitly stated. Specifically, cause-and-effect inference questions prompt students to identify unstated causes or effects based on textual evidence provided in the passage. For instance, students need to infer the relationship between different elements in the text to deduce the causes or effects presented indirectly.\\n\\n**Multiple-choice inferential question:**\\n\\n<MCQ>\\nBased on the information in the text, what is the likely reason for the decrease in energy at each succeeding trophic level in the ecosystem model?\\n\\nA) Organisms become more efficient at capturing and consuming food at higher trophic levels.\\nB) Autotrophs transfer less energy to higher trophic levels due to competition for resources.\\nC) Organisms at higher trophic levels use more energy for metabolism and building body tissues.\\nD) Herbivores at the lower trophic levels consume too much energy, leaving insufficient for higher trophic levels.\\nE) Energy from the sun is absorbed faster at lower trophic levels, leading to reduced availability at higher levels.\\n\\nCorrect Answer: C) Organisms at higher trophic levels use more energy for metabolism and building body tissues.\\n</MCQ>',\n",
       " 'extraction': 'Based on the information in the text, what is the likely reason for the decrease in energy at each succeeding trophic level in the ecosystem model?\\n\\nA) Organisms become more efficient at capturing and consuming food at higher trophic levels.\\nB) Autotrophs transfer less energy to higher trophic levels due to competition for resources.\\nC) Organisms at higher trophic levels use more energy for metabolism and building body tissues.\\nD) Herbivores at the lower trophic levels consume too much energy, leaving insufficient for higher trophic levels.\\nE) Energy from the sun is absorbed faster at lower trophic levels, leading to reduced availability at higher levels.\\n\\nCorrect Answer: C) Organisms at higher trophic levels use more energy for metabolism and building body tissues.',\n",
       " 'execution_time': '0:00:06.878721',\n",
       " 'input_tokens': 873,\n",
       " 'output_tokens': 263}"
      ]
     },
     "execution_count": 13,
     "metadata": {},
     "output_type": "execute_result"
    }
   ],
   "source": [
    "test_agent.get_metadata()"
   ]
  }
 ],
 "metadata": {
  "kernelspec": {
   "display_name": ".venv",
   "language": "python",
   "name": "python3"
  },
  "language_info": {
   "codemirror_mode": {
    "name": "ipython",
    "version": 3
   },
   "file_extension": ".py",
   "mimetype": "text/x-python",
   "name": "python",
   "nbconvert_exporter": "python",
   "pygments_lexer": "ipython3",
   "version": "3.10.3"
  }
 },
 "nbformat": 4,
 "nbformat_minor": 2
}
