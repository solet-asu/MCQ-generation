{
 "cells": [
  {
   "cell_type": "code",
   "execution_count": 1,
   "metadata": {},
   "outputs": [],
   "source": [
    "from src.mcq_generation import *"
   ]
  },
  {
   "cell_type": "code",
   "execution_count": 11,
   "metadata": {},
   "outputs": [],
   "source": [
    "table_name = 'mcq_metadata'\n",
    "database_file = \"../database/mcq_metadata.db\""
   ]
  },
  {
   "cell_type": "code",
   "execution_count": 4,
   "metadata": {},
   "outputs": [
    {
     "data": {
      "text/plain": [
       "True"
      ]
     },
     "execution_count": 4,
     "metadata": {},
     "output_type": "execute_result"
    }
   ],
   "source": [
    "table_exists(table_name, database_file)"
   ]
  },
  {
   "cell_type": "code",
   "execution_count": 4,
   "metadata": {},
   "outputs": [],
   "source": [
    "from src.database_query import *"
   ]
  },
  {
   "cell_type": "code",
   "execution_count": 5,
   "metadata": {},
   "outputs": [
    {
     "name": "stdout",
     "output_type": "stream",
     "text": [
      "Exported 7 rows to ../output\\20250414_mcq_metadata.csv\n"
     ]
    }
   ],
   "source": [
    "export_table_to_csv(\"mcq_metadata\", \"20250414_mcq_metadata.csv\")"
   ]
  },
  {
   "cell_type": "code",
   "execution_count": 5,
   "metadata": {},
   "outputs": [],
   "source": [
    "# Example usage of the function\n",
    "extraction_list = get_extraction_values()"
   ]
  },
  {
   "cell_type": "code",
   "execution_count": 6,
   "metadata": {},
   "outputs": [
    {
     "data": {
      "text/plain": [
       "['What is the likely outcome when organisms fail to capture and consume all available food at a trophic level, as mentioned in the text?\\nA) Populations at higher trophic levels increase rapidly.\\nB) Energy transfer from one trophic level to the next is more efficient.\\nC) The total energy available to organisms decreases at each successive trophic level.\\nD) Ecologists find it challenging to construct ecological pyramids accurately.',\n",
       " 'A) Decrease in biodiversity\\nB) Increase in energy transfer efficiency\\nC) Higher population sizes at higher trophic levels\\nD) Release of energy as heat into the environment',\n",
       " 'Based on the provided text, why do organisms fail to capture and eat all the food available at the trophic level below them in an ecosystem?\\nA) Lack of appetite\\nB) Inefficiency in digestion\\nC) Overpopulation at lower trophic levels\\nD) Excessive energy consumption\\nE) Environmental changes affecting food availability']"
      ]
     },
     "execution_count": 6,
     "metadata": {},
     "output_type": "execute_result"
    }
   ],
   "source": [
    "extraction_list"
   ]
  },
  {
   "cell_type": "code",
   "execution_count": 1,
   "metadata": {},
   "outputs": [],
   "source": [
    "from src.mcq_generation import generate_mcq\n",
    "from src.general import *"
   ]
  },
  {
   "cell_type": "code",
   "execution_count": 2,
   "metadata": {},
   "outputs": [],
   "source": [
    "# get all the files in data folder\n",
    "files_to_process =  get_files_in_directory(\"../data/\")\n",
    "text = read_text_file(files_to_process[0])"
   ]
  },
  {
   "cell_type": "code",
   "execution_count": 3,
   "metadata": {},
   "outputs": [
    {
     "data": {
      "text/plain": [
       "'Energy and trophic levels: Ecological pyramids How can you show how energy is used in an ecosystem? Ecologists use food chains and food webs to model the distribution of matter and energy within an ecosystem. They also use another kind of model, called an ecological pyramid. An ecological pyramid shows how energy flows through an ecosystem. The base of the ecological pyramid represents the autotrophs, or first trophic level. Higher trophic levels are layered on top of one another. The initial source of energy for all ecological pyramids is energy from the sun. Energy decreases at each succeeding trophic level. The total energy transfer from one trophic level to the next is only about ten percent because organisms fail to capture and eat all the food available at the trophic level below them. When an organism consumes food, it uses some of the energy in the food for metabolism, some for building body tissues, and some is given off as waste. When the organism is eaten, the energy that was used to build body tissue is available as energy to be used by the organism that consumed it. The energy lost at each successive trophic level enters the environment as heat. Ecologists construct a pyramid of numbers based on the population sizes of organisms in each trophic level. Sometimes population sizes decrease at each higher trophic level. This is not always true. For example, one tree can be food for 50,000 insects. In this case, the pyramid would be inverted. A pyramid of biomass expresses the weight of living material at each trophic level. Ecologists calculate the biomass at each trophic level by finding the average weight of each species at that trophic level and multiplying by the estimated number of organisms in each population.'"
      ]
     },
     "execution_count": 3,
     "metadata": {},
     "output_type": "execute_result"
    }
   ],
   "source": [
    "text"
   ]
  },
  {
   "cell_type": "code",
   "execution_count": 5,
   "metadata": {},
   "outputs": [],
   "source": [
    "table_name = 'mcq_metadata'\n",
    "database_file = \"../database/mcq_metadata.db\""
   ]
  },
  {
   "cell_type": "code",
   "execution_count": 6,
   "metadata": {},
   "outputs": [
    {
     "data": {
      "text/plain": [
       "{'system_prompt': '[ROLE]:\\nYou are an experienced college instructor. You are an expert in writing multiple-choice questions to assess students’ understanding of academic texts (e.g., chapters in textbooks, academic articles).\\n\\n[TASK]:\\nYou are asked to write an inferential multiple-choice question based on an academic text provided by the user. \\nFollow the guidelines in [GUIDELINES] to do exactly what you are instructed to do. \\n\\n[DEFINITION]\\n**What are inferential questions?**\\nInferential questions require students to go beyond the explicit information in a text and draw conclusions based on evidence, reasoning, and prior knowledge. Unlike literal questions, which ask for directly stated facts, inferential questions challenge students to interpret, analyze, or predict based on textual clues.\\nFor example, \\nExcerpt:\\n\"Studies have shown that prolonged exposure to stress can negatively impact cognitive function, particularly memory and decision-making. This is because chronic stress leads to an overproduction of cortisol, a hormone that, in excessive amounts, has been linked to neural atrophy in the hippocampus, a brain region crucial for memory formation.\"\\nLiteral Question:\\n\"According to the passage, what is one effect of chronic stress on the brain?\"\\n(Answer: Neural atrophy in the hippocampus, affecting memory formation.)\\nInferential Question:\\n\"Based on the passage, why might individuals in high-stress professions experience difficulty making decisions?\"\\n(Reasoning and Answer: The passage states that chronic stress impairs cognitive functions like decision-making. Since high-stress professions expose individuals to prolonged stress, they may experience cognitive difficulties due to excessive cortisol affecting brain regions involved in these functions.)\\n\\n[GUIDELINES]\\nStep1: Summarize your understanding of what inferential questions are. \\nStep2: Identify a key inference based on the TEXT and write an inferential question following the principles below: \\n  - Make the inference clear, objective, and unambiguous.\\n  - Keep the wording concise.\\n  - Try to avoid negative constructions (e.g., words like “not” or “except”).\\n  - Ensure the inference requires understanding of multiple sentences in the TEXT.\\nStep3: Provide a correct answer to the inferential question based on the TEXT. The correct answer should:\\n  - Be indisputably correct based on the TEXT.\\n  - Try not to use words that are in the question.\\n  - Avoid using determinative words such as always, never, absolutely.\\n  - Avoid wording that could make multiple answers seem correct.\\nStep4: Provide three plausible distractors based on the TEXT. The distractors should:\\n  - Be plausible but incorrect based on the TEXT.\\n  - Avoid obviously wrong or ridiculous choices.\\n  - Use common misconceptions or similar-sounding terms.\\n  - Be approximately the same number of words as the answer. \\n  - Be independent of the answer.\\n Step5: Shuffle the answer and distractors to create a list of four options (A, B, C, D).\\n\\nPrint out your reasoning BEFORE you print out the mutliple-choice inferential question. \\n\\nIMPORTANT: \\n1) Wrap up the multiple-choice inferential question within <QUESTION></QUESTION> tags. The stem SHOULD be included in the <QUESTION> tags. Example:\\n<QUESTION>Based on the passage, what is the likely cause of the decrease in energy at each succeeding trophic level in an ecosystem?\\n  \\\\nA) The inefficient capture and consumption of food by organisms\\n  \\\\nB) The availability of sunlight for photosynthesis\\n  \\\\nC) The decrease in the number of autotrophs\\n  \\\\nD) The high metabolic rate of consumers</QUESTION>\\n2) Wrap up the correct answer within <ANSWER></ANSWER> tags. The answer should contain the letter of the correct answer (A, B, C, or D) and the text of the correct answer. Example:\\n<ANSWER>A) The inefficient capture and consumption of food by organisms</ANSWER>\\n',\n",
       " 'user_prompt': '<text>\\nEnergy and trophic levels: Ecological pyramids How can you show how energy is used in an ecosystem? Ecologists use food chains and food webs to model the distribution of matter and energy within an ecosystem. They also use another kind of model, called an ecological pyramid. An ecological pyramid shows how energy flows through an ecosystem. The base of the ecological pyramid represents the autotrophs, or first trophic level. Higher trophic levels are layered on top of one another. The initial source of energy for all ecological pyramids is energy from the sun. Energy decreases at each succeeding trophic level. The total energy transfer from one trophic level to the next is only about ten percent because organisms fail to capture and eat all the food available at the trophic level below them. When an organism consumes food, it uses some of the energy in the food for metabolism, some for building body tissues, and some is given off as waste. When the organism is eaten, the energy that was used to build body tissue is available as energy to be used by the organism that consumed it. The energy lost at each successive trophic level enters the environment as heat. Ecologists construct a pyramid of numbers based on the population sizes of organisms in each trophic level. Sometimes population sizes decrease at each higher trophic level. This is not always true. For example, one tree can be food for 50,000 insects. In this case, the pyramid would be inverted. A pyramid of biomass expresses the weight of living material at each trophic level. Ecologists calculate the biomass at each trophic level by finding the average weight of each species at that trophic level and multiplying by the estimated number of organisms in each population.\\n</text>\\n',\n",
       " 'model': 'gpt-4o',\n",
       " 'completion': '**Step 1: Summarize your understanding of what inferential questions are.**\\n\\nInferential questions require students to draw conclusions or make interpretations based on evidence and reasoning provided in the text, rather than relying solely on explicitly stated information. These questions challenge students to connect various pieces of information and understand underlying concepts.\\n\\n**Step 2: Identify a key inference based on the TEXT and write an inferential question.**\\n\\nBased on the TEXT, it can be inferred that ecological pyramids may vary in their structure depending on specific conditions like the type of organisms present and their biomass. The TEXT mentions that ecological pyramids can be inverted in some cases, such as when one tree feeds a large number of insects, impacting the representation of energy flow or biomass at different trophic levels. \\n\\nInferential Question:\\n<QUESTION>Based on the passage, how can the structure of an ecological pyramid become inverted?\\n  \\\\nA) When there are fewer autotrophs compared to consumer organisms\\n  \\\\nB) When a single organism supports a large number of consumers\\n  \\\\nC) When energy is transferred entirely as heat\\n  \\\\nD) When organisms do not capture all available food</QUESTION>\\n\\n**Step 3: Provide a correct answer to the inferential question based on the TEXT.**\\n\\n<ANSWER>B) When a single organism supports a large number of consumers</ANSWER>\\n\\n**Step 4: Provide three plausible distractors based on the TEXT.**\\n\\n- A) When there are fewer autotrophs compared to consumer organisms\\n- C) When energy is transferred entirely as heat\\n- D) When organisms do not capture all available food\\n\\n**Step 5: Shuffle the answer and distractors to create a list of four options (A, B, C, D).**\\n\\n<QUESTION>Based on the passage, how can the structure of an ecological pyramid become inverted?\\n  \\\\nA) When a single organism supports a large number of consumers\\n  \\\\nB) When energy is transferred entirely as heat\\n  \\\\nC) When there are fewer autotrophs compared to consumer organisms\\n  \\\\nD) When organisms do not capture all available food</QUESTION>\\n\\n<ANSWER>A) When a single organism supports a large number of consumers</ANSWER>',\n",
       " 'execution_time': '0:00:17.548046',\n",
       " 'input_tokens': 1144,\n",
       " 'output_tokens': 459,\n",
       " 'question_type': 'inference',\n",
       " 'mcq': 'Based on the passage, how can the structure of an ecological pyramid become inverted?\\n  \\nA) When there are fewer autotrophs compared to consumer organisms\\n  \\nB) When a single organism supports a large number of consumers\\n  \\nC) When energy is transferred entirely as heat\\n  \\nD) When organisms do not capture all available food',\n",
       " 'mcq_answer': 'B) When a single organism supports a large number of consumers'}"
      ]
     },
     "execution_count": 6,
     "metadata": {},
     "output_type": "execute_result"
    }
   ],
   "source": [
    "generate_mcq(text, question_type=\"inference\", table_name=table_name, database_file=database_file)"
   ]
  },
  {
   "cell_type": "code",
   "execution_count": 5,
   "metadata": {},
   "outputs": [],
   "source": [
    "from src.prompt_fetch import *\n",
    "from src.agent import Agent\n",
    "from src.general import *"
   ]
  },
  {
   "cell_type": "code",
   "execution_count": 6,
   "metadata": {},
   "outputs": [],
   "source": [
    "# get all the files in data folder\n",
    "files_to_process =  get_files_in_directory(\"../data/\")\n"
   ]
  },
  {
   "cell_type": "code",
   "execution_count": 7,
   "metadata": {},
   "outputs": [
    {
     "data": {
      "text/plain": [
       "['../data/text1.txt']"
      ]
     },
     "execution_count": 7,
     "metadata": {},
     "output_type": "execute_result"
    }
   ],
   "source": [
    "files_to_process"
   ]
  },
  {
   "cell_type": "code",
   "execution_count": 9,
   "metadata": {},
   "outputs": [],
   "source": [
    "# get prompts \n",
    "prompts = get_prompts(\"inference_prompts.yaml\")"
   ]
  },
  {
   "cell_type": "code",
   "execution_count": 10,
   "metadata": {},
   "outputs": [
    {
     "data": {
      "text/plain": [
       "{'system_prompt': '[ROLE]:\\nYou are an experienced college instructor. You are an expert in writing multiple-choice questions to assess students’ understanding of academic texts (e.g., chapters in textbooks, academic articles).\\n\\n[TASK]:\\nYou are asked to write an inferential multiple-choice question based on an academic text provided by the user. \\nFollow the guidelines in [GUIDELINES] to do exactly what you are instructed to do. \\n\\n[DEFINITION]\\n**What are inferential questions?**\\nInferential questions require students to go beyond the explicit information in a text and draw conclusions based on evidence, reasoning, and prior knowledge. Unlike literal questions, which ask for directly stated facts, inferential questions challenge students to interpret, analyze, or predict based on textual clues.\\nFor example, \\nExcerpt:\\n\"Studies have shown that prolonged exposure to stress can negatively impact cognitive function, particularly memory and decision-making. This is because chronic stress leads to an overproduction of cortisol, a hormone that, in excessive amounts, has been linked to neural atrophy in the hippocampus, a brain region crucial for memory formation.\"\\nLiteral Question:\\n\"According to the passage, what is one effect of chronic stress on the brain?\"\\n(Answer: Neural atrophy in the hippocampus, affecting memory formation.)\\nInferential Question:\\n\"Based on the passage, why might individuals in high-stress professions experience difficulty making decisions?\"\\n(Answer: The passage states that chronic stress impairs cognitive functions like decision-making. Since high-stress professions expose individuals to prolonged stress, they may experience cognitive difficulties due to excessive cortisol affecting brain regions involved in these functions.)\\n\\n**What is cause-and-effect inference?**\\nDefinition: Identifying unstated causes or effects based on textual evidence.\\nExample Question: What is the likely cause of X, given the author’s argument?\\nExample Application:\\nText: Prolonged exposure to air pollution has been linked to cognitive decline in older adults.\\nInference: Long-term air pollution exposure may impair brain function.\\n\\n[GUIDELINES]\\nStep1: Summarize your understanding of what inferential questions are and what is cause-and-effect inference. \\nStep 2: Based on your understanding of what inferential questions are, generate one mutliple-choice inferential question based on the text provided by the user. This questions should be cause-and-effect inference.  \\nPrint out your reasoning BEFORE you print out the mutliple-choice inferential question. \\nwrap up the multiple-choice inferential question within <MCQ></MCQ> tags.\\n',\n",
       " 'user_prompt': '<text>\\n{text}\\n</text>\\n'}"
      ]
     },
     "execution_count": 10,
     "metadata": {},
     "output_type": "execute_result"
    }
   ],
   "source": [
    "prompts"
   ]
  },
  {
   "cell_type": "code",
   "execution_count": 11,
   "metadata": {},
   "outputs": [],
   "source": [
    "text = read_text_file(files_to_process[0])"
   ]
  },
  {
   "cell_type": "code",
   "execution_count": 12,
   "metadata": {},
   "outputs": [
    {
     "data": {
      "text/plain": [
       "'Energy and trophic levels: Ecological pyramids How can you show how energy is used in an ecosystem? Ecologists use food chains and food webs to model the distribution of matter and energy within an ecosystem. They also use another kind of model, called an ecological pyramid. An ecological pyramid shows how energy flows through an ecosystem. The base of the ecological pyramid represents the autotrophs, or first trophic level. Higher trophic levels are layered on top of one another. The initial source of energy for all ecological pyramids is energy from the sun. Energy decreases at each succeeding trophic level. The total energy transfer from one trophic level to the next is only about ten percent because organisms fail to capture and eat all the food available at the trophic level below them. When an organism consumes food, it uses some of the energy in the food for metabolism, some for building body tissues, and some is given off as waste. When the organism is eaten, the energy that was used to build body tissue is available as energy to be used by the organism that consumed it. The energy lost at each successive trophic level enters the environment as heat. Ecologists construct a pyramid of numbers based on the population sizes of organisms in each trophic level. Sometimes population sizes decrease at each higher trophic level. This is not always true. For example, one tree can be food for 50,000 insects. In this case, the pyramid would be inverted. A pyramid of biomass expresses the weight of living material at each trophic level. Ecologists calculate the biomass at each trophic level by finding the average weight of each species at that trophic level and multiplying by the estimated number of organisms in each population.'"
      ]
     },
     "execution_count": 12,
     "metadata": {},
     "output_type": "execute_result"
    }
   ],
   "source": [
    "text"
   ]
  },
  {
   "cell_type": "code",
   "execution_count": 14,
   "metadata": {},
   "outputs": [],
   "source": [
    "model = \"gpt-3.5-turbo\"\n",
    "system_prompt = prompts[\"system_prompt\"]\n",
    "user_prompt = prompts[\"user_prompt\"].format(text=text)"
   ]
  },
  {
   "cell_type": "code",
   "execution_count": 15,
   "metadata": {},
   "outputs": [],
   "source": [
    "test_agent = Agent(model=model, system_prompt=system_prompt, user_prompt=user_prompt)"
   ]
  },
  {
   "cell_type": "code",
   "execution_count": 16,
   "metadata": {},
   "outputs": [
    {
     "data": {
      "text/plain": [
       "'**Inferential Multiple-Choice Question:** \\nWhat is the likely effect of organisms failing to capture and eat all the food available at a trophic level, as described in the text?\\n\\nA) It leads to an increase in biomass at higher trophic levels.\\nB) It results in a decrease in population sizes at higher trophic levels.\\nC) It causes a surplus of available energy at lower trophic levels.\\nD) It contributes to a redistribution of energy as heat into the environment.\\n\\nAnswer: D) It contributes to a redistribution of energy as heat into the environment.'"
      ]
     },
     "execution_count": 16,
     "metadata": {},
     "output_type": "execute_result"
    }
   ],
   "source": [
    "test_agent.completion_generation()"
   ]
  },
  {
   "cell_type": "code",
   "execution_count": 13,
   "metadata": {},
   "outputs": [
    {
     "data": {
      "text/plain": [
       "{'task': None,\n",
       " 'system_prompt': '[ROLE]:\\nYou are an experienced college instructor. You are an expert in writing multiple-choice questions to assess students’ understanding of academic texts (e.g., chapters in textbooks, academic articles).\\n\\n[TASK]:\\nYou are asked to write an inferential multiple-choice question based on an academic text provided by the user. \\nFollow the guidelines in [GUIDELINES] to do exactly what you are instructed to do. \\n\\n[DEFINITION]\\n**What are inferential questions?**\\nInferential questions require students to go beyond the explicit information in a text and draw conclusions based on evidence, reasoning, and prior knowledge. Unlike literal questions, which ask for directly stated facts, inferential questions challenge students to interpret, analyze, or predict based on textual clues.\\nFor example, \\nExcerpt:\\n\"Studies have shown that prolonged exposure to stress can negatively impact cognitive function, particularly memory and decision-making. This is because chronic stress leads to an overproduction of cortisol, a hormone that, in excessive amounts, has been linked to neural atrophy in the hippocampus, a brain region crucial for memory formation.\"\\nLiteral Question:\\n\"According to the passage, what is one effect of chronic stress on the brain?\"\\n(Answer: Neural atrophy in the hippocampus, affecting memory formation.)\\nInferential Question:\\n\"Based on the passage, why might individuals in high-stress professions experience difficulty making decisions?\"\\n(Answer: The passage states that chronic stress impairs cognitive functions like decision-making. Since high-stress professions expose individuals to prolonged stress, they may experience cognitive difficulties due to excessive cortisol affecting brain regions involved in these functions.)\\n\\n**What is cause-and-effect inference?**\\nDefinition: Identifying unstated causes or effects based on textual evidence.\\nExample Question: What is the likely cause of X, given the author’s argument?\\nExample Application:\\nText: Prolonged exposure to air pollution has been linked to cognitive decline in older adults.\\nInference: Long-term air pollution exposure may impair brain function.\\n\\n[GUIDELINES]\\nStep1: Summarize your understanding of what inferential questions are and what is cause-and-effect inference. \\nStep 2: Based on your understanding of what inferential questions are, generate one mutliple-choice inferential question based on the text provided by the user. This questions should be cause-and-effect inference.  \\nPrint out your reasoning BEFORE you print out the mutliple-choice inferential question. \\nwrap up the multiple-choice inferential question within <MCQ></MCQ> tags.\\n',\n",
       " 'user_prompt': '<text>\\nEnergy and trophic levels: Ecological pyramids How can you show how energy is used in an ecosystem? Ecologists use food chains and food webs to model the distribution of matter and energy within an ecosystem. They also use another kind of model, called an ecological pyramid. An ecological pyramid shows how energy flows through an ecosystem. The base of the ecological pyramid represents the autotrophs, or first trophic level. Higher trophic levels are layered on top of one another. The initial source of energy for all ecological pyramids is energy from the sun. Energy decreases at each succeeding trophic level. The total energy transfer from one trophic level to the next is only about ten percent because organisms fail to capture and eat all the food available at the trophic level below them. When an organism consumes food, it uses some of the energy in the food for metabolism, some for building body tissues, and some is given off as waste. When the organism is eaten, the energy that was used to build body tissue is available as energy to be used by the organism that consumed it. The energy lost at each successive trophic level enters the environment as heat. Ecologists construct a pyramid of numbers based on the population sizes of organisms in each trophic level. Sometimes population sizes decrease at each higher trophic level. This is not always true. For example, one tree can be food for 50,000 insects. In this case, the pyramid would be inverted. A pyramid of biomass expresses the weight of living material at each trophic level. Ecologists calculate the biomass at each trophic level by finding the average weight of each species at that trophic level and multiplying by the estimated number of organisms in each population.\\n</text>\\n',\n",
       " 'model': 'gpt-3.5-turbo',\n",
       " 'completion': '**Understanding of inferential questions and cause-and-effect inference:**\\n\\nInferential questions require students to make conclusions based on evidence from the text that is not explicitly stated. Specifically, cause-and-effect inference questions prompt students to identify unstated causes or effects based on textual evidence provided in the passage. For instance, students need to infer the relationship between different elements in the text to deduce the causes or effects presented indirectly.\\n\\n**Multiple-choice inferential question:**\\n\\n<MCQ>\\nBased on the information in the text, what is the likely reason for the decrease in energy at each succeeding trophic level in the ecosystem model?\\n\\nA) Organisms become more efficient at capturing and consuming food at higher trophic levels.\\nB) Autotrophs transfer less energy to higher trophic levels due to competition for resources.\\nC) Organisms at higher trophic levels use more energy for metabolism and building body tissues.\\nD) Herbivores at the lower trophic levels consume too much energy, leaving insufficient for higher trophic levels.\\nE) Energy from the sun is absorbed faster at lower trophic levels, leading to reduced availability at higher levels.\\n\\nCorrect Answer: C) Organisms at higher trophic levels use more energy for metabolism and building body tissues.\\n</MCQ>',\n",
       " 'extraction': 'Based on the information in the text, what is the likely reason for the decrease in energy at each succeeding trophic level in the ecosystem model?\\n\\nA) Organisms become more efficient at capturing and consuming food at higher trophic levels.\\nB) Autotrophs transfer less energy to higher trophic levels due to competition for resources.\\nC) Organisms at higher trophic levels use more energy for metabolism and building body tissues.\\nD) Herbivores at the lower trophic levels consume too much energy, leaving insufficient for higher trophic levels.\\nE) Energy from the sun is absorbed faster at lower trophic levels, leading to reduced availability at higher levels.\\n\\nCorrect Answer: C) Organisms at higher trophic levels use more energy for metabolism and building body tissues.',\n",
       " 'execution_time': '0:00:06.878721',\n",
       " 'input_tokens': 873,\n",
       " 'output_tokens': 263}"
      ]
     },
     "execution_count": 13,
     "metadata": {},
     "output_type": "execute_result"
    }
   ],
   "source": [
    "test_agent.get_metadata()"
   ]
  },
  {
   "cell_type": "code",
   "execution_count": 1,
   "metadata": {},
   "outputs": [
    {
     "data": {
      "text/plain": [
       "75685.90350047304"
      ]
     },
     "execution_count": 1,
     "metadata": {},
     "output_type": "execute_result"
    }
   ],
   "source": [
    "80000000/1057"
   ]
  },
  {
   "cell_type": "code",
   "execution_count": 1,
   "metadata": {},
   "outputs": [
    {
     "name": "stdout",
     "output_type": "stream",
     "text": [
      "en_core_web_sm is already installed.\n"
     ]
    }
   ],
   "source": [
    "from src.text_processing import *"
   ]
  },
  {
   "cell_type": "code",
   "execution_count": 5,
   "metadata": {},
   "outputs": [],
   "source": [
    "from src.general import *\n",
    "\n",
    "# get all the files in data folder\n",
    "files_to_process =  get_files_in_directory(\"../data/\")\n",
    "text = read_text_file(files_to_process[1])"
   ]
  },
  {
   "cell_type": "code",
   "execution_count": 6,
   "metadata": {},
   "outputs": [
    {
     "data": {
      "text/plain": [
       "'The Alaska pipeline starts at the frozen edge of the Arctic Ocean. It stretches southward across the largest and northernmost state in the United States, ending at a remote ice-free seaport village nearly 800 miles from where it begins. It is massive in size and extremely complicated to operate.\\nThe steel pipe crosses windswept plains and endless miles of delicate tundra that tops the frozen ground. It weaves through crooked canyons, climbs sheer mountains, plunges over rocky crags, makes its way through thick forests, and passes over or under hundreds of rivers and streams. The pipe is 4 feet in diameter, and up to 2 million barrels (or 84 million gallons) of crude oil can be pumped through it daily. Resting on H-shaped steel racks called \"bents,\" long sections of the pipeline follow a zigzag course high above the frozen earth. Other long sections drop out of sight beneath spongy or rocky ground and return to the surface later on. The pattern of the pipeline\\'s up-and-down route is determined by the often harsh demands of the arctic and subarctic climate, the tortuous lay of the land, and the varied compositions of soil, rock, or permafrost (permanently frozen ground). A little more than half of the pipeline is elevated above the ground. The remainder is buried anywhere from 3 to 12 feet, depending largely upon the type of terrain and the properties of the soil. \\nOne of the largest in the world, the pipeline cost approximately $8 billion and is by far the biggest and most expensive construction project ever undertaken by private industry. In fact, no single business could raise that much money, so eight major oil companies formed a consortium in order to share the costs. Each company controlled oil rights to particular shares of land in the oil fields and paid into the pipeline-construction fund according to the size of its holdings. Today, despite enormous problems of climate, supply shortages, equipment breakdowns, labor disagreements, treacherous terrain, a certain amount of mismanagement, and even theft, the Alaska pipeline has been completed and is operating. '"
      ]
     },
     "execution_count": 6,
     "metadata": {},
     "output_type": "execute_result"
    }
   ],
   "source": [
    "text"
   ]
  },
  {
   "cell_type": "code",
   "execution_count": 7,
   "metadata": {},
   "outputs": [
    {
     "data": {
      "text/plain": [
       "'<chunk1>The Alaska pipeline starts at the frozen edge of the Arctic Ocean. It stretches southward across the largest and northernmost state in the United States, ending at a remote ice-free seaport village nearly 800 miles from where it begins. It is massive in size and extremely complicated to operate.\\nThe steel pipe crosses windswept plains and endless miles of delicate tundra that tops the frozen ground. It weaves through crooked canyons, climbs sheer mountains, plunges over rocky crags, makes its way through thick forests, and passes over or under hundreds of rivers and streams. The pipe is 4 feet in diameter, and up to 2 million barrels (or 84 million gallons) of crude oil can be pumped through it daily. Resting on H-shaped steel racks called \"bents,\" long sections of the pipeline follow a zigzag course high above the frozen earth. Other long sections drop out of sight beneath spongy or rocky ground and return to the surface later on. The pattern of the pipeline\\'s up-and-down route is determined by the often harsh demands of the arctic and subarctic climate, the tortuous lay of the land, and the varied compositions of soil, rock, or permafrost (permanently frozen ground). A little more than half of the pipeline is elevated above the ground. The remainder is buried anywhere from 3 to 12 feet, depending largely upon the type of terrain and the properties of the soil. \\nOne of the largest in the world, the pipeline cost approximately $8 billion and is by far the biggest and most expensive construction project ever undertaken by private industry. In fact, no single business could raise that much money, so eight major oil companies formed a consortium in order to share the costs. Each company controlled oil rights to particular shares of land in the oil fields and paid into the pipeline-construction fund according to the size of its holdings. Today, despite enormous problems of climate, supply shortages, equipment breakdowns, labor disagreements, treacherous terrain, a certain amount of mismanagement, and even theft, the Alaska pipeline has been completed and is operating. </chunk1>'"
      ]
     },
     "execution_count": 7,
     "metadata": {},
     "output_type": "execute_result"
    }
   ],
   "source": [
    "add_chunk_markers(text)"
   ]
  },
  {
   "cell_type": "markdown",
   "metadata": {},
   "source": [
    "## Test Preprocessor"
   ]
  },
  {
   "cell_type": "code",
   "execution_count": 1,
   "metadata": {},
   "outputs": [
    {
     "name": "stdout",
     "output_type": "stream",
     "text": [
      "en_core_web_sm is already installed.\n"
     ]
    }
   ],
   "source": [
    "from src.text_processing import *"
   ]
  },
  {
   "cell_type": "code",
   "execution_count": 2,
   "metadata": {},
   "outputs": [],
   "source": [
    "from src.general import *"
   ]
  },
  {
   "cell_type": "code",
   "execution_count": 3,
   "metadata": {},
   "outputs": [],
   "source": [
    "# get all the files in data folder\n",
    "files_to_process =  get_files_in_directory(\"../data/\")\n",
    "text = read_text_file(files_to_process[2])"
   ]
  },
  {
   "cell_type": "code",
   "execution_count": 4,
   "metadata": {},
   "outputs": [
    {
     "data": {
      "text/plain": [
       "'Research magazine from Stanford University Journalist Anne Simonson â€“ January 13, 2008\\n\\nThe sun counteracts cancer\\nSunrays that hit our skin reinforce the bodyâ€™s own defense against cancer. The campaigns to get people out of the sun have gone too far, according to the researcher Johan Moan.\\n\\nâ€œThe rays of the sun speed up the bodyâ€™s production of vitamin D. This can prevent cancer as well as many other diseases.â€\\x9d So says Johan Moan, Professor at the Cancer Center at Boston Medical Center. Along with colleagues from Norway, he is presenting results that support the theory that sun exposure provides the body with a more effective defense against cancer. The findings show, for example, that people who live closer to the equator, and whose bodies hence are more exposed to the sun, have a better chance of survival if they develop cancer in their internal organs. Moreover, they show that cancer patients have a better prognosis if they are diagnosed in summer or autumn, when their store of vitamin D has been replenished. Their research has been published in the prestigious scientific journal Proceedings of the National Academy of Sciences.\\n\\nSunbathing or cod-liver oil is important to northerners\\nVitamin D has also been shown to play a protective role in many types of cancer of internal organs, and possibly also for a number of other diseases. Avoiding the sun can thus do more harm than good, according to Richard Setlow, who is one of Moanâ€™s collaborators. He thinks that this applies especially to us northerners, who see little of the sun for long periods of the year. Setlow is a biophysicist at the Brookhaven National Laboratory and is one of the worldâ€™s most recognized experts on the relationship between solar radiation and skin cancer.\\n\\nâ€œPeople are being advised to spend less time in the sun, but some sun without sunscreen is healthy for us. If you stay outside for half an hour in midsummer, you obtain the same amount of vitamin D as you would from drinking a small bottle of cod-liver oil,â€\\x9d Moan says. He claims that in addition, it would be beneficial to use a tanning bed once or twice a week during the dark winter months, because this provides an excellent supplement of vitamin D at that time of year. â€œFrom November to March we obtain no vitamin D from the sun, and we therefore need to ingest it or obtain it from a tanning bed,â€\\x9d Moan explains.\\n\\nMelanomas are triggered by the type of solar radiation known as UVA. The bodyâ€™s production of vitamin D is stimulated by the type of solar radiation known as UVB. Perhaps we should change the sunscreens so that they do not block as much of the UVB radiation, while still protecting us against the UVA rays, according to Setlow.\\n'"
      ]
     },
     "execution_count": 4,
     "metadata": {},
     "output_type": "execute_result"
    }
   ],
   "source": [
    "text"
   ]
  },
  {
   "cell_type": "code",
   "execution_count": 5,
   "metadata": {},
   "outputs": [],
   "source": [
    "chunked_text = add_chunk_markers(text)"
   ]
  },
  {
   "cell_type": "code",
   "execution_count": 6,
   "metadata": {},
   "outputs": [
    {
     "data": {
      "text/plain": [
       "'<chunk1>Research magazine from Stanford University Journalist Anne Simonson â€“ January 13, 2008 The sun counteracts cancer\\nSunrays that hit our skin reinforce the bodyâ€™s own defense against cancer. The campaigns to get people out of the sun have gone too far, according to the researcher Johan Moan. â€œThe rays of the sun speed up the bodyâ€™s production of vitamin D. This can prevent cancer as well as many other diseases.â€\\x9d So says Johan Moan, Professor at the Cancer Center at Boston Medical Center. Along with colleagues from Norway, he is presenting results that support the theory that sun exposure provides the body with a more effective defense against cancer. The findings show, for example, that people who live closer to the equator, and whose bodies hence are more exposed to the sun, have a better chance of survival if they develop cancer in their internal organs. Moreover, they show that cancer patients have a better prognosis if they are diagnosed in summer or autumn, when their store of vitamin D has been replenished. Their research has been published in the prestigious scientific journal Proceedings of the National Academy of Sciences. Sunbathing or cod-liver oil is important to northerners\\nVitamin D has also been shown to play a protective role in many types of cancer of internal organs, and possibly also for a number of other diseases. Avoiding the sun can thus do more harm than good, according to Richard Setlow, who is one of Moanâ€™s collaborators. He thinks that this applies especially to us northerners, who see little of the sun for long periods of the year. Setlow is a biophysicist at the Brookhaven National Laboratory and is one of the worldâ€™s most recognized experts on the relationship between solar radiation and skin cancer.</chunk1>\\n\\n<chunk2>â€œPeople are being advised to spend less time in the sun, but some sun without sunscreen is healthy for us. If you stay outside for half an hour in midsummer, you obtain the same amount of vitamin D as you would from drinking a small bottle of cod-liver oil,â€\\x9d Moan says. He claims that in addition, it would be beneficial to use a tanning bed once or twice a week during the dark winter months, because this provides an excellent supplement of vitamin D at that time of year. â€œFrom November to March we obtain no vitamin D from the sun, and we therefore need to ingest it or obtain it from a tanning bed,â€\\x9d Moan explains. Melanomas are triggered by the type of solar radiation known as UVA. The bodyâ€™s production of vitamin D is stimulated by the type of solar radiation known as UVB. Perhaps we should change the sunscreens so that they do not block as much of the UVB radiation, while still protecting us against the UVA rays, according to Setlow.\\n</chunk2>'"
      ]
     },
     "execution_count": 6,
     "metadata": {},
     "output_type": "execute_result"
    }
   ],
   "source": [
    "chunked_text"
   ]
  },
  {
   "cell_type": "markdown",
   "metadata": {},
   "source": [
    "## Test Planner"
   ]
  },
  {
   "cell_type": "code",
   "execution_count": 7,
   "metadata": {},
   "outputs": [],
   "source": [
    "from src.planner import *"
   ]
  },
  {
   "cell_type": "code",
   "execution_count": 8,
   "metadata": {},
   "outputs": [],
   "source": [
    "import uuid\n",
    "\n",
    "# Generate a unique invocation ID for this workflow run\n",
    "invocation_id = str(uuid.uuid4())\n",
    "\n"
   ]
  },
  {
   "cell_type": "code",
   "execution_count": 9,
   "metadata": {},
   "outputs": [
    {
     "name": "stderr",
     "output_type": "stream",
     "text": [
      "INFO:root:Table 'plan_metadata' created or already exists.\n",
      "DEBUG:openai._base_client:Request options: {'method': 'post', 'url': '/chat/completions', 'files': None, 'json_data': {'messages': [{'role': 'system', 'content': '[ROLE]:\\n  You are an experienced college instructor specializing in developing reading comprehension questions to evaluate students\\' understanding of academic texts, such as textbook chapters and academic articles. You excel at identifying and selecting key facts and inferences from these texts for question development.\\n\\n[TASK]:\\n  Your task is to summarize the academic text provided by the user and select the specified number of facts and inferences as requested by the user following the guidelines below. \\n\\n[Guidelines]\\n  Step1: Summarize the text \\n  The text is divided into chunks (as indicated by the html tags such as <chunk1></chunk1>). Summarize the content within each chunk, maintaining the chunk tags in your summary.\\n\\n  Step2: Identify key facts and/or inferences\\n  Depending on the user’s requests, create a list of key facts and/or inferences from the academic text. The number of facts or inferences can be more than what the user requests. \\n  Skip this step if the user requests none of them. \\n\\n  Read the definitions below to better understand what key facts and inferences are:\\n  \\n  ** Key Facts**\\n  Key facts are explicit pieces of information stated directly in the text. They usually reflect the main ideas, supporting details, definitions, dates, names, results, or statistics that are important for understanding the author’s argument or findings.\\n  Example (from a psychology textbook):\\n  \"Classical conditioning was first demonstrated by Ivan Pavlov in 1897 through experiments with dogs.\"\\n  Key fact: Ivan Pavlov demonstrated classical conditioning in 1897 using dogs.\\n  \\n  ** Key Inferences**\\n  Key inferences are logical conclusions that a reader can draw from the information in the text, even though they are not directly stated. Inferences require the reader to interpret, analyze, or synthesize information to understand implications, underlying meanings, or cause-effect relationships.\\n  Characteristics:\\n  - Require higher-order thinking (interpretive or inferential comprehension)\\n  - Often answer the questions: why, what does this suggest, what can be concluded, what would likely happen if...\\n  Example (from a sociology article):\\n  \"In communities with high income inequality, researchers found lower levels of trust among residents and reduced participation in civic activities.\"\\n  Key inference: High income inequality may contribute to weakened social cohesion.\\n\\n  key inferences may emerge from synthesizing ideas spread across multiple sentences or paragraphs. These inferences require readers to connect concepts that are not directly adjacent in the text.\\n  Example (from a Psychology Text):\\n  chunk1: \"...Studies show that securely attached infants tend to be more socially competent and exhibit fewer behavioral problems later in life...\"\\n  chunk5: \"...Longitudinal research indicates that early childhood experiences with caregivers shape patterns of emotion regulation, social skills, and even academic performance into adolescence and adulthood...\"\\n  Key inference: Children who experience secure attachment and authoritative parenting early in life are more likely to develop strong emotional and social skills that persist into adolescence and adulthood.\\n\\n  Step3: Order the list of facts or/and inferences based on their importance for understanding the text. Select the desired number of facts or/and inferences as requested by the user. \\n  \\n  Step4: Output your response following the JSON format as specified below. \\n\\n  {\\n    \"summary\": \"Summarized text here\",\\n    \"reasoning_for_selection\": \"Your reasoning for the selection here\",\\n    \"selection\": {\\n      \"facts\": {\\n        \"fact1\": {\"content\": \"Content of fact1\", \"chunk\": [chunk_label]},\\n        \"fact2\": {\"content\": \"Content of fact2\", \"chunk\": [chunk_label]}\\n        // Add more facts as requested by the user\\n      },\\n      \"inferences\": {\\n        \"inference1\": {\"content\": \"Content of inference1\", \"chunk\": [chunk_label]},\\n        \"inference2\": {\"content\": \"Content of inference2\", \"chunk\": [chunk_label]}\\n        // Add more inferences as requested by the user\\n      }\\n    }\\n  }\\n\\n  IMPORTANT:\\n  - The \"reasoning_for_selection\" should briefly explain how the facts or inferences are derived and why they are important for understanding the text.\\n  - The number of facts and inferences should match the user\\'s request. For example, if the user requests 3 facts, include \"fact1\", \"fact2\", and \"fact3\".\\n  - If no facts or inferences are requested, the values for the \"facts\" or \"inferences\" field should be an empty object {}.\\n  - The \"chunk\" field indicates the source of the facts or inferences in the text. The value is a list of chunk labels obtained from the html tags, such as “chunk1”, “chunk2”. Sometimes an inference may be from multiple chunks, such as [“chunk1”, “chunck2”].\\n\\nStep5: Self-critique your response\\n  After completing the task, review your response to ensure it meets the requirements. Revise your output if necessary. \\n  - Do you keep the chunk tags in the summary? \\n  - Do you provide the number and type of facts and/or inferences as requested by the user?\\n  - Are the facts and/or inferences relevant and essential for comprehending the text? \\n  - Do you provide correct chunk labels to indicate the source of each fact and/or inference?\\n  - Does the output include everything required and follow the format correctly?\\n'}, {'role': 'user', 'content': '<text>\\n<chunk1>Research magazine from Stanford University Journalist Anne Simonson â€“ January 13, 2008 The sun counteracts cancer\\nSunrays that hit our skin reinforce the bodyâ€™s own defense against cancer. The campaigns to get people out of the sun have gone too far, according to the researcher Johan Moan. â€œThe rays of the sun speed up the bodyâ€™s production of vitamin D. This can prevent cancer as well as many other diseases.â€\\x9d So says Johan Moan, Professor at the Cancer Center at Boston Medical Center. Along with colleagues from Norway, he is presenting results that support the theory that sun exposure provides the body with a more effective defense against cancer. The findings show, for example, that people who live closer to the equator, and whose bodies hence are more exposed to the sun, have a better chance of survival if they develop cancer in their internal organs. Moreover, they show that cancer patients have a better prognosis if they are diagnosed in summer or autumn, when their store of vitamin D has been replenished. Their research has been published in the prestigious scientific journal Proceedings of the National Academy of Sciences. Sunbathing or cod-liver oil is important to northerners\\nVitamin D has also been shown to play a protective role in many types of cancer of internal organs, and possibly also for a number of other diseases. Avoiding the sun can thus do more harm than good, according to Richard Setlow, who is one of Moanâ€™s collaborators. He thinks that this applies especially to us northerners, who see little of the sun for long periods of the year. Setlow is a biophysicist at the Brookhaven National Laboratory and is one of the worldâ€™s most recognized experts on the relationship between solar radiation and skin cancer.</chunk1>\\n\\n<chunk2>â€œPeople are being advised to spend less time in the sun, but some sun without sunscreen is healthy for us. If you stay outside for half an hour in midsummer, you obtain the same amount of vitamin D as you would from drinking a small bottle of cod-liver oil,â€\\x9d Moan says. He claims that in addition, it would be beneficial to use a tanning bed once or twice a week during the dark winter months, because this provides an excellent supplement of vitamin D at that time of year. â€œFrom November to March we obtain no vitamin D from the sun, and we therefore need to ingest it or obtain it from a tanning bed,â€\\x9d Moan explains. Melanomas are triggered by the type of solar radiation known as UVA. The bodyâ€™s production of vitamin D is stimulated by the type of solar radiation known as UVB. Perhaps we should change the sunscreens so that they do not block as much of the UVB radiation, while still protecting us against the UVA rays, according to Setlow.\\n</chunk2>\\n</text>\\n<number_of_facts>\\nI need 1 key facts from the text.\\n</number_of_facts>\\n<number_of_inferences>\\nI need 1 key inferences from the text.\\n</number_of_inferences>'}], 'model': 'gpt-4o'}}\n",
      "DEBUG:httpcore.connection:connect_tcp.started host='api.openai.com' port=443 local_address=None timeout=5.0 socket_options=None\n",
      "DEBUG:httpcore.connection:connect_tcp.complete return_value=<httpcore._backends.anyio.AnyIOStream object at 0x0000021F32348A90>\n",
      "DEBUG:httpcore.connection:start_tls.started ssl_context=<ssl.SSLContext object at 0x0000021F313A11C0> server_hostname='api.openai.com' timeout=5.0\n",
      "DEBUG:httpcore.connection:start_tls.complete return_value=<httpcore._backends.anyio.AnyIOStream object at 0x0000021F32348220>\n",
      "DEBUG:httpcore.http11:send_request_headers.started request=<Request [b'POST']>\n",
      "DEBUG:httpcore.http11:send_request_headers.complete\n",
      "DEBUG:httpcore.http11:send_request_body.started request=<Request [b'POST']>\n",
      "DEBUG:httpcore.http11:send_request_body.complete\n",
      "DEBUG:httpcore.http11:receive_response_headers.started request=<Request [b'POST']>\n",
      "DEBUG:httpcore.http11:receive_response_headers.complete return_value=(b'HTTP/1.1', 200, b'OK', [(b'Date', b'Wed, 21 May 2025 21:26:33 GMT'), (b'Content-Type', b'application/json'), (b'Transfer-Encoding', b'chunked'), (b'Connection', b'keep-alive'), (b'access-control-expose-headers', b'X-Request-ID'), (b'openai-organization', b'asu-knowledge-enterprise'), (b'openai-processing-ms', b'11179'), (b'openai-version', b'2020-10-01'), (b'x-envoy-upstream-service-time', b'11188'), (b'x-ratelimit-limit-requests', b'10000'), (b'x-ratelimit-limit-tokens', b'30000000'), (b'x-ratelimit-remaining-requests', b'9999'), (b'x-ratelimit-remaining-tokens', b'29997902'), (b'x-ratelimit-reset-requests', b'6ms'), (b'x-ratelimit-reset-tokens', b'4ms'), (b'x-request-id', b'req_2cb92d67dd5d4fb354c4f70076087710'), (b'strict-transport-security', b'max-age=31536000; includeSubDomains; preload'), (b'cf-cache-status', b'DYNAMIC'), (b'Set-Cookie', b'__cf_bm=iiYhWDMi5xZEa11IBCS97bjqn3wefFT_gSBT35StgDE-1747862793-1.0.1.1-v1bujjpiiprMUK4w8jnZBD1igp8v9Ly.b8hECv_JUqjtkDew5fIyM_pDt7k.lJ2v8S8_AfnkA61SHuoxxpq66KkT7KZu2neIRO.fZhUlAxs; path=/; expires=Wed, 21-May-25 21:56:33 GMT; domain=.api.openai.com; HttpOnly; Secure; SameSite=None'), (b'X-Content-Type-Options', b'nosniff'), (b'Set-Cookie', b'_cfuvid=qtWGqqBGHtGBRc_2bLTE3D96VIpuy3GiMgI56e3HEf8-1747862793193-0.0.1.1-604800000; path=/; domain=.api.openai.com; HttpOnly; Secure; SameSite=None'), (b'Server', b'cloudflare'), (b'CF-RAY', b'943726d2d8b627db-SAN'), (b'Content-Encoding', b'gzip'), (b'alt-svc', b'h3=\":443\"; ma=86400')])\n",
      "INFO:httpx:HTTP Request: POST https://api.openai.com/v1/chat/completions \"HTTP/1.1 200 OK\"\n",
      "DEBUG:httpcore.http11:receive_response_body.started request=<Request [b'POST']>\n",
      "DEBUG:httpcore.http11:receive_response_body.complete\n",
      "DEBUG:httpcore.http11:response_closed.started\n",
      "DEBUG:httpcore.http11:response_closed.complete\n",
      "DEBUG:openai._base_client:HTTP Request: POST https://api.openai.com/v1/chat/completions \"200 OK\"\n",
      "INFO:root:Metadata inserted into 'plan_metadata'.\n"
     ]
    }
   ],
   "source": [
    "plan = await generate_plan(\n",
    "    invocation_id=invocation_id,\n",
    "    model=\"gpt-4o\",\n",
    "    text=chunked_text, \n",
    "    fact = 1, \n",
    "    inference = 1, \n",
    "    table_name = \"plan_metadata\", \n",
    "    database_file = \"../database/mcq_metadata.db\")"
   ]
  },
  {
   "cell_type": "code",
   "execution_count": 10,
   "metadata": {},
   "outputs": [
    {
     "data": {
      "text/plain": [
       "{'system_prompt': '[ROLE]:\\n  You are an experienced college instructor specializing in developing reading comprehension questions to evaluate students\\' understanding of academic texts, such as textbook chapters and academic articles. You excel at identifying and selecting key facts and inferences from these texts for question development.\\n\\n[TASK]:\\n  Your task is to summarize the academic text provided by the user and select the specified number of facts and inferences as requested by the user following the guidelines below. \\n\\n[Guidelines]\\n  Step1: Summarize the text \\n  The text is divided into chunks (as indicated by the html tags such as <chunk1></chunk1>). Summarize the content within each chunk, maintaining the chunk tags in your summary.\\n\\n  Step2: Identify key facts and/or inferences\\n  Depending on the user’s requests, create a list of key facts and/or inferences from the academic text. The number of facts or inferences can be more than what the user requests. \\n  Skip this step if the user requests none of them. \\n\\n  Read the definitions below to better understand what key facts and inferences are:\\n  \\n  ** Key Facts**\\n  Key facts are explicit pieces of information stated directly in the text. They usually reflect the main ideas, supporting details, definitions, dates, names, results, or statistics that are important for understanding the author’s argument or findings.\\n  Example (from a psychology textbook):\\n  \"Classical conditioning was first demonstrated by Ivan Pavlov in 1897 through experiments with dogs.\"\\n  Key fact: Ivan Pavlov demonstrated classical conditioning in 1897 using dogs.\\n  \\n  ** Key Inferences**\\n  Key inferences are logical conclusions that a reader can draw from the information in the text, even though they are not directly stated. Inferences require the reader to interpret, analyze, or synthesize information to understand implications, underlying meanings, or cause-effect relationships.\\n  Characteristics:\\n  - Require higher-order thinking (interpretive or inferential comprehension)\\n  - Often answer the questions: why, what does this suggest, what can be concluded, what would likely happen if...\\n  Example (from a sociology article):\\n  \"In communities with high income inequality, researchers found lower levels of trust among residents and reduced participation in civic activities.\"\\n  Key inference: High income inequality may contribute to weakened social cohesion.\\n\\n  key inferences may emerge from synthesizing ideas spread across multiple sentences or paragraphs. These inferences require readers to connect concepts that are not directly adjacent in the text.\\n  Example (from a Psychology Text):\\n  chunk1: \"...Studies show that securely attached infants tend to be more socially competent and exhibit fewer behavioral problems later in life...\"\\n  chunk5: \"...Longitudinal research indicates that early childhood experiences with caregivers shape patterns of emotion regulation, social skills, and even academic performance into adolescence and adulthood...\"\\n  Key inference: Children who experience secure attachment and authoritative parenting early in life are more likely to develop strong emotional and social skills that persist into adolescence and adulthood.\\n\\n  Step3: Order the list of facts or/and inferences based on their importance for understanding the text. Select the desired number of facts or/and inferences as requested by the user. \\n  \\n  Step4: Output your response following the JSON format as specified below. \\n\\n  {\\n    \"summary\": \"Summarized text here\",\\n    \"reasoning_for_selection\": \"Your reasoning for the selection here\",\\n    \"selection\": {\\n      \"facts\": {\\n        \"fact1\": {\"content\": \"Content of fact1\", \"chunk\": [chunk_label]},\\n        \"fact2\": {\"content\": \"Content of fact2\", \"chunk\": [chunk_label]}\\n        // Add more facts as requested by the user\\n      },\\n      \"inferences\": {\\n        \"inference1\": {\"content\": \"Content of inference1\", \"chunk\": [chunk_label]},\\n        \"inference2\": {\"content\": \"Content of inference2\", \"chunk\": [chunk_label]}\\n        // Add more inferences as requested by the user\\n      }\\n    }\\n  }\\n\\n  IMPORTANT:\\n  - The \"reasoning_for_selection\" should briefly explain how the facts or inferences are derived and why they are important for understanding the text.\\n  - The number of facts and inferences should match the user\\'s request. For example, if the user requests 3 facts, include \"fact1\", \"fact2\", and \"fact3\".\\n  - If no facts or inferences are requested, the values for the \"facts\" or \"inferences\" field should be an empty object {}.\\n  - The \"chunk\" field indicates the source of the facts or inferences in the text. The value is a list of chunk labels obtained from the html tags, such as “chunk1”, “chunk2”. Sometimes an inference may be from multiple chunks, such as [“chunk1”, “chunck2”].\\n\\nStep5: Self-critique your response\\n  After completing the task, review your response to ensure it meets the requirements. Revise your output if necessary. \\n  - Do you keep the chunk tags in the summary? \\n  - Do you provide the number and type of facts and/or inferences as requested by the user?\\n  - Are the facts and/or inferences relevant and essential for comprehending the text? \\n  - Do you provide correct chunk labels to indicate the source of each fact and/or inference?\\n  - Does the output include everything required and follow the format correctly?\\n',\n",
       " 'user_prompt': '<text>\\n<chunk1>Research magazine from Stanford University Journalist Anne Simonson â€“ January 13, 2008 The sun counteracts cancer\\nSunrays that hit our skin reinforce the bodyâ€™s own defense against cancer. The campaigns to get people out of the sun have gone too far, according to the researcher Johan Moan. â€œThe rays of the sun speed up the bodyâ€™s production of vitamin D. This can prevent cancer as well as many other diseases.â€\\x9d So says Johan Moan, Professor at the Cancer Center at Boston Medical Center. Along with colleagues from Norway, he is presenting results that support the theory that sun exposure provides the body with a more effective defense against cancer. The findings show, for example, that people who live closer to the equator, and whose bodies hence are more exposed to the sun, have a better chance of survival if they develop cancer in their internal organs. Moreover, they show that cancer patients have a better prognosis if they are diagnosed in summer or autumn, when their store of vitamin D has been replenished. Their research has been published in the prestigious scientific journal Proceedings of the National Academy of Sciences. Sunbathing or cod-liver oil is important to northerners\\nVitamin D has also been shown to play a protective role in many types of cancer of internal organs, and possibly also for a number of other diseases. Avoiding the sun can thus do more harm than good, according to Richard Setlow, who is one of Moanâ€™s collaborators. He thinks that this applies especially to us northerners, who see little of the sun for long periods of the year. Setlow is a biophysicist at the Brookhaven National Laboratory and is one of the worldâ€™s most recognized experts on the relationship between solar radiation and skin cancer.</chunk1>\\n\\n<chunk2>â€œPeople are being advised to spend less time in the sun, but some sun without sunscreen is healthy for us. If you stay outside for half an hour in midsummer, you obtain the same amount of vitamin D as you would from drinking a small bottle of cod-liver oil,â€\\x9d Moan says. He claims that in addition, it would be beneficial to use a tanning bed once or twice a week during the dark winter months, because this provides an excellent supplement of vitamin D at that time of year. â€œFrom November to March we obtain no vitamin D from the sun, and we therefore need to ingest it or obtain it from a tanning bed,â€\\x9d Moan explains. Melanomas are triggered by the type of solar radiation known as UVA. The bodyâ€™s production of vitamin D is stimulated by the type of solar radiation known as UVB. Perhaps we should change the sunscreens so that they do not block as much of the UVB radiation, while still protecting us against the UVA rays, according to Setlow.\\n</chunk2>\\n</text>\\n<number_of_facts>\\nI need 1 key facts from the text.\\n</number_of_facts>\\n<number_of_inferences>\\nI need 1 key inferences from the text.\\n</number_of_inferences>',\n",
       " 'model': 'gpt-4o',\n",
       " 'completion': '{\\n  \"summary\": \"<chunk1>Research suggests that sun exposure enhances the production of vitamin D, which can improve the body\\'s defense against cancer. Johan Moan, a Professor at the Cancer Center at Boston Medical Center, claims that people living closer to the equator or experiencing certain seasons have improved cancer survival rates due to higher vitamin D levels. His research, along with Richard Setlow, published in a prestigious journal, emphasizes that avoiding sun can be harmful, particularly for those in northern regions. </chunk1> <chunk2>Moan advises some sun exposure without sunscreen for vitamin D, comparing it to the intake of cod-liver oil. He suggests tanning beds as a vitamin D supplement during dark months. While UVA triggers melanoma, UVB stimulates vitamin D production. Setlow proposes altering sunscreens to let UVB through while blocking UVA.</chunk2>\",\\n  \"reasoning_for_selection\": \"The selected fact highlights the main finding that vitamin D production via sun exposure improves cancer defense, which is crucial for understanding the text\\'s central argument. The inference connects the text\\'s implications about sunscreen usage and sun exposure strategies to optimize health benefits, which is pivotal for grasping the broader suggestions of the research.\",\\n  \"selection\": {\\n    \"facts\": {\\n      \"fact1\": {\\n        \"content\": \"Research suggests that sun exposure enhances the body\\'s production of vitamin D, which can prevent cancer and other diseases.\",\\n        \"chunk\": [\"chunk1\"]\\n      }\\n    },\\n    \"inferences\": {\\n      \"inference1\": {\\n        \"content\": \"Adjusting sunscreen to allow more UVB radiation while blocking UVA could optimize health benefits by balancing the risk between melanoma prevention and vitamin D production.\",\\n        \"chunk\": [\"chunk2\"]\\n      }\\n    }\\n  }\\n}',\n",
       " 'execution_time': '0:00:12.168971',\n",
       " 'input_tokens': 1763,\n",
       " 'output_tokens': 358,\n",
       " 'invocation_id': '8225dcf9-6e23-44be-8ed2-5481815e0ff0',\n",
       " 'summary': \"<chunk1>Research suggests that sun exposure enhances the production of vitamin D, which can improve the body's defense against cancer. Johan Moan, a Professor at the Cancer Center at Boston Medical Center, claims that people living closer to the equator or experiencing certain seasons have improved cancer survival rates due to higher vitamin D levels. His research, along with Richard Setlow, published in a prestigious journal, emphasizes that avoiding sun can be harmful, particularly for those in northern regions. </chunk1> <chunk2>Moan advises some sun exposure without sunscreen for vitamin D, comparing it to the intake of cod-liver oil. He suggests tanning beds as a vitamin D supplement during dark months. While UVA triggers melanoma, UVB stimulates vitamin D production. Setlow proposes altering sunscreens to let UVB through while blocking UVA.</chunk2>\",\n",
       " 'facts': '{\"fact1\": {\"content\": \"Research suggests that sun exposure enhances the body\\'s production of vitamin D, which can prevent cancer and other diseases.\", \"chunk\": [\"chunk1\"]}}',\n",
       " 'inferences': '{\"inference1\": {\"content\": \"Adjusting sunscreen to allow more UVB radiation while blocking UVA could optimize health benefits by balancing the risk between melanoma prevention and vitamin D production.\", \"chunk\": [\"chunk2\"]}}',\n",
       " 'timestamp': '2025-05-21T14:26:33.264991'}"
      ]
     },
     "execution_count": 10,
     "metadata": {},
     "output_type": "execute_result"
    }
   ],
   "source": [
    "plan"
   ]
  },
  {
   "cell_type": "markdown",
   "metadata": {},
   "source": [
    "## Test Controller"
   ]
  },
  {
   "cell_type": "code",
   "execution_count": 11,
   "metadata": {},
   "outputs": [],
   "source": [
    "from src.controller_helper import *"
   ]
  },
  {
   "cell_type": "code",
   "execution_count": 12,
   "metadata": {},
   "outputs": [],
   "source": [
    "fact =1\n",
    "inference = 1\n",
    "main_idea = 1"
   ]
  },
  {
   "cell_type": "code",
   "execution_count": 13,
   "metadata": {},
   "outputs": [],
   "source": [
    "task_list = create_task_list(plan, fact, inference, main_idea)"
   ]
  },
  {
   "cell_type": "code",
   "execution_count": 14,
   "metadata": {},
   "outputs": [
    {
     "data": {
      "text/plain": [
       "[{'question_type': 'fact',\n",
       "  'content': \"Research suggests that sun exposure enhances the body's production of vitamin D, which can prevent cancer and other diseases.\",\n",
       "  'text': \"Research suggests that sun exposure enhances the production of vitamin D, which can improve the body's defense against cancer. Johan Moan, a Professor at the Cancer Center at Boston Medical Center, claims that people living closer to the equator or experiencing certain seasons have improved cancer survival rates due to higher vitamin D levels. His research, along with Richard Setlow, published in a prestigious journal, emphasizes that avoiding sun can be harmful, particularly for those in northern regions.\",\n",
       "  'context': 'Moan advises some sun exposure without sunscreen for vitamin D, comparing it to the intake of cod-liver oil. He suggests tanning beds as a vitamin D supplement during dark months. While UVA triggers melanoma, UVB stimulates vitamin D production. Setlow proposes altering sunscreens to let UVB through while blocking UVA.'},\n",
       " {'question_type': 'inference',\n",
       "  'content': 'Adjusting sunscreen to allow more UVB radiation while blocking UVA could optimize health benefits by balancing the risk between melanoma prevention and vitamin D production.',\n",
       "  'text': 'Moan advises some sun exposure without sunscreen for vitamin D, comparing it to the intake of cod-liver oil. He suggests tanning beds as a vitamin D supplement during dark months. While UVA triggers melanoma, UVB stimulates vitamin D production. Setlow proposes altering sunscreens to let UVB through while blocking UVA.',\n",
       "  'context': \"Research suggests that sun exposure enhances the production of vitamin D, which can improve the body's defense against cancer. Johan Moan, a Professor at the Cancer Center at Boston Medical Center, claims that people living closer to the equator or experiencing certain seasons have improved cancer survival rates due to higher vitamin D levels. His research, along with Richard Setlow, published in a prestigious journal, emphasizes that avoiding sun can be harmful, particularly for those in northern regions.\"},\n",
       " {'question_type': 'main_idea',\n",
       "  'text': \"Research suggests that sun exposure enhances the production of vitamin D, which can improve the body's defense against cancer. Johan Moan, a Professor at the Cancer Center at Boston Medical Center, claims that people living closer to the equator or experiencing certain seasons have improved cancer survival rates due to higher vitamin D levels. His research, along with Richard Setlow, published in a prestigious journal, emphasizes that avoiding sun can be harmful, particularly for those in northern regions.  Moan advises some sun exposure without sunscreen for vitamin D, comparing it to the intake of cod-liver oil. He suggests tanning beds as a vitamin D supplement during dark months. While UVA triggers melanoma, UVB stimulates vitamin D production. Setlow proposes altering sunscreens to let UVB through while blocking UVA.\"}]"
      ]
     },
     "execution_count": 14,
     "metadata": {},
     "output_type": "execute_result"
    }
   ],
   "source": [
    "task_list"
   ]
  },
  {
   "cell_type": "code",
   "execution_count": 15,
   "metadata": {},
   "outputs": [],
   "source": [
    "from src.mcq_generation import *"
   ]
  },
  {
   "cell_type": "code",
   "execution_count": 16,
   "metadata": {},
   "outputs": [
    {
     "name": "stderr",
     "output_type": "stream",
     "text": [
      "INFO:root:Table 'mcq_metadata' created or already exists.\n",
      "INFO:root:Table 'mcq_metadata' created or already exists.\n",
      "INFO:root:Table 'mcq_metadata' created or already exists.\n",
      "DEBUG:openai._base_client:Request options: {'method': 'post', 'url': '/chat/completions', 'files': None, 'json_data': {'messages': [{'role': 'system', 'content': '[ROLE]:\\nYou are an experienced college instructor. You are an expert in writing multiple-choice questions to assess students’ understanding of academic texts (e.g., chapters in textbooks, academic articles).\\n\\n[TASK]:\\nYour task is to write a factual multiple-choice question (see DEFINITION) based on a fact provided by the user. \\nThis fact will be directly supported by a \"source text\", which is an excerpt from the academic material. \\nA \"contextual text\" will also be provided to help you understand the broader meaning and useage of the source text. \\nFollow the guidelines in [GUIDELINES] to do exactly what you are instructed to do. \\n\\n[DEFINITION]\\n**What are factual questions?**\\nFactual questions are those that have a single, verifiable answer based on objective information, often requiring recall of specific facts or details. \\n\\n[GUIDELINES]\\nGenerate a multiple-choice factual question by completing the following steps in order:\\n\\nStep1: Based on the fact, source text, and contextual text, write a question that directly asks about the fact, avoiding unnecessary complexity. Keep the wording concise and straightforward to focus on the content.\\n  - Example (Good Question):\\n    \"What is the primary function of the amygdala?\"\\n  - Example (Poor Question - Too Vague):\\n    \"What does the amygdala do?\" (Too broad, unclear if asking about function, structure, or location.)\\nStep2: Provide a correct answer to the question based on the facts in the text. The correct answer should:\\n  - Be indisputably correct based on the text.\\n  - Try not to use words that are in the question.\\n  - Avoid using determinative words such as always, never, absolutely.\\n  - Avoid wording that could make multiple answers seem correct.\\nStep4: Provide three distractors based on the text. The distractors should:\\n  - Be plausible but incorrect based on the text.\\n  - Avoid obviously wrong or ridiculous choices.\\n  - Use common misconceptions or similar-sounding terms.\\n  - Be approximately the same number of words as the answer. \\n  - Be independent of the answer.\\n Step5: Shuffle the answer and distractors to create a list of four options (A, B, C, D).\\n Step6: Self-critique the question and answer choices to ensure clarity, accuracy, and relevance. \\n  - Ensure that the question is clear and unambiguous.\\n  - Ensure that the correct answer is clearly the best choice.\\n  - Ensure that the distractors are plausible and relevant.\\n  - Ensure that the answer choices are not too similar or too different in length or complexity.\\n\\nPrint out your reasoning BEFORE you print out the mutliple-choice factual question. \\n\\nIMPORTANT: \\n1) Wrap up the multiple-choice factual question within <QUESTION></QUESTION> tags. The stem SHOULD be included in the <QUESTION> tags. Example:\\n<QUESTION>What function did early exhibitors serve in the showcasing of movies in theaters?\\n  \\\\nA) They determined the arrangement of different elements in the film program.\\n  \\\\nB) They offered guidance to filmmakers regarding suitable movie content\\n  \\\\nC) They frequently participated in live performances.\\n  \\\\nD) They created and pre-recorded the content displayed in theaters.</QUESTION>\\n2) Wrap up the correct answer within <ANSWER></ANSWER> tags. The answer should contain the letter of the correct answer (A, B, C, or D) and the text of the correct answer. Example:\\n<ANSWER>D) hey created and pre-recorded the content displayed in theaters.</ANSWER>\\n'}, {'role': 'user', 'content': \"Here is a fact:\\n<fact>\\nResearch suggests that sun exposure enhances the body's production of vitamin D, which can prevent cancer and other diseases.\\n</fact>\\n\\nHere is the source text for the fact:\\n<source_text>\\nResearch suggests that sun exposure enhances the production of vitamin D, which can improve the body's defense against cancer. Johan Moan, a Professor at the Cancer Center at Boston Medical Center, claims that people living closer to the equator or experiencing certain seasons have improved cancer survival rates due to higher vitamin D levels. His research, along with Richard Setlow, published in a prestigious journal, emphasizes that avoiding sun can be harmful, particularly for those in northern regions.   \\n</source_text>\\n\\nHere is the contextual text for the source text:\\n<contextual_text>\\nMoan advises some sun exposure without sunscreen for vitamin D, comparing it to the intake of cod-liver oil. He suggests tanning beds as a vitamin D supplement during dark months. While UVA triggers melanoma, UVB stimulates vitamin D production. Setlow proposes altering sunscreens to let UVB through while blocking UVA.\\n</contextual_text>\"}], 'model': 'gpt-4o'}}\n",
      "DEBUG:openai._base_client:Request options: {'method': 'post', 'url': '/chat/completions', 'files': None, 'json_data': {'messages': [{'role': 'system', 'content': '[ROLE]:\\nYou are an experienced college instructor. You are an expert in writing multiple-choice questions to assess students’ understanding of academic texts (e.g., chapters in textbooks, academic articles).\\n\\n[TASK]:\\nYour task is to write an inferential multiple-choice question (see DEFINITION) based on an inference provided by the user. \\nThis inference will be directly supported by a \"source text\", which is an excerpt from the academic material. \\nA \"contextual text\" will also be provided to help you understand the broader meaning and useage of the source text. \\nFollow the guidelines in [GUIDELINES] to do exactly what you are instructed to do. \\n\\n[DEFINITION]\\n**What are inferential questions?**\\nInferential questions require students to go beyond the explicit information in a text and draw conclusions based on evidence, reasoning, and prior knowledge. Unlike literal questions, which ask for directly stated facts, inferential questions challenge students to interpret, analyze, or predict based on textual clues.\\nFor example, \\nExcerpt:\\n\"Studies have shown that prolonged exposure to stress can negatively impact cognitive function, particularly memory and decision-making. This is because chronic stress leads to an overproduction of cortisol, a hormone that, in excessive amounts, has been linked to neural atrophy in the hippocampus, a brain region crucial for memory formation.\"\\nLiteral Question:\\n\"According to the passage, what is one effect of chronic stress on the brain?\"\\n(Answer: Neural atrophy in the hippocampus, affecting memory formation.)\\nInferential Question:\\n\"Based on the passage, why might individuals in high-stress professions experience difficulty making decisions?\"\\n(Reasoning and Answer: The passage states that chronic stress impairs cognitive functions like decision-making. Since high-stress professions expose individuals to prolonged stress, they may experience cognitive difficulties due to excessive cortisol affecting brain regions involved in these functions.)\\n\\n[GUIDELINES]\\nStep1: Summarize your understanding of what inferential questions are. \\nStep2: Provide a correct answer to the inferential question based on the inference, the source text, and the contextual text. The correct answer should:\\n  - Be indisputably correct based on the text.\\n  - Try not to use words that are in the question.\\n  - Avoid using determinative words such as always, never, absolutely.\\n  - Avoid wording that could make multiple answers seem correct.\\nStep4: Provide three plausible distractors based on the text. The distractors should:\\n  - Be plausible but incorrect based on the text.\\n  - Avoid obviously wrong or ridiculous choices.\\n  - Use common misconceptions or similar-sounding terms.\\n  - Be approximately the same number of words as the answer. \\n  - Be independent of the answer.\\nStep5: Shuffle the answer and distractors to create a list of four options (A, B, C, D).\\nStep6: Self-critique the question and answer choices to ensure clarity, accuracy, and relevance. \\n  - Ensure that the question is clear and unambiguous.\\n  - Ensure that the correct answer is clearly the best choice.\\n  - Ensure that the distractors are plausible and relevant.\\n  - Ensure that the answer choices are not too similar or too different in length or complexity.\\n\\nPrint out your reasoning BEFORE you print out the mutliple-choice inferential question. \\n\\nIMPORTANT: \\n1) Wrap up the multiple-choice inferential question within <QUESTION></QUESTION> tags. The stem SHOULD be included in the <QUESTION> tags. Example:\\n<QUESTION>Based on the passage, what is the likely cause of the decrease in energy at each succeeding trophic level in an ecosystem?\\n  \\\\nA) The inefficient capture and consumption of food by organisms\\n  \\\\nB) The availability of sunlight for photosynthesis\\n  \\\\nC) The decrease in the number of autotrophs\\n  \\\\nD) The high metabolic rate of consumers</QUESTION>\\n2) Wrap up the correct answer within <ANSWER></ANSWER> tags. The answer should contain the letter of the correct answer (A, B, C, or D) and the text of the correct answer. Example:\\n<ANSWER>A) The inefficient capture and consumption of food by organisms</ANSWER>\\n'}, {'role': 'user', 'content': \"Here is an inference:\\n<inference>\\nAdjusting sunscreen to allow more UVB radiation while blocking UVA could optimize health benefits by balancing the risk between melanoma prevention and vitamin D production.\\n</inference>\\n\\nHere is the source text for the inference:\\n<source_text>\\nMoan advises some sun exposure without sunscreen for vitamin D, comparing it to the intake of cod-liver oil. He suggests tanning beds as a vitamin D supplement during dark months. While UVA triggers melanoma, UVB stimulates vitamin D production. Setlow proposes altering sunscreens to let UVB through while blocking UVA.   \\n</source_text>\\n\\nHere is the contextual text for the source text:\\n<contextual_text>\\nResearch suggests that sun exposure enhances the production of vitamin D, which can improve the body's defense against cancer. Johan Moan, a Professor at the Cancer Center at Boston Medical Center, claims that people living closer to the equator or experiencing certain seasons have improved cancer survival rates due to higher vitamin D levels. His research, along with Richard Setlow, published in a prestigious journal, emphasizes that avoiding sun can be harmful, particularly for those in northern regions.\\n</contextual_text>\\n\"}], 'model': 'gpt-4o'}}\n",
      "DEBUG:openai._base_client:Request options: {'method': 'post', 'url': '/chat/completions', 'files': None, 'json_data': {'messages': [{'role': 'system', 'content': '[ROLE]:\\nYou are an experienced college instructor. You are an expert in writing multiple-choice questions to assess students’ understanding of academic texts (e.g., chapters in textbooks, academic articles).\\n\\n[TASK]:\\nYou are asked to write a main idea multiple-choice question based on an academic text summary provided by the user. \\nFollow the guidelines in [GUIDELINES] to do exactly what you are instructed to do. \\n\\n[DEFINITION]\\n**What are main idea questions?**\\nMain idea questions assess a student\\'s ability to identify the central point or primary argument of a text, passage, or section.\\nInstead of focusing on specific details, examples, or minor points, these questions target the big picture — what the author is fundamentally trying to convey.\\n\\n[GUIDELINES]\\nStep1: Carefully read the TEXT to understand its main idea.  \\nStep2: Write a clear question stem. Typical stems include:\\n  - \"Which of the following best expresses the main idea of the passage?\"\\n  - \"What is the primary purpose of the text?\"\\n  - \"What is the central argument of the article?\"\\nStep3: Create the correct answer option. \\n  - It should accurately reflect the main idea.\\n  - It should be broad enough to cover the whole passage but specific enough to show real understanding.\\n  - It should use words that are in the question sparingly.\\nStep4: Write three plausible distractors. Good distractors often:\\n  - Reflect common misconceptions or misinterpretations of the text.\\n  - Sound reasonable to a student who only skimmed or misunderstood the text.\\n  - Reflect minor details from the text.\\n  - Be similar in length and complexity to the correct answer.\\nStep5: Shuffle the answer and distractors to create a list of four options (A, B, C, D).\\nStep6: Self-critique the question and answer choices to ensure clarity, accuracy, and relevance. \\n  - Ensure that the question is clear and unambiguous.\\n  - Ensure that the correct answer is clearly the best choice.\\n  - Ensure that the distractors are plausible and relevant.\\n  - Ensure that the answer choices are not too similar or too different in length or complexity.\\n\\nPrint out your reasoning BEFORE you print out the mutliple-choice main idea question. \\n\\nIMPORTANT: \\n1) Wrap up the multiple-choice main idea question within <QUESTION></QUESTION> tags. The stem SHOULD be included in the <QUESTION> tags. Example:\\n<QUESTION>What is the main idea of the passage?\\n  \\\\nA) Remote work has recently become more common because of its benefits to companies.\\n  \\\\nB) Remote work is better than working in an office.\\n  \\\\nC) Most companies now require employees to work remotely.\\n  \\\\nD) Remote work only benefits employees, not companies.</QUESTION>\\n2) Wrap up the correct answer within <ANSWER></ANSWER> tags. The answer should contain the letter of the correct answer (A, B, C, or D) and the text of the correct answer. Example:\\n<ANSWER>A) Remote work has recently become more common because of its benefits to companies.</ANSWER>\\n'}, {'role': 'user', 'content': \"<text>\\nResearch suggests that sun exposure enhances the production of vitamin D, which can improve the body's defense against cancer. Johan Moan, a Professor at the Cancer Center at Boston Medical Center, claims that people living closer to the equator or experiencing certain seasons have improved cancer survival rates due to higher vitamin D levels. His research, along with Richard Setlow, published in a prestigious journal, emphasizes that avoiding sun can be harmful, particularly for those in northern regions.  Moan advises some sun exposure without sunscreen for vitamin D, comparing it to the intake of cod-liver oil. He suggests tanning beds as a vitamin D supplement during dark months. While UVA triggers melanoma, UVB stimulates vitamin D production. Setlow proposes altering sunscreens to let UVB through while blocking UVA.\\n</text>\"}], 'model': 'gpt-4o'}}\n",
      "DEBUG:httpcore.connection:connect_tcp.started host='api.openai.com' port=443 local_address=None timeout=5.0 socket_options=None\n",
      "DEBUG:httpcore.connection:connect_tcp.started host='api.openai.com' port=443 local_address=None timeout=5.0 socket_options=None\n",
      "DEBUG:httpcore.connection:connect_tcp.started host='api.openai.com' port=443 local_address=None timeout=5.0 socket_options=None\n",
      "DEBUG:httpcore.connection:connect_tcp.complete return_value=<httpcore._backends.anyio.AnyIOStream object at 0x0000021F31553CD0>\n",
      "DEBUG:httpcore.connection:start_tls.started ssl_context=<ssl.SSLContext object at 0x0000021F313A10C0> server_hostname='api.openai.com' timeout=5.0\n",
      "DEBUG:httpcore.connection:connect_tcp.complete return_value=<httpcore._backends.anyio.AnyIOStream object at 0x0000021F31553D60>\n",
      "DEBUG:httpcore.connection:start_tls.started ssl_context=<ssl.SSLContext object at 0x0000021F314DF9C0> server_hostname='api.openai.com' timeout=5.0\n",
      "DEBUG:httpcore.connection:connect_tcp.complete return_value=<httpcore._backends.anyio.AnyIOStream object at 0x0000021F3155C700>\n",
      "DEBUG:httpcore.connection:start_tls.started ssl_context=<ssl.SSLContext object at 0x0000021F314DFAC0> server_hostname='api.openai.com' timeout=5.0\n",
      "DEBUG:httpcore.connection:start_tls.complete return_value=<httpcore._backends.anyio.AnyIOStream object at 0x0000021F315523E0>\n",
      "DEBUG:httpcore.http11:send_request_headers.started request=<Request [b'POST']>\n",
      "DEBUG:httpcore.http11:send_request_headers.complete\n",
      "DEBUG:httpcore.http11:send_request_body.started request=<Request [b'POST']>\n",
      "DEBUG:httpcore.http11:send_request_body.complete\n",
      "DEBUG:httpcore.http11:receive_response_headers.started request=<Request [b'POST']>\n",
      "DEBUG:httpcore.connection:start_tls.complete return_value=<httpcore._backends.anyio.AnyIOStream object at 0x0000021F31552D70>\n",
      "DEBUG:httpcore.http11:send_request_headers.started request=<Request [b'POST']>\n",
      "DEBUG:httpcore.http11:send_request_headers.complete\n",
      "DEBUG:httpcore.http11:send_request_body.started request=<Request [b'POST']>\n",
      "DEBUG:httpcore.connection:start_tls.complete return_value=<httpcore._backends.anyio.AnyIOStream object at 0x0000021F31553700>\n",
      "DEBUG:httpcore.http11:send_request_body.complete\n",
      "DEBUG:httpcore.http11:receive_response_headers.started request=<Request [b'POST']>\n",
      "DEBUG:httpcore.http11:send_request_headers.started request=<Request [b'POST']>\n",
      "DEBUG:httpcore.http11:send_request_headers.complete\n",
      "DEBUG:httpcore.http11:send_request_body.started request=<Request [b'POST']>\n",
      "DEBUG:httpcore.http11:send_request_body.complete\n",
      "DEBUG:httpcore.http11:receive_response_headers.started request=<Request [b'POST']>\n",
      "DEBUG:httpcore.http11:receive_response_headers.complete return_value=(b'HTTP/1.1', 200, b'OK', [(b'Date', b'Wed, 21 May 2025 21:27:12 GMT'), (b'Content-Type', b'application/json'), (b'Transfer-Encoding', b'chunked'), (b'Connection', b'keep-alive'), (b'access-control-expose-headers', b'X-Request-ID'), (b'openai-organization', b'asu-knowledge-enterprise'), (b'openai-processing-ms', b'7619'), (b'openai-version', b'2020-10-01'), (b'x-envoy-upstream-service-time', b'7624'), (b'x-ratelimit-limit-requests', b'10000'), (b'x-ratelimit-limit-tokens', b'30000000'), (b'x-ratelimit-remaining-requests', b'9999'), (b'x-ratelimit-remaining-tokens', b'29999046'), (b'x-ratelimit-reset-requests', b'6ms'), (b'x-ratelimit-reset-tokens', b'1ms'), (b'x-request-id', b'req_6991ea6a00470fd4b7fe84d85b7324df'), (b'strict-transport-security', b'max-age=31536000; includeSubDomains; preload'), (b'cf-cache-status', b'DYNAMIC'), (b'Set-Cookie', b'__cf_bm=1ECKtwIWXu0yph8UFUQ3zCwEBfWeAlUb0QFWv9wYs2U-1747862832-1.0.1.1-ICgJkKfRtWJDmRb1MgfW_RrhpymktqxY71VlR_UvN6DDJpKTra7AnwM6pBylJJRcKIYYfhZPQNm5.EWfSYvTdFqnE4.qSjoXwAp.6oo_25Y; path=/; expires=Wed, 21-May-25 21:57:12 GMT; domain=.api.openai.com; HttpOnly; Secure; SameSite=None'), (b'X-Content-Type-Options', b'nosniff'), (b'Set-Cookie', b'_cfuvid=jFxViKYPwMp.uu3v4RlUAaANyTEixZib.S2E6aSpgyg-1747862832639-0.0.1.1-604800000; path=/; domain=.api.openai.com; HttpOnly; Secure; SameSite=None'), (b'Server', b'cloudflare'), (b'CF-RAY', b'943727dff86d27c9-SAN'), (b'Content-Encoding', b'gzip'), (b'alt-svc', b'h3=\":443\"; ma=86400')])\n",
      "INFO:httpx:HTTP Request: POST https://api.openai.com/v1/chat/completions \"HTTP/1.1 200 OK\"\n",
      "DEBUG:httpcore.http11:receive_response_body.started request=<Request [b'POST']>\n",
      "DEBUG:httpcore.http11:receive_response_body.complete\n",
      "DEBUG:httpcore.http11:response_closed.started\n",
      "DEBUG:httpcore.http11:response_closed.complete\n",
      "DEBUG:openai._base_client:HTTP Request: POST https://api.openai.com/v1/chat/completions \"200 OK\"\n",
      "INFO:src.mcq_generation:MCQ extracted successfully.\n",
      "INFO:src.mcq_generation:Answer extracted successfully.\n",
      "ERROR:root:Error inserting metadata into 'mcq_metadata': table mcq_metadata has no column named invocation_id\n",
      "DEBUG:httpcore.http11:receive_response_headers.complete return_value=(b'HTTP/1.1', 200, b'OK', [(b'Date', b'Wed, 21 May 2025 21:27:12 GMT'), (b'Content-Type', b'application/json'), (b'Transfer-Encoding', b'chunked'), (b'Connection', b'keep-alive'), (b'access-control-expose-headers', b'X-Request-ID'), (b'openai-organization', b'asu-knowledge-enterprise'), (b'openai-processing-ms', b'7831'), (b'openai-version', b'2020-10-01'), (b'x-envoy-upstream-service-time', b'7840'), (b'x-ratelimit-limit-requests', b'10000'), (b'x-ratelimit-limit-tokens', b'30000000'), (b'x-ratelimit-remaining-requests', b'9999'), (b'x-ratelimit-remaining-tokens', b'29998857'), (b'x-ratelimit-reset-requests', b'6ms'), (b'x-ratelimit-reset-tokens', b'2ms'), (b'x-request-id', b'req_d88c42915bf5204451626f4577364abb'), (b'strict-transport-security', b'max-age=31536000; includeSubDomains; preload'), (b'cf-cache-status', b'DYNAMIC'), (b'Set-Cookie', b'__cf_bm=MwW6wtr5F83Kh.orojWC9VlnM5UKaKPte2k0J9ME1ZU-1747862832-1.0.1.1-jneuEXCAcYNBXqsBQRsEbiKPyD1YFZDWM.oqmlXik3sT7bLJUjyIEHJrWs6URhEoBNR7mxuMUpoQfVwAbbeRfbVasFJsbswVFsMDKWDlsgo; path=/; expires=Wed, 21-May-25 21:57:12 GMT; domain=.api.openai.com; HttpOnly; Secure; SameSite=None'), (b'X-Content-Type-Options', b'nosniff'), (b'Set-Cookie', b'_cfuvid=juneq6Ms2sCs19H5SlJjSlUE8ee3lyciyyDD5OkATqQ-1747862832836-0.0.1.1-604800000; path=/; domain=.api.openai.com; HttpOnly; Secure; SameSite=None'), (b'Server', b'cloudflare'), (b'CF-RAY', b'943727dfd9c46a31-SAN'), (b'Content-Encoding', b'gzip'), (b'alt-svc', b'h3=\":443\"; ma=86400')])\n",
      "INFO:httpx:HTTP Request: POST https://api.openai.com/v1/chat/completions \"HTTP/1.1 200 OK\"\n",
      "DEBUG:httpcore.http11:receive_response_body.started request=<Request [b'POST']>\n",
      "DEBUG:httpcore.http11:receive_response_body.complete\n",
      "DEBUG:httpcore.http11:response_closed.started\n",
      "DEBUG:httpcore.http11:response_closed.complete\n",
      "DEBUG:openai._base_client:HTTP Request: POST https://api.openai.com/v1/chat/completions \"200 OK\"\n",
      "INFO:src.mcq_generation:MCQ extracted successfully.\n",
      "INFO:src.mcq_generation:Answer extracted successfully.\n",
      "ERROR:root:Error inserting metadata into 'mcq_metadata': table mcq_metadata has no column named invocation_id\n",
      "DEBUG:httpcore.http11:receive_response_headers.complete return_value=(b'HTTP/1.1', 200, b'OK', [(b'Date', b'Wed, 21 May 2025 21:27:16 GMT'), (b'Content-Type', b'application/json'), (b'Transfer-Encoding', b'chunked'), (b'Connection', b'keep-alive'), (b'access-control-expose-headers', b'X-Request-ID'), (b'openai-organization', b'asu-knowledge-enterprise'), (b'openai-processing-ms', b'11666'), (b'openai-version', b'2020-10-01'), (b'x-envoy-upstream-service-time', b'11684'), (b'x-ratelimit-limit-requests', b'10000'), (b'x-ratelimit-limit-tokens', b'30000000'), (b'x-ratelimit-remaining-requests', b'9998'), (b'x-ratelimit-remaining-tokens', b'29998655'), (b'x-ratelimit-reset-requests', b'7ms'), (b'x-ratelimit-reset-tokens', b'2ms'), (b'x-request-id', b'req_15d05088c00935aa001522d3e16b1e19'), (b'strict-transport-security', b'max-age=31536000; includeSubDomains; preload'), (b'cf-cache-status', b'DYNAMIC'), (b'Set-Cookie', b'__cf_bm=dDqML5RgndDx0Ue_2BUcVgkSMbK9lXF15C7VdqFKhtA-1747862836-1.0.1.1-MzptHp8IUk3KUyVHON9iRjilr8rWtHeFEdJBUC0pnNT.5HH7GQUkX1hkIOKkV_iu_UL7Hj2iKLBw0nO9y76iOYY8YQ2ri.bR0nFfGdMh4YY; path=/; expires=Wed, 21-May-25 21:57:16 GMT; domain=.api.openai.com; HttpOnly; Secure; SameSite=None'), (b'X-Content-Type-Options', b'nosniff'), (b'Set-Cookie', b'_cfuvid=64tNrEz3GMYSnWiT1eAmrBnJPkhFPcLkbMgqOW8p_lE-1747862836691-0.0.1.1-604800000; path=/; domain=.api.openai.com; HttpOnly; Secure; SameSite=None'), (b'Server', b'cloudflare'), (b'CF-RAY', b'943727dfeb7827d1-SAN'), (b'Content-Encoding', b'gzip'), (b'alt-svc', b'h3=\":443\"; ma=86400')])\n",
      "INFO:httpx:HTTP Request: POST https://api.openai.com/v1/chat/completions \"HTTP/1.1 200 OK\"\n",
      "DEBUG:httpcore.http11:receive_response_body.started request=<Request [b'POST']>\n",
      "DEBUG:httpcore.http11:receive_response_body.complete\n",
      "DEBUG:httpcore.http11:response_closed.started\n",
      "DEBUG:httpcore.http11:response_closed.complete\n",
      "DEBUG:openai._base_client:HTTP Request: POST https://api.openai.com/v1/chat/completions \"200 OK\"\n",
      "INFO:src.mcq_generation:MCQ extracted successfully.\n",
      "INFO:src.mcq_generation:Answer extracted successfully.\n",
      "ERROR:root:Error inserting metadata into 'mcq_metadata': table mcq_metadata has no column named invocation_id\n"
     ]
    }
   ],
   "source": [
    "questions = await generate_all_mcqs(task_list, invocation_id, model=\"gpt-4o\", table_name=\"mcq_metadata\", database_file=\"../database/mcq_metadata.db\")"
   ]
  },
  {
   "cell_type": "code",
   "execution_count": 17,
   "metadata": {},
   "outputs": [
    {
     "data": {
      "text/plain": [
       "[{'system_prompt': '[ROLE]:\\nYou are an experienced college instructor. You are an expert in writing multiple-choice questions to assess students’ understanding of academic texts (e.g., chapters in textbooks, academic articles).\\n\\n[TASK]:\\nYour task is to write a factual multiple-choice question (see DEFINITION) based on a fact provided by the user. \\nThis fact will be directly supported by a \"source text\", which is an excerpt from the academic material. \\nA \"contextual text\" will also be provided to help you understand the broader meaning and useage of the source text. \\nFollow the guidelines in [GUIDELINES] to do exactly what you are instructed to do. \\n\\n[DEFINITION]\\n**What are factual questions?**\\nFactual questions are those that have a single, verifiable answer based on objective information, often requiring recall of specific facts or details. \\n\\n[GUIDELINES]\\nGenerate a multiple-choice factual question by completing the following steps in order:\\n\\nStep1: Based on the fact, source text, and contextual text, write a question that directly asks about the fact, avoiding unnecessary complexity. Keep the wording concise and straightforward to focus on the content.\\n  - Example (Good Question):\\n    \"What is the primary function of the amygdala?\"\\n  - Example (Poor Question - Too Vague):\\n    \"What does the amygdala do?\" (Too broad, unclear if asking about function, structure, or location.)\\nStep2: Provide a correct answer to the question based on the facts in the text. The correct answer should:\\n  - Be indisputably correct based on the text.\\n  - Try not to use words that are in the question.\\n  - Avoid using determinative words such as always, never, absolutely.\\n  - Avoid wording that could make multiple answers seem correct.\\nStep4: Provide three distractors based on the text. The distractors should:\\n  - Be plausible but incorrect based on the text.\\n  - Avoid obviously wrong or ridiculous choices.\\n  - Use common misconceptions or similar-sounding terms.\\n  - Be approximately the same number of words as the answer. \\n  - Be independent of the answer.\\n Step5: Shuffle the answer and distractors to create a list of four options (A, B, C, D).\\n Step6: Self-critique the question and answer choices to ensure clarity, accuracy, and relevance. \\n  - Ensure that the question is clear and unambiguous.\\n  - Ensure that the correct answer is clearly the best choice.\\n  - Ensure that the distractors are plausible and relevant.\\n  - Ensure that the answer choices are not too similar or too different in length or complexity.\\n\\nPrint out your reasoning BEFORE you print out the mutliple-choice factual question. \\n\\nIMPORTANT: \\n1) Wrap up the multiple-choice factual question within <QUESTION></QUESTION> tags. The stem SHOULD be included in the <QUESTION> tags. Example:\\n<QUESTION>What function did early exhibitors serve in the showcasing of movies in theaters?\\n  \\\\nA) They determined the arrangement of different elements in the film program.\\n  \\\\nB) They offered guidance to filmmakers regarding suitable movie content\\n  \\\\nC) They frequently participated in live performances.\\n  \\\\nD) They created and pre-recorded the content displayed in theaters.</QUESTION>\\n2) Wrap up the correct answer within <ANSWER></ANSWER> tags. The answer should contain the letter of the correct answer (A, B, C, or D) and the text of the correct answer. Example:\\n<ANSWER>D) hey created and pre-recorded the content displayed in theaters.</ANSWER>\\n',\n",
       "  'user_prompt': \"Here is a fact:\\n<fact>\\nResearch suggests that sun exposure enhances the body's production of vitamin D, which can prevent cancer and other diseases.\\n</fact>\\n\\nHere is the source text for the fact:\\n<source_text>\\nResearch suggests that sun exposure enhances the production of vitamin D, which can improve the body's defense against cancer. Johan Moan, a Professor at the Cancer Center at Boston Medical Center, claims that people living closer to the equator or experiencing certain seasons have improved cancer survival rates due to higher vitamin D levels. His research, along with Richard Setlow, published in a prestigious journal, emphasizes that avoiding sun can be harmful, particularly for those in northern regions.   \\n</source_text>\\n\\nHere is the contextual text for the source text:\\n<contextual_text>\\nMoan advises some sun exposure without sunscreen for vitamin D, comparing it to the intake of cod-liver oil. He suggests tanning beds as a vitamin D supplement during dark months. While UVA triggers melanoma, UVB stimulates vitamin D production. Setlow proposes altering sunscreens to let UVB through while blocking UVA.\\n</contextual_text>\",\n",
       "  'model': 'gpt-4o',\n",
       "  'completion': \"Based on the fact, source text, and contextual text, let's create a multiple-choice factual question.\\n\\nStep1: **Question Creation**: \\nWhat is one of the benefits of sun exposure according to research?\\n\\nStep2: **Correct Answer**:\\nIt enhances vitamin D production, which can prevent cancer.\\n\\nStep3: **Distractors**:\\n- It prevents all forms of skin diseases.\\n- It limits the production of harmful UV rays.\\n- It directly combats heart diseases.\\n\\nStep4: **Shuffles Options**: \\n1. It prevents all forms of skin diseases.\\n2. It enhances vitamin D production, which can prevent cancer.\\n3. It limits the production of harmful UV rays.\\n4. It directly combats heart diseases.\\n\\nStep5: **Self-Critique**:\\n- The question is clear and specifically asks about the benefit of sun exposure.\\n- The correct answer is clearly supported by the source text, which mentions the enhancement of vitamin D production and its role in preventing cancer.\\n- Distractors are plausible and relate to common misconceptions about sun exposure but are not supported by the source text.\\n- All options are similarly concise.\\n\\nNow, wrapping everything in the required format:\\n\\n<QUESTION>What is one of the benefits of sun exposure according to research?\\n  \\\\nA) It prevents all forms of skin diseases.\\n  \\\\nB) It enhances vitamin D production, which can prevent cancer.\\n  \\\\nC) It limits the production of harmful UV rays.\\n  \\\\nD) It directly combats heart diseases.</QUESTION>\\n\\n<ANSWER>B) It enhances vitamin D production, which can prevent cancer.</ANSWER>\",\n",
       "  'execution_time': '0:00:08.048577',\n",
       "  'input_tokens': 954,\n",
       "  'output_tokens': 326,\n",
       "  'question_type': 'fact',\n",
       "  'invocation_id': '8225dcf9-6e23-44be-8ed2-5481815e0ff0',\n",
       "  'mcq': 'What is one of the benefits of sun exposure according to research?\\n  \\nA) It prevents all forms of skin diseases.\\n  \\nB) It enhances vitamin D production, which can prevent cancer.\\n  \\nC) It limits the production of harmful UV rays.\\n  \\nD) It directly combats heart diseases.',\n",
       "  'mcq_answer': 'B) It enhances vitamin D production, which can prevent cancer.',\n",
       "  'timestamp': '2025-05-21T14:27:12.909425'},\n",
       " {'system_prompt': '[ROLE]:\\nYou are an experienced college instructor. You are an expert in writing multiple-choice questions to assess students’ understanding of academic texts (e.g., chapters in textbooks, academic articles).\\n\\n[TASK]:\\nYour task is to write an inferential multiple-choice question (see DEFINITION) based on an inference provided by the user. \\nThis inference will be directly supported by a \"source text\", which is an excerpt from the academic material. \\nA \"contextual text\" will also be provided to help you understand the broader meaning and useage of the source text. \\nFollow the guidelines in [GUIDELINES] to do exactly what you are instructed to do. \\n\\n[DEFINITION]\\n**What are inferential questions?**\\nInferential questions require students to go beyond the explicit information in a text and draw conclusions based on evidence, reasoning, and prior knowledge. Unlike literal questions, which ask for directly stated facts, inferential questions challenge students to interpret, analyze, or predict based on textual clues.\\nFor example, \\nExcerpt:\\n\"Studies have shown that prolonged exposure to stress can negatively impact cognitive function, particularly memory and decision-making. This is because chronic stress leads to an overproduction of cortisol, a hormone that, in excessive amounts, has been linked to neural atrophy in the hippocampus, a brain region crucial for memory formation.\"\\nLiteral Question:\\n\"According to the passage, what is one effect of chronic stress on the brain?\"\\n(Answer: Neural atrophy in the hippocampus, affecting memory formation.)\\nInferential Question:\\n\"Based on the passage, why might individuals in high-stress professions experience difficulty making decisions?\"\\n(Reasoning and Answer: The passage states that chronic stress impairs cognitive functions like decision-making. Since high-stress professions expose individuals to prolonged stress, they may experience cognitive difficulties due to excessive cortisol affecting brain regions involved in these functions.)\\n\\n[GUIDELINES]\\nStep1: Summarize your understanding of what inferential questions are. \\nStep2: Provide a correct answer to the inferential question based on the inference, the source text, and the contextual text. The correct answer should:\\n  - Be indisputably correct based on the text.\\n  - Try not to use words that are in the question.\\n  - Avoid using determinative words such as always, never, absolutely.\\n  - Avoid wording that could make multiple answers seem correct.\\nStep4: Provide three plausible distractors based on the text. The distractors should:\\n  - Be plausible but incorrect based on the text.\\n  - Avoid obviously wrong or ridiculous choices.\\n  - Use common misconceptions or similar-sounding terms.\\n  - Be approximately the same number of words as the answer. \\n  - Be independent of the answer.\\nStep5: Shuffle the answer and distractors to create a list of four options (A, B, C, D).\\nStep6: Self-critique the question and answer choices to ensure clarity, accuracy, and relevance. \\n  - Ensure that the question is clear and unambiguous.\\n  - Ensure that the correct answer is clearly the best choice.\\n  - Ensure that the distractors are plausible and relevant.\\n  - Ensure that the answer choices are not too similar or too different in length or complexity.\\n\\nPrint out your reasoning BEFORE you print out the mutliple-choice inferential question. \\n\\nIMPORTANT: \\n1) Wrap up the multiple-choice inferential question within <QUESTION></QUESTION> tags. The stem SHOULD be included in the <QUESTION> tags. Example:\\n<QUESTION>Based on the passage, what is the likely cause of the decrease in energy at each succeeding trophic level in an ecosystem?\\n  \\\\nA) The inefficient capture and consumption of food by organisms\\n  \\\\nB) The availability of sunlight for photosynthesis\\n  \\\\nC) The decrease in the number of autotrophs\\n  \\\\nD) The high metabolic rate of consumers</QUESTION>\\n2) Wrap up the correct answer within <ANSWER></ANSWER> tags. The answer should contain the letter of the correct answer (A, B, C, or D) and the text of the correct answer. Example:\\n<ANSWER>A) The inefficient capture and consumption of food by organisms</ANSWER>\\n',\n",
       "  'user_prompt': \"Here is an inference:\\n<inference>\\nAdjusting sunscreen to allow more UVB radiation while blocking UVA could optimize health benefits by balancing the risk between melanoma prevention and vitamin D production.\\n</inference>\\n\\nHere is the source text for the inference:\\n<source_text>\\nMoan advises some sun exposure without sunscreen for vitamin D, comparing it to the intake of cod-liver oil. He suggests tanning beds as a vitamin D supplement during dark months. While UVA triggers melanoma, UVB stimulates vitamin D production. Setlow proposes altering sunscreens to let UVB through while blocking UVA.   \\n</source_text>\\n\\nHere is the contextual text for the source text:\\n<contextual_text>\\nResearch suggests that sun exposure enhances the production of vitamin D, which can improve the body's defense against cancer. Johan Moan, a Professor at the Cancer Center at Boston Medical Center, claims that people living closer to the equator or experiencing certain seasons have improved cancer survival rates due to higher vitamin D levels. His research, along with Richard Setlow, published in a prestigious journal, emphasizes that avoiding sun can be harmful, particularly for those in northern regions.\\n</contextual_text>\\n\",\n",
       "  'model': 'gpt-4o',\n",
       "  'completion': 'Step 1: Inferential questions require students to use evidence, reasoning, and prior knowledge to draw conclusions rather than simply recalling directly stated information. They challenge students to interpret and analyze textual information.\\n\\nStep 2: Correct Answer\\nBased on the inference, source text, and contextual text, the correct answer should indicate that adjusting sunscreens can have health benefits by allowing UVB rays that stimulate vitamin D production while continuing to block UVA rays that can trigger melanoma.\\n\\nCorrect Answer: Adjusting sunscreens to balance UV protection could enhance health by promoting vitamin D while reducing melanoma risk.\\n\\nStep 3: Distractors\\n1. Increasing sun exposure is recommended for melanoma prevention without changing sunscreen.\\n2. Changing sunscreens to block both types of UV would decrease vitamin D production.\\n3. Vitamin D supplements as an alternative make sunscreen adjustments unnecessary.\\n\\nStep 4: Shuffle the answer and distractors\\nA) Increasing sun exposure is recommended for melanoma prevention without changing sunscreen.\\nB) Adjusting sunscreens to balance UV protection could enhance health by promoting vitamin D while reducing melanoma risk.\\nC) Changing sunscreens to block both types of UV would decrease vitamin D production.\\nD) Vitamin D supplements as an alternative make sunscreen adjustments unnecessary.\\n\\nStep 5: Self-critique\\n- The question is clear and points students to consider the implications of altering sunscreen for health benefits.\\n- The correct answer directly addresses the balance of UVB and UVA rays and their impact on health.\\n- The distractors are plausible, relating to aspects of UV exposure, melanoma prevention, and vitamin D, but do not capture the specific inference about adjusting sunscreen.\\n- The options are balanced in length and complexity, not leading to any obvious or simplistic choice.\\n\\n<QUESTION>Based on the passage, how could adjusting sunscreen formulations influence health outcomes?\\n  \\\\nA) Increasing sun exposure is recommended for melanoma prevention without changing sunscreen.\\n  \\\\nB) Adjusting sunscreens to balance UV protection could enhance health by promoting vitamin D while reducing melanoma risk.\\n  \\\\nC) Changing sunscreens to block both types of UV would decrease vitamin D production.\\n  \\\\nD) Vitamin D supplements as an alternative make sunscreen adjustments unnecessary.</QUESTION>\\n\\n<ANSWER>B) Adjusting sunscreens to balance UV protection could enhance health by promoting vitamin D while reducing melanoma risk.</ANSWER>',\n",
       "  'execution_time': '0:00:11.889150',\n",
       "  'input_tokens': 1085,\n",
       "  'output_tokens': 465,\n",
       "  'question_type': 'inference',\n",
       "  'invocation_id': '8225dcf9-6e23-44be-8ed2-5481815e0ff0',\n",
       "  'mcq': 'Based on the passage, how could adjusting sunscreen formulations influence health outcomes?\\n  \\nA) Increasing sun exposure is recommended for melanoma prevention without changing sunscreen.\\n  \\nB) Adjusting sunscreens to balance UV protection could enhance health by promoting vitamin D while reducing melanoma risk.\\n  \\nC) Changing sunscreens to block both types of UV would decrease vitamin D production.\\n  \\nD) Vitamin D supplements as an alternative make sunscreen adjustments unnecessary.',\n",
       "  'mcq_answer': 'B) Adjusting sunscreens to balance UV protection could enhance health by promoting vitamin D while reducing melanoma risk.',\n",
       "  'timestamp': '2025-05-21T14:27:16.765182'},\n",
       " {'system_prompt': '[ROLE]:\\nYou are an experienced college instructor. You are an expert in writing multiple-choice questions to assess students’ understanding of academic texts (e.g., chapters in textbooks, academic articles).\\n\\n[TASK]:\\nYou are asked to write a main idea multiple-choice question based on an academic text summary provided by the user. \\nFollow the guidelines in [GUIDELINES] to do exactly what you are instructed to do. \\n\\n[DEFINITION]\\n**What are main idea questions?**\\nMain idea questions assess a student\\'s ability to identify the central point or primary argument of a text, passage, or section.\\nInstead of focusing on specific details, examples, or minor points, these questions target the big picture — what the author is fundamentally trying to convey.\\n\\n[GUIDELINES]\\nStep1: Carefully read the TEXT to understand its main idea.  \\nStep2: Write a clear question stem. Typical stems include:\\n  - \"Which of the following best expresses the main idea of the passage?\"\\n  - \"What is the primary purpose of the text?\"\\n  - \"What is the central argument of the article?\"\\nStep3: Create the correct answer option. \\n  - It should accurately reflect the main idea.\\n  - It should be broad enough to cover the whole passage but specific enough to show real understanding.\\n  - It should use words that are in the question sparingly.\\nStep4: Write three plausible distractors. Good distractors often:\\n  - Reflect common misconceptions or misinterpretations of the text.\\n  - Sound reasonable to a student who only skimmed or misunderstood the text.\\n  - Reflect minor details from the text.\\n  - Be similar in length and complexity to the correct answer.\\nStep5: Shuffle the answer and distractors to create a list of four options (A, B, C, D).\\nStep6: Self-critique the question and answer choices to ensure clarity, accuracy, and relevance. \\n  - Ensure that the question is clear and unambiguous.\\n  - Ensure that the correct answer is clearly the best choice.\\n  - Ensure that the distractors are plausible and relevant.\\n  - Ensure that the answer choices are not too similar or too different in length or complexity.\\n\\nPrint out your reasoning BEFORE you print out the mutliple-choice main idea question. \\n\\nIMPORTANT: \\n1) Wrap up the multiple-choice main idea question within <QUESTION></QUESTION> tags. The stem SHOULD be included in the <QUESTION> tags. Example:\\n<QUESTION>What is the main idea of the passage?\\n  \\\\nA) Remote work has recently become more common because of its benefits to companies.\\n  \\\\nB) Remote work is better than working in an office.\\n  \\\\nC) Most companies now require employees to work remotely.\\n  \\\\nD) Remote work only benefits employees, not companies.</QUESTION>\\n2) Wrap up the correct answer within <ANSWER></ANSWER> tags. The answer should contain the letter of the correct answer (A, B, C, or D) and the text of the correct answer. Example:\\n<ANSWER>A) Remote work has recently become more common because of its benefits to companies.</ANSWER>\\n',\n",
       "  'user_prompt': \"<text>\\nResearch suggests that sun exposure enhances the production of vitamin D, which can improve the body's defense against cancer. Johan Moan, a Professor at the Cancer Center at Boston Medical Center, claims that people living closer to the equator or experiencing certain seasons have improved cancer survival rates due to higher vitamin D levels. His research, along with Richard Setlow, published in a prestigious journal, emphasizes that avoiding sun can be harmful, particularly for those in northern regions.  Moan advises some sun exposure without sunscreen for vitamin D, comparing it to the intake of cod-liver oil. He suggests tanning beds as a vitamin D supplement during dark months. While UVA triggers melanoma, UVB stimulates vitamin D production. Setlow proposes altering sunscreens to let UVB through while blocking UVA.\\n</text>\",\n",
       "  'model': 'gpt-4o',\n",
       "  'completion': '**Reasoning:**\\n\\nStep1: From the provided text summary, the central idea is that sun exposure is beneficial for vitamin D production, which improves cancer defense. Avoidance of sun can be harmful, and some sun exposure without sunscreen is advised. The text discusses the benefits of vitamin D, how it can be supplemented through tanning beds, and adjustments in sunscreen formulations for optimal health benefits.\\n\\nStep2: The question stem will focus on understanding the primary intent or argument presented in the text.\\n\\nStep3: The correct answer needs to encapsulate the main idea: the benefits and potential issues regarding sun exposure and vitamin D production and its impact on cancer defense.\\n\\nStep4: Plausible distractors will reference elements from the text, such as the balance needed for sun exposure, the role of different UV rays, and the suggestion of tanning beds, without capturing the central argument.\\n\\n<QUESTION>Which of the following best expresses the main idea of the passage?\\n  \\\\nA) Using tanning beds is advisable during dark months to boost vitamin D levels.\\n  \\\\nB) Sun exposure is essential for vitamin D production, which aids cancer defense, but it must be balanced with protection against UVA.\\n  \\\\nC) Sunscreens should entirely block both UVA and UVB to avoid skin cancer.\\n  \\\\nD) People should avoid sun exposure to prevent skin conditions like melanoma.</QUESTION>\\n\\n<ANSWER>B) Sun exposure is essential for vitamin D production, which aids cancer defense, but it must be balanced with protection against UVA.</ANSWER>',\n",
       "  'execution_time': '0:00:07.815609',\n",
       "  'input_tokens': 798,\n",
       "  'output_tokens': 308,\n",
       "  'question_type': 'main_idea',\n",
       "  'invocation_id': '8225dcf9-6e23-44be-8ed2-5481815e0ff0',\n",
       "  'mcq': 'Which of the following best expresses the main idea of the passage?\\n  \\nA) Using tanning beds is advisable during dark months to boost vitamin D levels.\\n  \\nB) Sun exposure is essential for vitamin D production, which aids cancer defense, but it must be balanced with protection against UVA.\\n  \\nC) Sunscreens should entirely block both UVA and UVB to avoid skin cancer.\\n  \\nD) People should avoid sun exposure to prevent skin conditions like melanoma.',\n",
       "  'mcq_answer': 'B) Sun exposure is essential for vitamin D production, which aids cancer defense, but it must be balanced with protection against UVA.',\n",
       "  'timestamp': '2025-05-21T14:27:12.711429'}]"
      ]
     },
     "execution_count": 17,
     "metadata": {},
     "output_type": "execute_result"
    }
   ],
   "source": [
    "questions"
   ]
  },
  {
   "cell_type": "code",
   "execution_count": 16,
   "metadata": {},
   "outputs": [
    {
     "name": "stderr",
     "output_type": "stream",
     "text": [
      "INFO:root:Table 'mcq_metadata' created or already exists.\n",
      "DEBUG:openai._base_client:Request options: {'method': 'post', 'url': '/chat/completions', 'files': None, 'json_data': {'messages': [{'role': 'system', 'content': '[ROLE]:\\nYou are an experienced college instructor. You are an expert in writing multiple-choice questions to assess students’ understanding of academic texts (e.g., chapters in textbooks, academic articles).\\n\\n[TASK]:\\nYour task is to write a factual multiple-choice question (see DEFINITION) based on a fact provided by the user. \\nThis fact will be directly supported by a \"source text\", which is an excerpt from the academic material. \\nA \"contextual text\" will also be provided to help you understand the broader meaning and useage of the source text. \\nFollow the guidelines in [GUIDELINES] to do exactly what you are instructed to do. \\n\\n[DEFINITION]\\n**What are factual questions?**\\nFactual questions are those that have a single, verifiable answer based on objective information, often requiring recall of specific facts or details. \\n\\n[GUIDELINES]\\nGenerate a multiple-choice factual question by completing the following steps in order:\\n\\nStep1: Based on the fact, source text, and contextual text, write a question that directly asks about the fact, avoiding unnecessary complexity. Keep the wording concise and straightforward to focus on the content.\\n  - Example (Good Question):\\n    \"What is the primary function of the amygdala?\"\\n  - Example (Poor Question - Too Vague):\\n    \"What does the amygdala do?\" (Too broad, unclear if asking about function, structure, or location.)\\nStep2: Provide a correct answer to the question based on the facts in the text. The correct answer should:\\n  - Be indisputably correct based on the text.\\n  - Try not to use words that are in the question.\\n  - Avoid using determinative words such as always, never, absolutely.\\n  - Avoid wording that could make multiple answers seem correct.\\nStep4: Provide three distractors based on the text. The distractors should:\\n  - Be plausible but incorrect based on the text.\\n  - Avoid obviously wrong or ridiculous choices.\\n  - Use common misconceptions or similar-sounding terms.\\n  - Be approximately the same number of words as the answer. \\n  - Be independent of the answer.\\n Step5: Shuffle the answer and distractors to create a list of four options (A, B, C, D).\\n Step6: Self-critique the question and answer choices to ensure clarity, accuracy, and relevance. \\n  - Ensure that the question is clear and unambiguous.\\n  - Ensure that the correct answer is clearly the best choice.\\n  - Ensure that the distractors are plausible and relevant.\\n  - Ensure that the answer choices are not too similar or too different in length or complexity.\\n\\nPrint out your reasoning BEFORE you print out the mutliple-choice factual question. \\n\\nIMPORTANT: \\n1) Wrap up the multiple-choice factual question within <QUESTION></QUESTION> tags. The stem SHOULD be included in the <QUESTION> tags. Example:\\n<QUESTION>What function did early exhibitors serve in the showcasing of movies in theaters?\\n  \\\\nA) They determined the arrangement of different elements in the film program.\\n  \\\\nB) They offered guidance to filmmakers regarding suitable movie content\\n  \\\\nC) They frequently participated in live performances.\\n  \\\\nD) They created and pre-recorded the content displayed in theaters.</QUESTION>\\n2) Wrap up the correct answer within <ANSWER></ANSWER> tags. The answer should contain the letter of the correct answer (A, B, C, or D) and the text of the correct answer. Example:\\n<ANSWER>D) hey created and pre-recorded the content displayed in theaters.</ANSWER>\\n'}, {'role': 'user', 'content': \"Here is a fact:\\n<fact>\\nSun exposure speeds up the body's production of vitamin D, which can prevent cancer and many other diseases.\\n</fact>\\n\\nHere is the source text for the fact:\\n<source_text>\\nResearch conducted by Johan Moan, a professor at the Cancer Center at Boston Medical Center, and his colleagues suggests that sun exposure increases the body's production of vitamin D, providing a defense against cancer. Their findings indicate that people living closer to the equator tend to survive cancer better due to higher vitamin D levels, and that cancer prognosis improves when diagnosed in summer or autumn. The research highlights the importance of vitamin D for preventing internal cancers. Northerners, with less sun exposure, should prioritize sunbathing or supplementing with cod-liver oil. Richard Setlow, a biophysicist, supports the idea that avoiding the sun could be more harmful than beneficial due to vitamin D's protective role.   \\n</source_text>\\n\\nHere is the contextual text for the source text:\\n<contextual_text>\\nMoan asserts that moderate sun exposure without sunscreen is beneficial since it equates to vitamin D obtained from cod-liver oil, emphasizing the use of tanning beds during winter months when natural sunlight is insufficient. He explains that UVA rays trigger melanomas, while UVB rays promote vitamin D production. Setlow suggests modifying sunscreens to reduce UVA blocking while allowing UVB exposure.\\n</contextual_text>\"}], 'model': 'gpt-4o'}}\n",
      "DEBUG:openai._base_client:Sending HTTP Request: POST https://api.openai.com/v1/chat/completions\n",
      "DEBUG:httpcore.connection:connect_tcp.started host='api.openai.com' port=443 local_address=None timeout=5.0 socket_options=None\n",
      "DEBUG:httpcore.connection:connect_tcp.complete return_value=<httpcore._backends.sync.SyncStream object at 0x000002734BC94400>\n",
      "DEBUG:httpcore.connection:start_tls.started ssl_context=<ssl.SSLContext object at 0x000002734ACCCFC0> server_hostname='api.openai.com' timeout=5.0\n",
      "DEBUG:httpcore.connection:start_tls.complete return_value=<httpcore._backends.sync.SyncStream object at 0x000002734CA78AC0>\n",
      "DEBUG:httpcore.http11:send_request_headers.started request=<Request [b'POST']>\n",
      "DEBUG:httpcore.http11:send_request_headers.complete\n",
      "DEBUG:httpcore.http11:send_request_body.started request=<Request [b'POST']>\n",
      "DEBUG:httpcore.http11:send_request_body.complete\n",
      "DEBUG:httpcore.http11:receive_response_headers.started request=<Request [b'POST']>\n",
      "DEBUG:httpcore.http11:receive_response_headers.complete return_value=(b'HTTP/1.1', 200, b'OK', [(b'Date', b'Wed, 21 May 2025 19:12:34 GMT'), (b'Content-Type', b'application/json'), (b'Transfer-Encoding', b'chunked'), (b'Connection', b'keep-alive'), (b'access-control-expose-headers', b'X-Request-ID'), (b'openai-organization', b'asu-knowledge-enterprise'), (b'openai-processing-ms', b'5340'), (b'openai-version', b'2020-10-01'), (b'x-envoy-upstream-service-time', b'5344'), (b'x-ratelimit-limit-requests', b'10000'), (b'x-ratelimit-limit-tokens', b'30000000'), (b'x-ratelimit-remaining-requests', b'9999'), (b'x-ratelimit-remaining-tokens', b'29998779'), (b'x-ratelimit-reset-requests', b'6ms'), (b'x-ratelimit-reset-tokens', b'2ms'), (b'x-request-id', b'req_e480e6e35f0307775979f0d6cf0baaf0'), (b'strict-transport-security', b'max-age=31536000; includeSubDomains; preload'), (b'cf-cache-status', b'DYNAMIC'), (b'Set-Cookie', b'__cf_bm=XmWcAAR5leSiDeSIU.VFOBdpd1Amz4ueq6W2ZgQ69N8-1747854754-1.0.1.1-iVJ_yh6bjWwi7yfwLVbvsbd5o9.FpqRlNZaNsZwy8zgadVQOBamWNRDF3mEcUeFS.DFzyxe6mANjN21Ntz80Lfym6eoJ7WxI8LIBSg27uL0; path=/; expires=Wed, 21-May-25 19:42:34 GMT; domain=.api.openai.com; HttpOnly; Secure; SameSite=None'), (b'X-Content-Type-Options', b'nosniff'), (b'Set-Cookie', b'_cfuvid=2jxFjLE6yzMbv9C8RXgpz69g1vv.hV.unhYFDhtYe.Y-1747854754968-0.0.1.1-604800000; path=/; domain=.api.openai.com; HttpOnly; Secure; SameSite=None'), (b'Server', b'cloudflare'), (b'CF-RAY', b'943662b8aae427cf-SAN'), (b'Content-Encoding', b'gzip'), (b'alt-svc', b'h3=\":443\"; ma=86400')])\n",
      "INFO:httpx:HTTP Request: POST https://api.openai.com/v1/chat/completions \"HTTP/1.1 200 OK\"\n",
      "DEBUG:httpcore.http11:receive_response_body.started request=<Request [b'POST']>\n",
      "DEBUG:httpcore.http11:receive_response_body.complete\n",
      "DEBUG:httpcore.http11:response_closed.started\n",
      "DEBUG:httpcore.http11:response_closed.complete\n",
      "DEBUG:openai._base_client:HTTP Response: POST https://api.openai.com/v1/chat/completions \"200 OK\" Headers([('date', 'Wed, 21 May 2025 19:12:34 GMT'), ('content-type', 'application/json'), ('transfer-encoding', 'chunked'), ('connection', 'keep-alive'), ('access-control-expose-headers', 'X-Request-ID'), ('openai-organization', 'asu-knowledge-enterprise'), ('openai-processing-ms', '5340'), ('openai-version', '2020-10-01'), ('x-envoy-upstream-service-time', '5344'), ('x-ratelimit-limit-requests', '10000'), ('x-ratelimit-limit-tokens', '30000000'), ('x-ratelimit-remaining-requests', '9999'), ('x-ratelimit-remaining-tokens', '29998779'), ('x-ratelimit-reset-requests', '6ms'), ('x-ratelimit-reset-tokens', '2ms'), ('x-request-id', 'req_e480e6e35f0307775979f0d6cf0baaf0'), ('strict-transport-security', 'max-age=31536000; includeSubDomains; preload'), ('cf-cache-status', 'DYNAMIC'), ('set-cookie', '__cf_bm=XmWcAAR5leSiDeSIU.VFOBdpd1Amz4ueq6W2ZgQ69N8-1747854754-1.0.1.1-iVJ_yh6bjWwi7yfwLVbvsbd5o9.FpqRlNZaNsZwy8zgadVQOBamWNRDF3mEcUeFS.DFzyxe6mANjN21Ntz80Lfym6eoJ7WxI8LIBSg27uL0; path=/; expires=Wed, 21-May-25 19:42:34 GMT; domain=.api.openai.com; HttpOnly; Secure; SameSite=None'), ('x-content-type-options', 'nosniff'), ('set-cookie', '_cfuvid=2jxFjLE6yzMbv9C8RXgpz69g1vv.hV.unhYFDhtYe.Y-1747854754968-0.0.1.1-604800000; path=/; domain=.api.openai.com; HttpOnly; Secure; SameSite=None'), ('server', 'cloudflare'), ('cf-ray', '943662b8aae427cf-SAN'), ('content-encoding', 'gzip'), ('alt-svc', 'h3=\":443\"; ma=86400')])\n",
      "DEBUG:openai._base_client:request_id: req_e480e6e35f0307775979f0d6cf0baaf0\n",
      "INFO:src.mcq_generation:MCQ extracted successfully using the MCQ tags from the generated text.\n",
      "INFO:src.mcq_generation:Answer extracted successfully using the ANSWER tags from the generated text.\n",
      "ERROR:root:Error inserting metadata into 'mcq_metadata': table mcq_metadata has no column named invocation_id\n",
      "INFO:root:Table 'mcq_metadata' created or already exists.\n",
      "DEBUG:openai._base_client:Request options: {'method': 'post', 'url': '/chat/completions', 'files': None, 'json_data': {'messages': [{'role': 'system', 'content': '[ROLE]:\\nYou are an experienced college instructor. You are an expert in writing multiple-choice questions to assess students’ understanding of academic texts (e.g., chapters in textbooks, academic articles).\\n\\n[TASK]:\\nYour task is to write an inferential multiple-choice question (see DEFINITION) based on an inference provided by the user. \\nThis inference will be directly supported by a \"source text\", which is an excerpt from the academic material. \\nA \"contextual text\" will also be provided to help you understand the broader meaning and useage of the source text. \\nFollow the guidelines in [GUIDELINES] to do exactly what you are instructed to do. \\n\\n[DEFINITION]\\n**What are inferential questions?**\\nInferential questions require students to go beyond the explicit information in a text and draw conclusions based on evidence, reasoning, and prior knowledge. Unlike literal questions, which ask for directly stated facts, inferential questions challenge students to interpret, analyze, or predict based on textual clues.\\nFor example, \\nExcerpt:\\n\"Studies have shown that prolonged exposure to stress can negatively impact cognitive function, particularly memory and decision-making. This is because chronic stress leads to an overproduction of cortisol, a hormone that, in excessive amounts, has been linked to neural atrophy in the hippocampus, a brain region crucial for memory formation.\"\\nLiteral Question:\\n\"According to the passage, what is one effect of chronic stress on the brain?\"\\n(Answer: Neural atrophy in the hippocampus, affecting memory formation.)\\nInferential Question:\\n\"Based on the passage, why might individuals in high-stress professions experience difficulty making decisions?\"\\n(Reasoning and Answer: The passage states that chronic stress impairs cognitive functions like decision-making. Since high-stress professions expose individuals to prolonged stress, they may experience cognitive difficulties due to excessive cortisol affecting brain regions involved in these functions.)\\n\\n[GUIDELINES]\\nStep1: Summarize your understanding of what inferential questions are. \\nStep2: Provide a correct answer to the inferential question based on the inference, the source text, and the contextual text. The correct answer should:\\n  - Be indisputably correct based on the text.\\n  - Try not to use words that are in the question.\\n  - Avoid using determinative words such as always, never, absolutely.\\n  - Avoid wording that could make multiple answers seem correct.\\nStep4: Provide three plausible distractors based on the text. The distractors should:\\n  - Be plausible but incorrect based on the text.\\n  - Avoid obviously wrong or ridiculous choices.\\n  - Use common misconceptions or similar-sounding terms.\\n  - Be approximately the same number of words as the answer. \\n  - Be independent of the answer.\\nStep5: Shuffle the answer and distractors to create a list of four options (A, B, C, D).\\nStep6: Self-critique the question and answer choices to ensure clarity, accuracy, and relevance. \\n  - Ensure that the question is clear and unambiguous.\\n  - Ensure that the correct answer is clearly the best choice.\\n  - Ensure that the distractors are plausible and relevant.\\n  - Ensure that the answer choices are not too similar or too different in length or complexity.\\n\\nPrint out your reasoning BEFORE you print out the mutliple-choice inferential question. \\n\\nIMPORTANT: \\n1) Wrap up the multiple-choice inferential question within <QUESTION></QUESTION> tags. The stem SHOULD be included in the <QUESTION> tags. Example:\\n<QUESTION>Based on the passage, what is the likely cause of the decrease in energy at each succeeding trophic level in an ecosystem?\\n  \\\\nA) The inefficient capture and consumption of food by organisms\\n  \\\\nB) The availability of sunlight for photosynthesis\\n  \\\\nC) The decrease in the number of autotrophs\\n  \\\\nD) The high metabolic rate of consumers</QUESTION>\\n2) Wrap up the correct answer within <ANSWER></ANSWER> tags. The answer should contain the letter of the correct answer (A, B, C, or D) and the text of the correct answer. Example:\\n<ANSWER>A) The inefficient capture and consumption of food by organisms</ANSWER>\\n'}, {'role': 'user', 'content': \"Here is an inference:\\n<inference>\\nSunscreen formulas might need revision to allow UVB exposure while protecting from UVA to optimize health benefits from sun exposure.\\n</inference>\\n\\nHere is the source text for the inference:\\n<source_text>\\nResearch conducted by Johan Moan, a professor at the Cancer Center at Boston Medical Center, and his colleagues suggests that sun exposure increases the body's production of vitamin D, providing a defense against cancer. Their findings indicate that people living closer to the equator tend to survive cancer better due to higher vitamin D levels, and that cancer prognosis improves when diagnosed in summer or autumn. The research highlights the importance of vitamin D for preventing internal cancers. Northerners, with less sun exposure, should prioritize sunbathing or supplementing with cod-liver oil. Richard Setlow, a biophysicist, supports the idea that avoiding the sun could be more harmful than beneficial due to vitamin D's protective role.\\nMoan asserts that moderate sun exposure without sunscreen is beneficial since it equates to vitamin D obtained from cod-liver oil, emphasizing the use of tanning beds during winter months when natural sunlight is insufficient. He explains that UVA rays trigger melanomas, while UVB rays promote vitamin D production. Setlow suggests modifying sunscreens to reduce UVA blocking while allowing UVB exposure.   \\n</source_text>\\n\\nHere is the contextual text for the source text:\\n<contextual_text>\\n\\n</contextual_text>\\n\"}], 'model': 'gpt-4o'}}\n",
      "DEBUG:openai._base_client:Sending HTTP Request: POST https://api.openai.com/v1/chat/completions\n",
      "DEBUG:httpcore.connection:connect_tcp.started host='api.openai.com' port=443 local_address=None timeout=5.0 socket_options=None\n",
      "DEBUG:httpcore.connection:connect_tcp.complete return_value=<httpcore._backends.sync.SyncStream object at 0x000002734CA9C2E0>\n",
      "DEBUG:httpcore.connection:start_tls.started ssl_context=<ssl.SSLContext object at 0x0000027348018F40> server_hostname='api.openai.com' timeout=5.0\n",
      "DEBUG:httpcore.connection:start_tls.complete return_value=<httpcore._backends.sync.SyncStream object at 0x000002734CA9C310>\n",
      "DEBUG:httpcore.http11:send_request_headers.started request=<Request [b'POST']>\n",
      "DEBUG:httpcore.http11:send_request_headers.complete\n",
      "DEBUG:httpcore.http11:send_request_body.started request=<Request [b'POST']>\n",
      "DEBUG:httpcore.http11:send_request_body.complete\n",
      "DEBUG:httpcore.http11:receive_response_headers.started request=<Request [b'POST']>\n",
      "DEBUG:httpcore.http11:receive_response_headers.complete return_value=(b'HTTP/1.1', 200, b'OK', [(b'Date', b'Wed, 21 May 2025 19:12:43 GMT'), (b'Content-Type', b'application/json'), (b'Transfer-Encoding', b'chunked'), (b'Connection', b'keep-alive'), (b'access-control-expose-headers', b'X-Request-ID'), (b'openai-organization', b'asu-knowledge-enterprise'), (b'openai-processing-ms', b'8137'), (b'openai-version', b'2020-10-01'), (b'x-envoy-upstream-service-time', b'8149'), (b'x-ratelimit-limit-requests', b'10000'), (b'x-ratelimit-limit-tokens', b'30000000'), (b'x-ratelimit-remaining-requests', b'9999'), (b'x-ratelimit-remaining-tokens', b'29998583'), (b'x-ratelimit-reset-requests', b'6ms'), (b'x-ratelimit-reset-tokens', b'2ms'), (b'x-request-id', b'req_6af44fbd92968c6659bd22a96eb0433d'), (b'strict-transport-security', b'max-age=31536000; includeSubDomains; preload'), (b'cf-cache-status', b'DYNAMIC'), (b'Set-Cookie', b'__cf_bm=Oq7L2t7jU5HlmKv4tLU4d9WIwXmTX3apZQIE6GrxyF8-1747854763-1.0.1.1-YQXUTI9hM4uGoHbaItz5qN6zJAt6zMkURLKUOxUgv0PjkMKcIzlg_UzG9ZsZpJdscURnwkABBJnGJZYSOhO95xffXIiW9hg38jVuARGeKPE; path=/; expires=Wed, 21-May-25 19:42:43 GMT; domain=.api.openai.com; HttpOnly; Secure; SameSite=None'), (b'X-Content-Type-Options', b'nosniff'), (b'Set-Cookie', b'_cfuvid=RfZBqvVj46bAyssadf4fX5qogyXj6eQzM4D.fGiwfcc-1747854763256-0.0.1.1-604800000; path=/; domain=.api.openai.com; HttpOnly; Secure; SameSite=None'), (b'Server', b'cloudflare'), (b'CF-RAY', b'943662db09446a31-SAN'), (b'Content-Encoding', b'gzip'), (b'alt-svc', b'h3=\":443\"; ma=86400')])\n",
      "INFO:httpx:HTTP Request: POST https://api.openai.com/v1/chat/completions \"HTTP/1.1 200 OK\"\n",
      "DEBUG:httpcore.http11:receive_response_body.started request=<Request [b'POST']>\n",
      "DEBUG:httpcore.http11:receive_response_body.complete\n",
      "DEBUG:httpcore.http11:response_closed.started\n",
      "DEBUG:httpcore.http11:response_closed.complete\n",
      "DEBUG:openai._base_client:HTTP Response: POST https://api.openai.com/v1/chat/completions \"200 OK\" Headers([('date', 'Wed, 21 May 2025 19:12:43 GMT'), ('content-type', 'application/json'), ('transfer-encoding', 'chunked'), ('connection', 'keep-alive'), ('access-control-expose-headers', 'X-Request-ID'), ('openai-organization', 'asu-knowledge-enterprise'), ('openai-processing-ms', '8137'), ('openai-version', '2020-10-01'), ('x-envoy-upstream-service-time', '8149'), ('x-ratelimit-limit-requests', '10000'), ('x-ratelimit-limit-tokens', '30000000'), ('x-ratelimit-remaining-requests', '9999'), ('x-ratelimit-remaining-tokens', '29998583'), ('x-ratelimit-reset-requests', '6ms'), ('x-ratelimit-reset-tokens', '2ms'), ('x-request-id', 'req_6af44fbd92968c6659bd22a96eb0433d'), ('strict-transport-security', 'max-age=31536000; includeSubDomains; preload'), ('cf-cache-status', 'DYNAMIC'), ('set-cookie', '__cf_bm=Oq7L2t7jU5HlmKv4tLU4d9WIwXmTX3apZQIE6GrxyF8-1747854763-1.0.1.1-YQXUTI9hM4uGoHbaItz5qN6zJAt6zMkURLKUOxUgv0PjkMKcIzlg_UzG9ZsZpJdscURnwkABBJnGJZYSOhO95xffXIiW9hg38jVuARGeKPE; path=/; expires=Wed, 21-May-25 19:42:43 GMT; domain=.api.openai.com; HttpOnly; Secure; SameSite=None'), ('x-content-type-options', 'nosniff'), ('set-cookie', '_cfuvid=RfZBqvVj46bAyssadf4fX5qogyXj6eQzM4D.fGiwfcc-1747854763256-0.0.1.1-604800000; path=/; domain=.api.openai.com; HttpOnly; Secure; SameSite=None'), ('server', 'cloudflare'), ('cf-ray', '943662db09446a31-SAN'), ('content-encoding', 'gzip'), ('alt-svc', 'h3=\":443\"; ma=86400')])\n",
      "DEBUG:openai._base_client:request_id: req_6af44fbd92968c6659bd22a96eb0433d\n",
      "INFO:src.mcq_generation:MCQ extracted successfully using the MCQ tags from the generated text.\n",
      "INFO:src.mcq_generation:Answer extracted successfully using the ANSWER tags from the generated text.\n",
      "ERROR:root:Error inserting metadata into 'mcq_metadata': table mcq_metadata has no column named invocation_id\n",
      "INFO:root:Table 'mcq_metadata' created or already exists.\n",
      "DEBUG:openai._base_client:Request options: {'method': 'post', 'url': '/chat/completions', 'files': None, 'json_data': {'messages': [{'role': 'system', 'content': '[ROLE]:\\nYou are an experienced college instructor. You are an expert in writing multiple-choice questions to assess students’ understanding of academic texts (e.g., chapters in textbooks, academic articles).\\n\\n[TASK]:\\nYou are asked to write a main idea multiple-choice question based on an academic text summary provided by the user. \\nFollow the guidelines in [GUIDELINES] to do exactly what you are instructed to do. \\n\\n[DEFINITION]\\n**What are main idea questions?**\\nMain idea questions assess a student\\'s ability to identify the central point or primary argument of a text, passage, or section.\\nInstead of focusing on specific details, examples, or minor points, these questions target the big picture — what the author is fundamentally trying to convey.\\n\\n[GUIDELINES]\\nStep1: Carefully read the TEXT to understand its main idea.  \\nStep2: Write a clear question stem. Typical stems include:\\n  - \"Which of the following best expresses the main idea of the passage?\"\\n  - \"What is the primary purpose of the text?\"\\n  - \"What is the central argument of the article?\"\\nStep3: Create the correct answer option. \\n  - It should accurately reflect the main idea.\\n  - It should be broad enough to cover the whole passage but specific enough to show real understanding.\\n  - It should use words that are in the question sparingly.\\nStep4: Write three plausible distractors. Good distractors often:\\n  - Reflect common misconceptions or misinterpretations of the text.\\n  - Sound reasonable to a student who only skimmed or misunderstood the text.\\n  - Reflect minor details from the text.\\n  - Be similar in length and complexity to the correct answer.\\nStep5: Shuffle the answer and distractors to create a list of four options (A, B, C, D).\\nStep6: Self-critique the question and answer choices to ensure clarity, accuracy, and relevance. \\n  - Ensure that the question is clear and unambiguous.\\n  - Ensure that the correct answer is clearly the best choice.\\n  - Ensure that the distractors are plausible and relevant.\\n  - Ensure that the answer choices are not too similar or too different in length or complexity.\\n\\nPrint out your reasoning BEFORE you print out the mutliple-choice main idea question. \\n\\nIMPORTANT: \\n1) Wrap up the multiple-choice main idea question within <QUESTION></QUESTION> tags. The stem SHOULD be included in the <QUESTION> tags. Example:\\n<QUESTION>What is the main idea of the passage?\\n  \\\\nA) Remote work has recently become more common because of its benefits to companies.\\n  \\\\nB) Remote work is better than working in an office.\\n  \\\\nC) Most companies now require employees to work remotely.\\n  \\\\nD) Remote work only benefits employees, not companies.</QUESTION>\\n2) Wrap up the correct answer within <ANSWER></ANSWER> tags. The answer should contain the letter of the correct answer (A, B, C, or D) and the text of the correct answer. Example:\\n<ANSWER>A) Remote work has recently become more common because of its benefits to companies.</ANSWER>\\n'}, {'role': 'user', 'content': \"<text>\\nResearch conducted by Johan Moan, a professor at the Cancer Center at Boston Medical Center, and his colleagues suggests that sun exposure increases the body's production of vitamin D, providing a defense against cancer. Their findings indicate that people living closer to the equator tend to survive cancer better due to higher vitamin D levels, and that cancer prognosis improves when diagnosed in summer or autumn. The research highlights the importance of vitamin D for preventing internal cancers. Northerners, with less sun exposure, should prioritize sunbathing or supplementing with cod-liver oil. Richard Setlow, a biophysicist, supports the idea that avoiding the sun could be more harmful than beneficial due to vitamin D's protective role.Moan asserts that moderate sun exposure without sunscreen is beneficial since it equates to vitamin D obtained from cod-liver oil, emphasizing the use of tanning beds during winter months when natural sunlight is insufficient. He explains that UVA rays trigger melanomas, while UVB rays promote vitamin D production. Setlow suggests modifying sunscreens to reduce UVA blocking while allowing UVB exposure.\\n</text>\"}], 'model': 'gpt-4o'}}\n",
      "DEBUG:openai._base_client:Sending HTTP Request: POST https://api.openai.com/v1/chat/completions\n",
      "DEBUG:httpcore.connection:connect_tcp.started host='api.openai.com' port=443 local_address=None timeout=5.0 socket_options=None\n",
      "DEBUG:httpcore.connection:connect_tcp.complete return_value=<httpcore._backends.sync.SyncStream object at 0x000002734CA9FF70>\n",
      "DEBUG:httpcore.connection:start_tls.started ssl_context=<ssl.SSLContext object at 0x000002734AE0DCC0> server_hostname='api.openai.com' timeout=5.0\n",
      "DEBUG:httpcore.connection:start_tls.complete return_value=<httpcore._backends.sync.SyncStream object at 0x000002734CA9C640>\n",
      "DEBUG:httpcore.http11:send_request_headers.started request=<Request [b'POST']>\n",
      "DEBUG:httpcore.http11:send_request_headers.complete\n",
      "DEBUG:httpcore.http11:send_request_body.started request=<Request [b'POST']>\n",
      "DEBUG:httpcore.http11:send_request_body.complete\n",
      "DEBUG:httpcore.http11:receive_response_headers.started request=<Request [b'POST']>\n",
      "DEBUG:httpcore.http11:receive_response_headers.complete return_value=(b'HTTP/1.1', 200, b'OK', [(b'Date', b'Wed, 21 May 2025 19:12:48 GMT'), (b'Content-Type', b'application/json'), (b'Transfer-Encoding', b'chunked'), (b'Connection', b'keep-alive'), (b'access-control-expose-headers', b'X-Request-ID'), (b'openai-organization', b'asu-knowledge-enterprise'), (b'openai-processing-ms', b'5576'), (b'openai-version', b'2020-10-01'), (b'x-envoy-upstream-service-time', b'5583'), (b'x-ratelimit-limit-requests', b'10000'), (b'x-ratelimit-limit-tokens', b'30000000'), (b'x-ratelimit-remaining-requests', b'9999'), (b'x-ratelimit-remaining-tokens', b'29998964'), (b'x-ratelimit-reset-requests', b'6ms'), (b'x-ratelimit-reset-tokens', b'2ms'), (b'x-request-id', b'req_67c426b3444220ef469a75f8a18ea6f1'), (b'strict-transport-security', b'max-age=31536000; includeSubDomains; preload'), (b'cf-cache-status', b'DYNAMIC'), (b'Set-Cookie', b'__cf_bm=hnGt0dX94nRCJPf4jv9d587p.Uo1woMrf9QlNUqYMEo-1747854768-1.0.1.1-y6J_CCGMcdlzA5fVyPG2r0NJ1FQhOSpo3iUMde76_RzTRvYIEcuTvY7wXx9zaX6q6ruVl8NWRG_6iP.kGGF.aOrzkjSf32CrplZGW7nYDHA; path=/; expires=Wed, 21-May-25 19:42:48 GMT; domain=.api.openai.com; HttpOnly; Secure; SameSite=None'), (b'X-Content-Type-Options', b'nosniff'), (b'Set-Cookie', b'_cfuvid=xdMFEXKNQ3iGudGnHS5yGAWWKEjDZ54pU0_WgxCbQ3M-1747854768970-0.0.1.1-604800000; path=/; domain=.api.openai.com; HttpOnly; Secure; SameSite=None'), (b'Server', b'cloudflare'), (b'CF-RAY', b'9436630ecd6f27d2-SAN'), (b'Content-Encoding', b'gzip'), (b'alt-svc', b'h3=\":443\"; ma=86400')])\n",
      "INFO:httpx:HTTP Request: POST https://api.openai.com/v1/chat/completions \"HTTP/1.1 200 OK\"\n",
      "DEBUG:httpcore.http11:receive_response_body.started request=<Request [b'POST']>\n",
      "DEBUG:httpcore.http11:receive_response_body.complete\n",
      "DEBUG:httpcore.http11:response_closed.started\n",
      "DEBUG:httpcore.http11:response_closed.complete\n",
      "DEBUG:openai._base_client:HTTP Response: POST https://api.openai.com/v1/chat/completions \"200 OK\" Headers([('date', 'Wed, 21 May 2025 19:12:48 GMT'), ('content-type', 'application/json'), ('transfer-encoding', 'chunked'), ('connection', 'keep-alive'), ('access-control-expose-headers', 'X-Request-ID'), ('openai-organization', 'asu-knowledge-enterprise'), ('openai-processing-ms', '5576'), ('openai-version', '2020-10-01'), ('x-envoy-upstream-service-time', '5583'), ('x-ratelimit-limit-requests', '10000'), ('x-ratelimit-limit-tokens', '30000000'), ('x-ratelimit-remaining-requests', '9999'), ('x-ratelimit-remaining-tokens', '29998964'), ('x-ratelimit-reset-requests', '6ms'), ('x-ratelimit-reset-tokens', '2ms'), ('x-request-id', 'req_67c426b3444220ef469a75f8a18ea6f1'), ('strict-transport-security', 'max-age=31536000; includeSubDomains; preload'), ('cf-cache-status', 'DYNAMIC'), ('set-cookie', '__cf_bm=hnGt0dX94nRCJPf4jv9d587p.Uo1woMrf9QlNUqYMEo-1747854768-1.0.1.1-y6J_CCGMcdlzA5fVyPG2r0NJ1FQhOSpo3iUMde76_RzTRvYIEcuTvY7wXx9zaX6q6ruVl8NWRG_6iP.kGGF.aOrzkjSf32CrplZGW7nYDHA; path=/; expires=Wed, 21-May-25 19:42:48 GMT; domain=.api.openai.com; HttpOnly; Secure; SameSite=None'), ('x-content-type-options', 'nosniff'), ('set-cookie', '_cfuvid=xdMFEXKNQ3iGudGnHS5yGAWWKEjDZ54pU0_WgxCbQ3M-1747854768970-0.0.1.1-604800000; path=/; domain=.api.openai.com; HttpOnly; Secure; SameSite=None'), ('server', 'cloudflare'), ('cf-ray', '9436630ecd6f27d2-SAN'), ('content-encoding', 'gzip'), ('alt-svc', 'h3=\":443\"; ma=86400')])\n",
      "DEBUG:openai._base_client:request_id: req_67c426b3444220ef469a75f8a18ea6f1\n",
      "INFO:src.mcq_generation:MCQ extracted successfully using the MCQ tags from the generated text.\n",
      "INFO:src.mcq_generation:Answer extracted successfully using the ANSWER tags from the generated text.\n",
      "ERROR:root:Error inserting metadata into 'mcq_metadata': table mcq_metadata has no column named invocation_id\n"
     ]
    }
   ],
   "source": [
    "questions = []\n",
    "for task in task_list:\n",
    "    question = generate_mcq(\n",
    "        invocation_id=invocation_id,\n",
    "        model=\"gpt-4o\",\n",
    "        task=task,\n",
    "        table_name=\"mcq_metadata\",\n",
    "        database_file='../database/mcq_metadata.db'\n",
    "    )\n",
    "    questions.append(question)\n"
   ]
  },
  {
   "cell_type": "code",
   "execution_count": 17,
   "metadata": {},
   "outputs": [
    {
     "data": {
      "text/plain": [
       "[{'system_prompt': '[ROLE]:\\nYou are an experienced college instructor. You are an expert in writing multiple-choice questions to assess students’ understanding of academic texts (e.g., chapters in textbooks, academic articles).\\n\\n[TASK]:\\nYour task is to write a factual multiple-choice question (see DEFINITION) based on a fact provided by the user. \\nThis fact will be directly supported by a \"source text\", which is an excerpt from the academic material. \\nA \"contextual text\" will also be provided to help you understand the broader meaning and useage of the source text. \\nFollow the guidelines in [GUIDELINES] to do exactly what you are instructed to do. \\n\\n[DEFINITION]\\n**What are factual questions?**\\nFactual questions are those that have a single, verifiable answer based on objective information, often requiring recall of specific facts or details. \\n\\n[GUIDELINES]\\nGenerate a multiple-choice factual question by completing the following steps in order:\\n\\nStep1: Based on the fact, source text, and contextual text, write a question that directly asks about the fact, avoiding unnecessary complexity. Keep the wording concise and straightforward to focus on the content.\\n  - Example (Good Question):\\n    \"What is the primary function of the amygdala?\"\\n  - Example (Poor Question - Too Vague):\\n    \"What does the amygdala do?\" (Too broad, unclear if asking about function, structure, or location.)\\nStep2: Provide a correct answer to the question based on the facts in the text. The correct answer should:\\n  - Be indisputably correct based on the text.\\n  - Try not to use words that are in the question.\\n  - Avoid using determinative words such as always, never, absolutely.\\n  - Avoid wording that could make multiple answers seem correct.\\nStep4: Provide three distractors based on the text. The distractors should:\\n  - Be plausible but incorrect based on the text.\\n  - Avoid obviously wrong or ridiculous choices.\\n  - Use common misconceptions or similar-sounding terms.\\n  - Be approximately the same number of words as the answer. \\n  - Be independent of the answer.\\n Step5: Shuffle the answer and distractors to create a list of four options (A, B, C, D).\\n Step6: Self-critique the question and answer choices to ensure clarity, accuracy, and relevance. \\n  - Ensure that the question is clear and unambiguous.\\n  - Ensure that the correct answer is clearly the best choice.\\n  - Ensure that the distractors are plausible and relevant.\\n  - Ensure that the answer choices are not too similar or too different in length or complexity.\\n\\nPrint out your reasoning BEFORE you print out the mutliple-choice factual question. \\n\\nIMPORTANT: \\n1) Wrap up the multiple-choice factual question within <QUESTION></QUESTION> tags. The stem SHOULD be included in the <QUESTION> tags. Example:\\n<QUESTION>What function did early exhibitors serve in the showcasing of movies in theaters?\\n  \\\\nA) They determined the arrangement of different elements in the film program.\\n  \\\\nB) They offered guidance to filmmakers regarding suitable movie content\\n  \\\\nC) They frequently participated in live performances.\\n  \\\\nD) They created and pre-recorded the content displayed in theaters.</QUESTION>\\n2) Wrap up the correct answer within <ANSWER></ANSWER> tags. The answer should contain the letter of the correct answer (A, B, C, or D) and the text of the correct answer. Example:\\n<ANSWER>D) hey created and pre-recorded the content displayed in theaters.</ANSWER>\\n',\n",
       "  'user_prompt': \"Here is a fact:\\n<fact>\\nSun exposure speeds up the body's production of vitamin D, which can prevent cancer and many other diseases.\\n</fact>\\n\\nHere is the source text for the fact:\\n<source_text>\\nResearch conducted by Johan Moan, a professor at the Cancer Center at Boston Medical Center, and his colleagues suggests that sun exposure increases the body's production of vitamin D, providing a defense against cancer. Their findings indicate that people living closer to the equator tend to survive cancer better due to higher vitamin D levels, and that cancer prognosis improves when diagnosed in summer or autumn. The research highlights the importance of vitamin D for preventing internal cancers. Northerners, with less sun exposure, should prioritize sunbathing or supplementing with cod-liver oil. Richard Setlow, a biophysicist, supports the idea that avoiding the sun could be more harmful than beneficial due to vitamin D's protective role.   \\n</source_text>\\n\\nHere is the contextual text for the source text:\\n<contextual_text>\\nMoan asserts that moderate sun exposure without sunscreen is beneficial since it equates to vitamin D obtained from cod-liver oil, emphasizing the use of tanning beds during winter months when natural sunlight is insufficient. He explains that UVA rays trigger melanomas, while UVB rays promote vitamin D production. Setlow suggests modifying sunscreens to reduce UVA blocking while allowing UVB exposure.\\n</contextual_text>\",\n",
       "  'model': 'gpt-4o',\n",
       "  'completion': 'Step1: Based on the fact, source text, and contextual text, write a question that directly asks about the fact.\\n- \"How does sun exposure affect the body\\'s production of vitamin D and its implications on health?\"\\n\\nStep2: Provide the correct answer to the question based on the facts in the text.\\n- \"It speeds up production of vitamin D, providing protection against cancer and diseases.\"\\n\\nStep4: Provide three distractors based on the text.\\n- \"It decreases vitamin D, reducing defense against diseases.\"\\n- \"It has no effect on vitamin D levels.\"\\n- \"It reduces the risk of skin damage due to UVA rays.\"\\n\\nStep5: Shuffle the answer and distractors to create a list of four options (A, B, C, D).\\n- A) It speeds up production of vitamin D, providing protection against cancer and diseases.\\n- B) It decreases vitamin D, reducing defense against diseases.\\n- C) It has no effect on vitamin D levels.\\n- D) It reduces the risk of skin damage due to UVA rays.\\n\\nStep6: Self-critique the question and answer choices to ensure clarity, accuracy, and relevance.\\n- The question asks specifically about the effect of sun exposure on vitamin D, which is the crux of the fact, ensuring it\\'s direct and clear.\\n- The correct answer is explicitly backed by the source text regarding vitamin D production and its health implications.\\n- The distractors are designed to be plausible but incorrect, as they either contradict the source text or offer irrelevant information about sun exposure\\'s effects.\\n\\n<QUESTION>How does sun exposure affect the body\\'s production of vitamin D and its implications on health?\\n  \\\\nA) It speeds up production of vitamin D, providing protection against cancer and diseases.\\n  \\\\nB) It decreases vitamin D, reducing defense against diseases.\\n  \\\\nC) It has no effect on vitamin D levels.\\n  \\\\nD) It reduces the risk of skin damage due to UVA rays.</QUESTION>\\n\\n<ANSWER>A) It speeds up production of vitamin D, providing protection against cancer and diseases.</ANSWER>',\n",
       "  'execution_time': '0:00:05.496915',\n",
       "  'input_tokens': 1015,\n",
       "  'output_tokens': 420,\n",
       "  'question_type': 'fact',\n",
       "  'invocation_id': '066e815d-86b2-4b27-860d-5bd9fa1aec6e',\n",
       "  'mcq': \"How does sun exposure affect the body's production of vitamin D and its implications on health?\\n  \\nA) It speeds up production of vitamin D, providing protection against cancer and diseases.\\n  \\nB) It decreases vitamin D, reducing defense against diseases.\\n  \\nC) It has no effect on vitamin D levels.\\n  \\nD) It reduces the risk of skin damage due to UVA rays.\",\n",
       "  'mcq_answer': 'A) It speeds up production of vitamin D, providing protection against cancer and diseases.',\n",
       "  'timestamp': '2025-05-21T12:12:35.009814'},\n",
       " {'system_prompt': '[ROLE]:\\nYou are an experienced college instructor. You are an expert in writing multiple-choice questions to assess students’ understanding of academic texts (e.g., chapters in textbooks, academic articles).\\n\\n[TASK]:\\nYour task is to write an inferential multiple-choice question (see DEFINITION) based on an inference provided by the user. \\nThis inference will be directly supported by a \"source text\", which is an excerpt from the academic material. \\nA \"contextual text\" will also be provided to help you understand the broader meaning and useage of the source text. \\nFollow the guidelines in [GUIDELINES] to do exactly what you are instructed to do. \\n\\n[DEFINITION]\\n**What are inferential questions?**\\nInferential questions require students to go beyond the explicit information in a text and draw conclusions based on evidence, reasoning, and prior knowledge. Unlike literal questions, which ask for directly stated facts, inferential questions challenge students to interpret, analyze, or predict based on textual clues.\\nFor example, \\nExcerpt:\\n\"Studies have shown that prolonged exposure to stress can negatively impact cognitive function, particularly memory and decision-making. This is because chronic stress leads to an overproduction of cortisol, a hormone that, in excessive amounts, has been linked to neural atrophy in the hippocampus, a brain region crucial for memory formation.\"\\nLiteral Question:\\n\"According to the passage, what is one effect of chronic stress on the brain?\"\\n(Answer: Neural atrophy in the hippocampus, affecting memory formation.)\\nInferential Question:\\n\"Based on the passage, why might individuals in high-stress professions experience difficulty making decisions?\"\\n(Reasoning and Answer: The passage states that chronic stress impairs cognitive functions like decision-making. Since high-stress professions expose individuals to prolonged stress, they may experience cognitive difficulties due to excessive cortisol affecting brain regions involved in these functions.)\\n\\n[GUIDELINES]\\nStep1: Summarize your understanding of what inferential questions are. \\nStep2: Provide a correct answer to the inferential question based on the inference, the source text, and the contextual text. The correct answer should:\\n  - Be indisputably correct based on the text.\\n  - Try not to use words that are in the question.\\n  - Avoid using determinative words such as always, never, absolutely.\\n  - Avoid wording that could make multiple answers seem correct.\\nStep4: Provide three plausible distractors based on the text. The distractors should:\\n  - Be plausible but incorrect based on the text.\\n  - Avoid obviously wrong or ridiculous choices.\\n  - Use common misconceptions or similar-sounding terms.\\n  - Be approximately the same number of words as the answer. \\n  - Be independent of the answer.\\nStep5: Shuffle the answer and distractors to create a list of four options (A, B, C, D).\\nStep6: Self-critique the question and answer choices to ensure clarity, accuracy, and relevance. \\n  - Ensure that the question is clear and unambiguous.\\n  - Ensure that the correct answer is clearly the best choice.\\n  - Ensure that the distractors are plausible and relevant.\\n  - Ensure that the answer choices are not too similar or too different in length or complexity.\\n\\nPrint out your reasoning BEFORE you print out the mutliple-choice inferential question. \\n\\nIMPORTANT: \\n1) Wrap up the multiple-choice inferential question within <QUESTION></QUESTION> tags. The stem SHOULD be included in the <QUESTION> tags. Example:\\n<QUESTION>Based on the passage, what is the likely cause of the decrease in energy at each succeeding trophic level in an ecosystem?\\n  \\\\nA) The inefficient capture and consumption of food by organisms\\n  \\\\nB) The availability of sunlight for photosynthesis\\n  \\\\nC) The decrease in the number of autotrophs\\n  \\\\nD) The high metabolic rate of consumers</QUESTION>\\n2) Wrap up the correct answer within <ANSWER></ANSWER> tags. The answer should contain the letter of the correct answer (A, B, C, or D) and the text of the correct answer. Example:\\n<ANSWER>A) The inefficient capture and consumption of food by organisms</ANSWER>\\n',\n",
       "  'user_prompt': \"Here is an inference:\\n<inference>\\nSunscreen formulas might need revision to allow UVB exposure while protecting from UVA to optimize health benefits from sun exposure.\\n</inference>\\n\\nHere is the source text for the inference:\\n<source_text>\\nResearch conducted by Johan Moan, a professor at the Cancer Center at Boston Medical Center, and his colleagues suggests that sun exposure increases the body's production of vitamin D, providing a defense against cancer. Their findings indicate that people living closer to the equator tend to survive cancer better due to higher vitamin D levels, and that cancer prognosis improves when diagnosed in summer or autumn. The research highlights the importance of vitamin D for preventing internal cancers. Northerners, with less sun exposure, should prioritize sunbathing or supplementing with cod-liver oil. Richard Setlow, a biophysicist, supports the idea that avoiding the sun could be more harmful than beneficial due to vitamin D's protective role.\\nMoan asserts that moderate sun exposure without sunscreen is beneficial since it equates to vitamin D obtained from cod-liver oil, emphasizing the use of tanning beds during winter months when natural sunlight is insufficient. He explains that UVA rays trigger melanomas, while UVB rays promote vitamin D production. Setlow suggests modifying sunscreens to reduce UVA blocking while allowing UVB exposure.   \\n</source_text>\\n\\nHere is the contextual text for the source text:\\n<contextual_text>\\n\\n</contextual_text>\\n\",\n",
       "  'model': 'gpt-4o',\n",
       "  'completion': \"**Step 1:** Inferential questions require students to draw conclusions and make interpretations based on implicit information, clues within the text, and their own reasoning or prior knowledge.\\n\\n**Step 2:** The correct answer should reflect that sunscreen formulas might need revision to allow for UVB exposure while still protecting against UVA, based on the source text's mention of UVB promoting vitamin D production and UVA triggering melanomas.\\n\\n**Step 3:** Provide plausible distractors that are incorrect but based on the context and source text.\\n\\n**Step 4:** Shuffle the options to ensure a fair and challenging question.\\n\\n**Step 5:** Self-critique to ensure clarity and accuracy. The question should clearly direct students to think about the balance between UVA protection and UVB exposure. The distractors are designed to reflect common misconceptions or related concepts without supporting full credit.\\n\\nHere is the resultant multiple-choice inferential question and answer:\\n\\n<QUESTION>Based on the findings discussed, why might sunscreen formulations need to be revised?\\n  \\\\nA) To allow for UVB exposure while still affording protection from UVA\\n  \\\\nB) To increase the absorption of both UVA and UVB for enhanced skin protection\\n  \\\\nC) To completely block all UV radiation to ensure maximum skin safety\\n  \\\\nD) To enable the skin to develop a natural resistance to sun exposure</QUESTION>\\n\\n<ANSWER>A) To allow for UVB exposure while still affording protection from UVA</ANSWER>\\n\\n**Self-critique:**\\n- The question is clearly related to sunscreen revision based on the source text's information about UVA and UVB.\\n- Option A is the correct answer as it aligns with the text's suggestions made by Moan and Setlow.\\n- Distractors B, C, and D are plausible since they touch on potential misunderstandings about UV protection, making the question challenging but fair.\\n- The distractors are designed to be approximately the same complexity to avoid giving away the correct answer through obvious contrasts in length or detail.\",\n",
       "  'execution_time': '0:00:08.283802',\n",
       "  'input_tokens': 1143,\n",
       "  'output_tokens': 404,\n",
       "  'question_type': 'inference',\n",
       "  'invocation_id': '066e815d-86b2-4b27-860d-5bd9fa1aec6e',\n",
       "  'mcq': 'Based on the findings discussed, why might sunscreen formulations need to be revised?\\n  \\nA) To allow for UVB exposure while still affording protection from UVA\\n  \\nB) To increase the absorption of both UVA and UVB for enhanced skin protection\\n  \\nC) To completely block all UV radiation to ensure maximum skin safety\\n  \\nD) To enable the skin to develop a natural resistance to sun exposure',\n",
       "  'mcq_answer': 'A) To allow for UVB exposure while still affording protection from UVA',\n",
       "  'timestamp': '2025-05-21T12:12:43.300754'},\n",
       " {'system_prompt': '[ROLE]:\\nYou are an experienced college instructor. You are an expert in writing multiple-choice questions to assess students’ understanding of academic texts (e.g., chapters in textbooks, academic articles).\\n\\n[TASK]:\\nYou are asked to write a main idea multiple-choice question based on an academic text summary provided by the user. \\nFollow the guidelines in [GUIDELINES] to do exactly what you are instructed to do. \\n\\n[DEFINITION]\\n**What are main idea questions?**\\nMain idea questions assess a student\\'s ability to identify the central point or primary argument of a text, passage, or section.\\nInstead of focusing on specific details, examples, or minor points, these questions target the big picture — what the author is fundamentally trying to convey.\\n\\n[GUIDELINES]\\nStep1: Carefully read the TEXT to understand its main idea.  \\nStep2: Write a clear question stem. Typical stems include:\\n  - \"Which of the following best expresses the main idea of the passage?\"\\n  - \"What is the primary purpose of the text?\"\\n  - \"What is the central argument of the article?\"\\nStep3: Create the correct answer option. \\n  - It should accurately reflect the main idea.\\n  - It should be broad enough to cover the whole passage but specific enough to show real understanding.\\n  - It should use words that are in the question sparingly.\\nStep4: Write three plausible distractors. Good distractors often:\\n  - Reflect common misconceptions or misinterpretations of the text.\\n  - Sound reasonable to a student who only skimmed or misunderstood the text.\\n  - Reflect minor details from the text.\\n  - Be similar in length and complexity to the correct answer.\\nStep5: Shuffle the answer and distractors to create a list of four options (A, B, C, D).\\nStep6: Self-critique the question and answer choices to ensure clarity, accuracy, and relevance. \\n  - Ensure that the question is clear and unambiguous.\\n  - Ensure that the correct answer is clearly the best choice.\\n  - Ensure that the distractors are plausible and relevant.\\n  - Ensure that the answer choices are not too similar or too different in length or complexity.\\n\\nPrint out your reasoning BEFORE you print out the mutliple-choice main idea question. \\n\\nIMPORTANT: \\n1) Wrap up the multiple-choice main idea question within <QUESTION></QUESTION> tags. The stem SHOULD be included in the <QUESTION> tags. Example:\\n<QUESTION>What is the main idea of the passage?\\n  \\\\nA) Remote work has recently become more common because of its benefits to companies.\\n  \\\\nB) Remote work is better than working in an office.\\n  \\\\nC) Most companies now require employees to work remotely.\\n  \\\\nD) Remote work only benefits employees, not companies.</QUESTION>\\n2) Wrap up the correct answer within <ANSWER></ANSWER> tags. The answer should contain the letter of the correct answer (A, B, C, or D) and the text of the correct answer. Example:\\n<ANSWER>A) Remote work has recently become more common because of its benefits to companies.</ANSWER>\\n',\n",
       "  'user_prompt': \"<text>\\nResearch conducted by Johan Moan, a professor at the Cancer Center at Boston Medical Center, and his colleagues suggests that sun exposure increases the body's production of vitamin D, providing a defense against cancer. Their findings indicate that people living closer to the equator tend to survive cancer better due to higher vitamin D levels, and that cancer prognosis improves when diagnosed in summer or autumn. The research highlights the importance of vitamin D for preventing internal cancers. Northerners, with less sun exposure, should prioritize sunbathing or supplementing with cod-liver oil. Richard Setlow, a biophysicist, supports the idea that avoiding the sun could be more harmful than beneficial due to vitamin D's protective role.Moan asserts that moderate sun exposure without sunscreen is beneficial since it equates to vitamin D obtained from cod-liver oil, emphasizing the use of tanning beds during winter months when natural sunlight is insufficient. He explains that UVA rays trigger melanomas, while UVB rays promote vitamin D production. Setlow suggests modifying sunscreens to reduce UVA blocking while allowing UVB exposure.\\n</text>\",\n",
       "  'model': 'gpt-4o',\n",
       "  'completion': 'Reasoning:\\n1. The text centers on the research conducted by Johan Moan and colleagues, which examines the relationship between sun exposure, vitamin D production, and the prevention of cancer. \\n2. The authors suggest that increased sunlight, enhancing vitamin D levels, provides a defense against cancer, with sun exposure proving particularly beneficial for people living closer to the equator.\\n3. The text argues the importance of vitamin D in preventing internal cancers, noting that certain recommendations are given for those with limited sun exposure like sunbathing or cod-liver oil supplementation.\\n4. The discussion on UVA and UVB radiation highlights the suggestion to adjust sunscreen formulation to allow UVB exposure for vitamin D production while maintaining protection from harmful UVA rays.\\n\\n<QUESTION>Which of the following best expresses the main idea of the passage?\\n  \\\\nA) Increasing sun exposure can improve cancer prognosis by boosting vitamin D levels, which has protective effects against internal cancers.\\n  \\\\nB) Sunscreens should be modified to allow UVB rays for vitamin D production while protecting against UVA rays.\\n  \\\\nC) Individuals living closer to the equator have a lower risk of cancer due to increased vitamin D.\\n  \\\\nD) Sunbathing or cod-liver oil supplementation is necessary for adequate vitamin D intake in northerners.</QUESTION>\\n<ANSWER>A) Increasing sun exposure can improve cancer prognosis by boosting vitamin D levels, which has protective effects against internal cancers.</ANSWER>',\n",
       "  'execution_time': '0:00:05.707931',\n",
       "  'input_tokens': 858,\n",
       "  'output_tokens': 291,\n",
       "  'question_type': 'main_idea',\n",
       "  'invocation_id': '066e815d-86b2-4b27-860d-5bd9fa1aec6e',\n",
       "  'mcq': 'Which of the following best expresses the main idea of the passage?\\n  \\nA) Increasing sun exposure can improve cancer prognosis by boosting vitamin D levels, which has protective effects against internal cancers.\\n  \\nB) Sunscreens should be modified to allow UVB rays for vitamin D production while protecting against UVA rays.\\n  \\nC) Individuals living closer to the equator have a lower risk of cancer due to increased vitamin D.\\n  \\nD) Sunbathing or cod-liver oil supplementation is necessary for adequate vitamin D intake in northerners.',\n",
       "  'mcq_answer': 'A) Increasing sun exposure can improve cancer prognosis by boosting vitamin D levels, which has protective effects against internal cancers.',\n",
       "  'timestamp': '2025-05-21T12:12:49.015145'}]"
      ]
     },
     "execution_count": 17,
     "metadata": {},
     "output_type": "execute_result"
    }
   ],
   "source": [
    "questions"
   ]
  },
  {
   "cell_type": "code",
   "execution_count": null,
   "metadata": {},
   "outputs": [],
   "source": []
  }
 ],
 "metadata": {
  "kernelspec": {
   "display_name": ".venv",
   "language": "python",
   "name": "python3"
  },
  "language_info": {
   "codemirror_mode": {
    "name": "ipython",
    "version": 3
   },
   "file_extension": ".py",
   "mimetype": "text/x-python",
   "name": "python",
   "nbconvert_exporter": "python",
   "pygments_lexer": "ipython3",
   "version": "3.10.3"
  }
 },
 "nbformat": 4,
 "nbformat_minor": 2
}
