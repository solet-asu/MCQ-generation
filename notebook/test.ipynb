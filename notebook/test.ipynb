{
 "cells": [
  {
   "cell_type": "code",
   "execution_count": 1,
   "metadata": {},
   "outputs": [],
   "source": [
    "from src.mcq_generation import *"
   ]
  },
  {
   "cell_type": "code",
   "execution_count": 11,
   "metadata": {},
   "outputs": [],
   "source": [
    "table_name = 'mcq_metadata'\n",
    "database_file = \"../database/mcq_metadata.db\""
   ]
  },
  {
   "cell_type": "code",
   "execution_count": 4,
   "metadata": {},
   "outputs": [
    {
     "data": {
      "text/plain": [
       "True"
      ]
     },
     "execution_count": 4,
     "metadata": {},
     "output_type": "execute_result"
    }
   ],
   "source": [
    "table_exists(table_name, database_file)"
   ]
  },
  {
   "cell_type": "code",
   "execution_count": 4,
   "metadata": {},
   "outputs": [],
   "source": [
    "from src.database_query import *"
   ]
  },
  {
   "cell_type": "code",
   "execution_count": 5,
   "metadata": {},
   "outputs": [
    {
     "name": "stdout",
     "output_type": "stream",
     "text": [
      "Exported 7 rows to ../output\\20250414_mcq_metadata.csv\n"
     ]
    }
   ],
   "source": [
    "export_table_to_csv(\"mcq_metadata\", \"20250414_mcq_metadata.csv\")"
   ]
  },
  {
   "cell_type": "code",
   "execution_count": 5,
   "metadata": {},
   "outputs": [],
   "source": [
    "# Example usage of the function\n",
    "extraction_list = get_extraction_values()"
   ]
  },
  {
   "cell_type": "code",
   "execution_count": 6,
   "metadata": {},
   "outputs": [
    {
     "data": {
      "text/plain": [
       "['What is the likely outcome when organisms fail to capture and consume all available food at a trophic level, as mentioned in the text?\\nA) Populations at higher trophic levels increase rapidly.\\nB) Energy transfer from one trophic level to the next is more efficient.\\nC) The total energy available to organisms decreases at each successive trophic level.\\nD) Ecologists find it challenging to construct ecological pyramids accurately.',\n",
       " 'A) Decrease in biodiversity\\nB) Increase in energy transfer efficiency\\nC) Higher population sizes at higher trophic levels\\nD) Release of energy as heat into the environment',\n",
       " 'Based on the provided text, why do organisms fail to capture and eat all the food available at the trophic level below them in an ecosystem?\\nA) Lack of appetite\\nB) Inefficiency in digestion\\nC) Overpopulation at lower trophic levels\\nD) Excessive energy consumption\\nE) Environmental changes affecting food availability']"
      ]
     },
     "execution_count": 6,
     "metadata": {},
     "output_type": "execute_result"
    }
   ],
   "source": [
    "extraction_list"
   ]
  },
  {
   "cell_type": "code",
   "execution_count": 1,
   "metadata": {},
   "outputs": [],
   "source": [
    "from src.mcq_generation import generate_mcq\n",
    "from src.general import *"
   ]
  },
  {
   "cell_type": "code",
   "execution_count": 2,
   "metadata": {},
   "outputs": [],
   "source": [
    "# get all the files in data folder\n",
    "files_to_process =  get_files_in_directory(\"../data/\")\n",
    "text = read_text_file(files_to_process[0])"
   ]
  },
  {
   "cell_type": "code",
   "execution_count": 3,
   "metadata": {},
   "outputs": [
    {
     "data": {
      "text/plain": [
       "'Energy and trophic levels: Ecological pyramids How can you show how energy is used in an ecosystem? Ecologists use food chains and food webs to model the distribution of matter and energy within an ecosystem. They also use another kind of model, called an ecological pyramid. An ecological pyramid shows how energy flows through an ecosystem. The base of the ecological pyramid represents the autotrophs, or first trophic level. Higher trophic levels are layered on top of one another. The initial source of energy for all ecological pyramids is energy from the sun. Energy decreases at each succeeding trophic level. The total energy transfer from one trophic level to the next is only about ten percent because organisms fail to capture and eat all the food available at the trophic level below them. When an organism consumes food, it uses some of the energy in the food for metabolism, some for building body tissues, and some is given off as waste. When the organism is eaten, the energy that was used to build body tissue is available as energy to be used by the organism that consumed it. The energy lost at each successive trophic level enters the environment as heat. Ecologists construct a pyramid of numbers based on the population sizes of organisms in each trophic level. Sometimes population sizes decrease at each higher trophic level. This is not always true. For example, one tree can be food for 50,000 insects. In this case, the pyramid would be inverted. A pyramid of biomass expresses the weight of living material at each trophic level. Ecologists calculate the biomass at each trophic level by finding the average weight of each species at that trophic level and multiplying by the estimated number of organisms in each population.'"
      ]
     },
     "execution_count": 3,
     "metadata": {},
     "output_type": "execute_result"
    }
   ],
   "source": [
    "text"
   ]
  },
  {
   "cell_type": "code",
   "execution_count": 5,
   "metadata": {},
   "outputs": [],
   "source": [
    "table_name = 'mcq_metadata'\n",
    "database_file = \"../database/mcq_metadata.db\""
   ]
  },
  {
   "cell_type": "code",
   "execution_count": 6,
   "metadata": {},
   "outputs": [
    {
     "data": {
      "text/plain": [
       "{'system_prompt': '[ROLE]:\\nYou are an experienced college instructor. You are an expert in writing multiple-choice questions to assess students’ understanding of academic texts (e.g., chapters in textbooks, academic articles).\\n\\n[TASK]:\\nYou are asked to write an inferential multiple-choice question based on an academic text provided by the user. \\nFollow the guidelines in [GUIDELINES] to do exactly what you are instructed to do. \\n\\n[DEFINITION]\\n**What are inferential questions?**\\nInferential questions require students to go beyond the explicit information in a text and draw conclusions based on evidence, reasoning, and prior knowledge. Unlike literal questions, which ask for directly stated facts, inferential questions challenge students to interpret, analyze, or predict based on textual clues.\\nFor example, \\nExcerpt:\\n\"Studies have shown that prolonged exposure to stress can negatively impact cognitive function, particularly memory and decision-making. This is because chronic stress leads to an overproduction of cortisol, a hormone that, in excessive amounts, has been linked to neural atrophy in the hippocampus, a brain region crucial for memory formation.\"\\nLiteral Question:\\n\"According to the passage, what is one effect of chronic stress on the brain?\"\\n(Answer: Neural atrophy in the hippocampus, affecting memory formation.)\\nInferential Question:\\n\"Based on the passage, why might individuals in high-stress professions experience difficulty making decisions?\"\\n(Reasoning and Answer: The passage states that chronic stress impairs cognitive functions like decision-making. Since high-stress professions expose individuals to prolonged stress, they may experience cognitive difficulties due to excessive cortisol affecting brain regions involved in these functions.)\\n\\n[GUIDELINES]\\nStep1: Summarize your understanding of what inferential questions are. \\nStep2: Identify a key inference based on the TEXT and write an inferential question following the principles below: \\n  - Make the inference clear, objective, and unambiguous.\\n  - Keep the wording concise.\\n  - Try to avoid negative constructions (e.g., words like “not” or “except”).\\n  - Ensure the inference requires understanding of multiple sentences in the TEXT.\\nStep3: Provide a correct answer to the inferential question based on the TEXT. The correct answer should:\\n  - Be indisputably correct based on the TEXT.\\n  - Try not to use words that are in the question.\\n  - Avoid using determinative words such as always, never, absolutely.\\n  - Avoid wording that could make multiple answers seem correct.\\nStep4: Provide three plausible distractors based on the TEXT. The distractors should:\\n  - Be plausible but incorrect based on the TEXT.\\n  - Avoid obviously wrong or ridiculous choices.\\n  - Use common misconceptions or similar-sounding terms.\\n  - Be approximately the same number of words as the answer. \\n  - Be independent of the answer.\\n Step5: Shuffle the answer and distractors to create a list of four options (A, B, C, D).\\n\\nPrint out your reasoning BEFORE you print out the mutliple-choice inferential question. \\n\\nIMPORTANT: \\n1) Wrap up the multiple-choice inferential question within <QUESTION></QUESTION> tags. The stem SHOULD be included in the <QUESTION> tags. Example:\\n<QUESTION>Based on the passage, what is the likely cause of the decrease in energy at each succeeding trophic level in an ecosystem?\\n  \\\\nA) The inefficient capture and consumption of food by organisms\\n  \\\\nB) The availability of sunlight for photosynthesis\\n  \\\\nC) The decrease in the number of autotrophs\\n  \\\\nD) The high metabolic rate of consumers</QUESTION>\\n2) Wrap up the correct answer within <ANSWER></ANSWER> tags. The answer should contain the letter of the correct answer (A, B, C, or D) and the text of the correct answer. Example:\\n<ANSWER>A) The inefficient capture and consumption of food by organisms</ANSWER>\\n',\n",
       " 'user_prompt': '<text>\\nEnergy and trophic levels: Ecological pyramids How can you show how energy is used in an ecosystem? Ecologists use food chains and food webs to model the distribution of matter and energy within an ecosystem. They also use another kind of model, called an ecological pyramid. An ecological pyramid shows how energy flows through an ecosystem. The base of the ecological pyramid represents the autotrophs, or first trophic level. Higher trophic levels are layered on top of one another. The initial source of energy for all ecological pyramids is energy from the sun. Energy decreases at each succeeding trophic level. The total energy transfer from one trophic level to the next is only about ten percent because organisms fail to capture and eat all the food available at the trophic level below them. When an organism consumes food, it uses some of the energy in the food for metabolism, some for building body tissues, and some is given off as waste. When the organism is eaten, the energy that was used to build body tissue is available as energy to be used by the organism that consumed it. The energy lost at each successive trophic level enters the environment as heat. Ecologists construct a pyramid of numbers based on the population sizes of organisms in each trophic level. Sometimes population sizes decrease at each higher trophic level. This is not always true. For example, one tree can be food for 50,000 insects. In this case, the pyramid would be inverted. A pyramid of biomass expresses the weight of living material at each trophic level. Ecologists calculate the biomass at each trophic level by finding the average weight of each species at that trophic level and multiplying by the estimated number of organisms in each population.\\n</text>\\n',\n",
       " 'model': 'gpt-4o',\n",
       " 'completion': '**Step 1: Summarize your understanding of what inferential questions are.**\\n\\nInferential questions require students to draw conclusions or make interpretations based on evidence and reasoning provided in the text, rather than relying solely on explicitly stated information. These questions challenge students to connect various pieces of information and understand underlying concepts.\\n\\n**Step 2: Identify a key inference based on the TEXT and write an inferential question.**\\n\\nBased on the TEXT, it can be inferred that ecological pyramids may vary in their structure depending on specific conditions like the type of organisms present and their biomass. The TEXT mentions that ecological pyramids can be inverted in some cases, such as when one tree feeds a large number of insects, impacting the representation of energy flow or biomass at different trophic levels. \\n\\nInferential Question:\\n<QUESTION>Based on the passage, how can the structure of an ecological pyramid become inverted?\\n  \\\\nA) When there are fewer autotrophs compared to consumer organisms\\n  \\\\nB) When a single organism supports a large number of consumers\\n  \\\\nC) When energy is transferred entirely as heat\\n  \\\\nD) When organisms do not capture all available food</QUESTION>\\n\\n**Step 3: Provide a correct answer to the inferential question based on the TEXT.**\\n\\n<ANSWER>B) When a single organism supports a large number of consumers</ANSWER>\\n\\n**Step 4: Provide three plausible distractors based on the TEXT.**\\n\\n- A) When there are fewer autotrophs compared to consumer organisms\\n- C) When energy is transferred entirely as heat\\n- D) When organisms do not capture all available food\\n\\n**Step 5: Shuffle the answer and distractors to create a list of four options (A, B, C, D).**\\n\\n<QUESTION>Based on the passage, how can the structure of an ecological pyramid become inverted?\\n  \\\\nA) When a single organism supports a large number of consumers\\n  \\\\nB) When energy is transferred entirely as heat\\n  \\\\nC) When there are fewer autotrophs compared to consumer organisms\\n  \\\\nD) When organisms do not capture all available food</QUESTION>\\n\\n<ANSWER>A) When a single organism supports a large number of consumers</ANSWER>',\n",
       " 'execution_time': '0:00:17.548046',\n",
       " 'input_tokens': 1144,\n",
       " 'output_tokens': 459,\n",
       " 'question_type': 'inference',\n",
       " 'mcq': 'Based on the passage, how can the structure of an ecological pyramid become inverted?\\n  \\nA) When there are fewer autotrophs compared to consumer organisms\\n  \\nB) When a single organism supports a large number of consumers\\n  \\nC) When energy is transferred entirely as heat\\n  \\nD) When organisms do not capture all available food',\n",
       " 'mcq_answer': 'B) When a single organism supports a large number of consumers'}"
      ]
     },
     "execution_count": 6,
     "metadata": {},
     "output_type": "execute_result"
    }
   ],
   "source": [
    "generate_mcq(text, question_type=\"inference\", table_name=table_name, database_file=database_file)"
   ]
  },
  {
   "cell_type": "code",
   "execution_count": 5,
   "metadata": {},
   "outputs": [],
   "source": [
    "from src.prompt_fetch import *\n",
    "from src.agent import Agent\n",
    "from src.general import *"
   ]
  },
  {
   "cell_type": "code",
   "execution_count": 6,
   "metadata": {},
   "outputs": [],
   "source": [
    "# get all the files in data folder\n",
    "files_to_process =  get_files_in_directory(\"../data/\")\n"
   ]
  },
  {
   "cell_type": "code",
   "execution_count": 7,
   "metadata": {},
   "outputs": [
    {
     "data": {
      "text/plain": [
       "['../data/text1.txt']"
      ]
     },
     "execution_count": 7,
     "metadata": {},
     "output_type": "execute_result"
    }
   ],
   "source": [
    "files_to_process"
   ]
  },
  {
   "cell_type": "code",
   "execution_count": 9,
   "metadata": {},
   "outputs": [],
   "source": [
    "# get prompts \n",
    "prompts = get_prompts(\"inference_prompts.yaml\")"
   ]
  },
  {
   "cell_type": "code",
   "execution_count": 10,
   "metadata": {},
   "outputs": [
    {
     "data": {
      "text/plain": [
       "{'system_prompt': '[ROLE]:\\nYou are an experienced college instructor. You are an expert in writing multiple-choice questions to assess students’ understanding of academic texts (e.g., chapters in textbooks, academic articles).\\n\\n[TASK]:\\nYou are asked to write an inferential multiple-choice question based on an academic text provided by the user. \\nFollow the guidelines in [GUIDELINES] to do exactly what you are instructed to do. \\n\\n[DEFINITION]\\n**What are inferential questions?**\\nInferential questions require students to go beyond the explicit information in a text and draw conclusions based on evidence, reasoning, and prior knowledge. Unlike literal questions, which ask for directly stated facts, inferential questions challenge students to interpret, analyze, or predict based on textual clues.\\nFor example, \\nExcerpt:\\n\"Studies have shown that prolonged exposure to stress can negatively impact cognitive function, particularly memory and decision-making. This is because chronic stress leads to an overproduction of cortisol, a hormone that, in excessive amounts, has been linked to neural atrophy in the hippocampus, a brain region crucial for memory formation.\"\\nLiteral Question:\\n\"According to the passage, what is one effect of chronic stress on the brain?\"\\n(Answer: Neural atrophy in the hippocampus, affecting memory formation.)\\nInferential Question:\\n\"Based on the passage, why might individuals in high-stress professions experience difficulty making decisions?\"\\n(Answer: The passage states that chronic stress impairs cognitive functions like decision-making. Since high-stress professions expose individuals to prolonged stress, they may experience cognitive difficulties due to excessive cortisol affecting brain regions involved in these functions.)\\n\\n**What is cause-and-effect inference?**\\nDefinition: Identifying unstated causes or effects based on textual evidence.\\nExample Question: What is the likely cause of X, given the author’s argument?\\nExample Application:\\nText: Prolonged exposure to air pollution has been linked to cognitive decline in older adults.\\nInference: Long-term air pollution exposure may impair brain function.\\n\\n[GUIDELINES]\\nStep1: Summarize your understanding of what inferential questions are and what is cause-and-effect inference. \\nStep 2: Based on your understanding of what inferential questions are, generate one mutliple-choice inferential question based on the text provided by the user. This questions should be cause-and-effect inference.  \\nPrint out your reasoning BEFORE you print out the mutliple-choice inferential question. \\nwrap up the multiple-choice inferential question within <MCQ></MCQ> tags.\\n',\n",
       " 'user_prompt': '<text>\\n{text}\\n</text>\\n'}"
      ]
     },
     "execution_count": 10,
     "metadata": {},
     "output_type": "execute_result"
    }
   ],
   "source": [
    "prompts"
   ]
  },
  {
   "cell_type": "code",
   "execution_count": 11,
   "metadata": {},
   "outputs": [],
   "source": [
    "text = read_text_file(files_to_process[0])"
   ]
  },
  {
   "cell_type": "code",
   "execution_count": 12,
   "metadata": {},
   "outputs": [
    {
     "data": {
      "text/plain": [
       "'Energy and trophic levels: Ecological pyramids How can you show how energy is used in an ecosystem? Ecologists use food chains and food webs to model the distribution of matter and energy within an ecosystem. They also use another kind of model, called an ecological pyramid. An ecological pyramid shows how energy flows through an ecosystem. The base of the ecological pyramid represents the autotrophs, or first trophic level. Higher trophic levels are layered on top of one another. The initial source of energy for all ecological pyramids is energy from the sun. Energy decreases at each succeeding trophic level. The total energy transfer from one trophic level to the next is only about ten percent because organisms fail to capture and eat all the food available at the trophic level below them. When an organism consumes food, it uses some of the energy in the food for metabolism, some for building body tissues, and some is given off as waste. When the organism is eaten, the energy that was used to build body tissue is available as energy to be used by the organism that consumed it. The energy lost at each successive trophic level enters the environment as heat. Ecologists construct a pyramid of numbers based on the population sizes of organisms in each trophic level. Sometimes population sizes decrease at each higher trophic level. This is not always true. For example, one tree can be food for 50,000 insects. In this case, the pyramid would be inverted. A pyramid of biomass expresses the weight of living material at each trophic level. Ecologists calculate the biomass at each trophic level by finding the average weight of each species at that trophic level and multiplying by the estimated number of organisms in each population.'"
      ]
     },
     "execution_count": 12,
     "metadata": {},
     "output_type": "execute_result"
    }
   ],
   "source": [
    "text"
   ]
  },
  {
   "cell_type": "code",
   "execution_count": 14,
   "metadata": {},
   "outputs": [],
   "source": [
    "model = \"gpt-3.5-turbo\"\n",
    "system_prompt = prompts[\"system_prompt\"]\n",
    "user_prompt = prompts[\"user_prompt\"].format(text=text)"
   ]
  },
  {
   "cell_type": "code",
   "execution_count": 15,
   "metadata": {},
   "outputs": [],
   "source": [
    "test_agent = Agent(model=model, system_prompt=system_prompt, user_prompt=user_prompt)"
   ]
  },
  {
   "cell_type": "code",
   "execution_count": 16,
   "metadata": {},
   "outputs": [
    {
     "data": {
      "text/plain": [
       "'**Inferential Multiple-Choice Question:** \\nWhat is the likely effect of organisms failing to capture and eat all the food available at a trophic level, as described in the text?\\n\\nA) It leads to an increase in biomass at higher trophic levels.\\nB) It results in a decrease in population sizes at higher trophic levels.\\nC) It causes a surplus of available energy at lower trophic levels.\\nD) It contributes to a redistribution of energy as heat into the environment.\\n\\nAnswer: D) It contributes to a redistribution of energy as heat into the environment.'"
      ]
     },
     "execution_count": 16,
     "metadata": {},
     "output_type": "execute_result"
    }
   ],
   "source": [
    "test_agent.completion_generation()"
   ]
  },
  {
   "cell_type": "code",
   "execution_count": 13,
   "metadata": {},
   "outputs": [
    {
     "data": {
      "text/plain": [
       "{'task': None,\n",
       " 'system_prompt': '[ROLE]:\\nYou are an experienced college instructor. You are an expert in writing multiple-choice questions to assess students’ understanding of academic texts (e.g., chapters in textbooks, academic articles).\\n\\n[TASK]:\\nYou are asked to write an inferential multiple-choice question based on an academic text provided by the user. \\nFollow the guidelines in [GUIDELINES] to do exactly what you are instructed to do. \\n\\n[DEFINITION]\\n**What are inferential questions?**\\nInferential questions require students to go beyond the explicit information in a text and draw conclusions based on evidence, reasoning, and prior knowledge. Unlike literal questions, which ask for directly stated facts, inferential questions challenge students to interpret, analyze, or predict based on textual clues.\\nFor example, \\nExcerpt:\\n\"Studies have shown that prolonged exposure to stress can negatively impact cognitive function, particularly memory and decision-making. This is because chronic stress leads to an overproduction of cortisol, a hormone that, in excessive amounts, has been linked to neural atrophy in the hippocampus, a brain region crucial for memory formation.\"\\nLiteral Question:\\n\"According to the passage, what is one effect of chronic stress on the brain?\"\\n(Answer: Neural atrophy in the hippocampus, affecting memory formation.)\\nInferential Question:\\n\"Based on the passage, why might individuals in high-stress professions experience difficulty making decisions?\"\\n(Answer: The passage states that chronic stress impairs cognitive functions like decision-making. Since high-stress professions expose individuals to prolonged stress, they may experience cognitive difficulties due to excessive cortisol affecting brain regions involved in these functions.)\\n\\n**What is cause-and-effect inference?**\\nDefinition: Identifying unstated causes or effects based on textual evidence.\\nExample Question: What is the likely cause of X, given the author’s argument?\\nExample Application:\\nText: Prolonged exposure to air pollution has been linked to cognitive decline in older adults.\\nInference: Long-term air pollution exposure may impair brain function.\\n\\n[GUIDELINES]\\nStep1: Summarize your understanding of what inferential questions are and what is cause-and-effect inference. \\nStep 2: Based on your understanding of what inferential questions are, generate one mutliple-choice inferential question based on the text provided by the user. This questions should be cause-and-effect inference.  \\nPrint out your reasoning BEFORE you print out the mutliple-choice inferential question. \\nwrap up the multiple-choice inferential question within <MCQ></MCQ> tags.\\n',\n",
       " 'user_prompt': '<text>\\nEnergy and trophic levels: Ecological pyramids How can you show how energy is used in an ecosystem? Ecologists use food chains and food webs to model the distribution of matter and energy within an ecosystem. They also use another kind of model, called an ecological pyramid. An ecological pyramid shows how energy flows through an ecosystem. The base of the ecological pyramid represents the autotrophs, or first trophic level. Higher trophic levels are layered on top of one another. The initial source of energy for all ecological pyramids is energy from the sun. Energy decreases at each succeeding trophic level. The total energy transfer from one trophic level to the next is only about ten percent because organisms fail to capture and eat all the food available at the trophic level below them. When an organism consumes food, it uses some of the energy in the food for metabolism, some for building body tissues, and some is given off as waste. When the organism is eaten, the energy that was used to build body tissue is available as energy to be used by the organism that consumed it. The energy lost at each successive trophic level enters the environment as heat. Ecologists construct a pyramid of numbers based on the population sizes of organisms in each trophic level. Sometimes population sizes decrease at each higher trophic level. This is not always true. For example, one tree can be food for 50,000 insects. In this case, the pyramid would be inverted. A pyramid of biomass expresses the weight of living material at each trophic level. Ecologists calculate the biomass at each trophic level by finding the average weight of each species at that trophic level and multiplying by the estimated number of organisms in each population.\\n</text>\\n',\n",
       " 'model': 'gpt-3.5-turbo',\n",
       " 'completion': '**Understanding of inferential questions and cause-and-effect inference:**\\n\\nInferential questions require students to make conclusions based on evidence from the text that is not explicitly stated. Specifically, cause-and-effect inference questions prompt students to identify unstated causes or effects based on textual evidence provided in the passage. For instance, students need to infer the relationship between different elements in the text to deduce the causes or effects presented indirectly.\\n\\n**Multiple-choice inferential question:**\\n\\n<MCQ>\\nBased on the information in the text, what is the likely reason for the decrease in energy at each succeeding trophic level in the ecosystem model?\\n\\nA) Organisms become more efficient at capturing and consuming food at higher trophic levels.\\nB) Autotrophs transfer less energy to higher trophic levels due to competition for resources.\\nC) Organisms at higher trophic levels use more energy for metabolism and building body tissues.\\nD) Herbivores at the lower trophic levels consume too much energy, leaving insufficient for higher trophic levels.\\nE) Energy from the sun is absorbed faster at lower trophic levels, leading to reduced availability at higher levels.\\n\\nCorrect Answer: C) Organisms at higher trophic levels use more energy for metabolism and building body tissues.\\n</MCQ>',\n",
       " 'extraction': 'Based on the information in the text, what is the likely reason for the decrease in energy at each succeeding trophic level in the ecosystem model?\\n\\nA) Organisms become more efficient at capturing and consuming food at higher trophic levels.\\nB) Autotrophs transfer less energy to higher trophic levels due to competition for resources.\\nC) Organisms at higher trophic levels use more energy for metabolism and building body tissues.\\nD) Herbivores at the lower trophic levels consume too much energy, leaving insufficient for higher trophic levels.\\nE) Energy from the sun is absorbed faster at lower trophic levels, leading to reduced availability at higher levels.\\n\\nCorrect Answer: C) Organisms at higher trophic levels use more energy for metabolism and building body tissues.',\n",
       " 'execution_time': '0:00:06.878721',\n",
       " 'input_tokens': 873,\n",
       " 'output_tokens': 263}"
      ]
     },
     "execution_count": 13,
     "metadata": {},
     "output_type": "execute_result"
    }
   ],
   "source": [
    "test_agent.get_metadata()"
   ]
  },
  {
   "cell_type": "code",
   "execution_count": 1,
   "metadata": {},
   "outputs": [
    {
     "data": {
      "text/plain": [
       "75685.90350047304"
      ]
     },
     "execution_count": 1,
     "metadata": {},
     "output_type": "execute_result"
    }
   ],
   "source": [
    "80000000/1057"
   ]
  },
  {
   "cell_type": "code",
   "execution_count": 1,
   "metadata": {},
   "outputs": [
    {
     "name": "stdout",
     "output_type": "stream",
     "text": [
      "en_core_web_sm is already installed.\n"
     ]
    }
   ],
   "source": [
    "from src.text_processing import *"
   ]
  },
  {
   "cell_type": "code",
   "execution_count": 5,
   "metadata": {},
   "outputs": [],
   "source": [
    "from src.general import *\n",
    "\n",
    "# get all the files in data folder\n",
    "files_to_process =  get_files_in_directory(\"../data/\")\n",
    "text = read_text_file(files_to_process[1])"
   ]
  },
  {
   "cell_type": "code",
   "execution_count": 6,
   "metadata": {},
   "outputs": [
    {
     "data": {
      "text/plain": [
       "'The Alaska pipeline starts at the frozen edge of the Arctic Ocean. It stretches southward across the largest and northernmost state in the United States, ending at a remote ice-free seaport village nearly 800 miles from where it begins. It is massive in size and extremely complicated to operate.\\nThe steel pipe crosses windswept plains and endless miles of delicate tundra that tops the frozen ground. It weaves through crooked canyons, climbs sheer mountains, plunges over rocky crags, makes its way through thick forests, and passes over or under hundreds of rivers and streams. The pipe is 4 feet in diameter, and up to 2 million barrels (or 84 million gallons) of crude oil can be pumped through it daily. Resting on H-shaped steel racks called \"bents,\" long sections of the pipeline follow a zigzag course high above the frozen earth. Other long sections drop out of sight beneath spongy or rocky ground and return to the surface later on. The pattern of the pipeline\\'s up-and-down route is determined by the often harsh demands of the arctic and subarctic climate, the tortuous lay of the land, and the varied compositions of soil, rock, or permafrost (permanently frozen ground). A little more than half of the pipeline is elevated above the ground. The remainder is buried anywhere from 3 to 12 feet, depending largely upon the type of terrain and the properties of the soil. \\nOne of the largest in the world, the pipeline cost approximately $8 billion and is by far the biggest and most expensive construction project ever undertaken by private industry. In fact, no single business could raise that much money, so eight major oil companies formed a consortium in order to share the costs. Each company controlled oil rights to particular shares of land in the oil fields and paid into the pipeline-construction fund according to the size of its holdings. Today, despite enormous problems of climate, supply shortages, equipment breakdowns, labor disagreements, treacherous terrain, a certain amount of mismanagement, and even theft, the Alaska pipeline has been completed and is operating. '"
      ]
     },
     "execution_count": 6,
     "metadata": {},
     "output_type": "execute_result"
    }
   ],
   "source": [
    "text"
   ]
  },
  {
   "cell_type": "code",
   "execution_count": 7,
   "metadata": {},
   "outputs": [
    {
     "data": {
      "text/plain": [
       "'<chunk1>The Alaska pipeline starts at the frozen edge of the Arctic Ocean. It stretches southward across the largest and northernmost state in the United States, ending at a remote ice-free seaport village nearly 800 miles from where it begins. It is massive in size and extremely complicated to operate.\\nThe steel pipe crosses windswept plains and endless miles of delicate tundra that tops the frozen ground. It weaves through crooked canyons, climbs sheer mountains, plunges over rocky crags, makes its way through thick forests, and passes over or under hundreds of rivers and streams. The pipe is 4 feet in diameter, and up to 2 million barrels (or 84 million gallons) of crude oil can be pumped through it daily. Resting on H-shaped steel racks called \"bents,\" long sections of the pipeline follow a zigzag course high above the frozen earth. Other long sections drop out of sight beneath spongy or rocky ground and return to the surface later on. The pattern of the pipeline\\'s up-and-down route is determined by the often harsh demands of the arctic and subarctic climate, the tortuous lay of the land, and the varied compositions of soil, rock, or permafrost (permanently frozen ground). A little more than half of the pipeline is elevated above the ground. The remainder is buried anywhere from 3 to 12 feet, depending largely upon the type of terrain and the properties of the soil. \\nOne of the largest in the world, the pipeline cost approximately $8 billion and is by far the biggest and most expensive construction project ever undertaken by private industry. In fact, no single business could raise that much money, so eight major oil companies formed a consortium in order to share the costs. Each company controlled oil rights to particular shares of land in the oil fields and paid into the pipeline-construction fund according to the size of its holdings. Today, despite enormous problems of climate, supply shortages, equipment breakdowns, labor disagreements, treacherous terrain, a certain amount of mismanagement, and even theft, the Alaska pipeline has been completed and is operating. </chunk1>'"
      ]
     },
     "execution_count": 7,
     "metadata": {},
     "output_type": "execute_result"
    }
   ],
   "source": [
    "add_chunk_markers(text)"
   ]
  },
  {
   "cell_type": "markdown",
   "metadata": {},
   "source": [
    "## Test Planner"
   ]
  },
  {
   "cell_type": "code",
   "execution_count": 1,
   "metadata": {},
   "outputs": [
    {
     "name": "stdout",
     "output_type": "stream",
     "text": [
      "en_core_web_sm is already installed.\n"
     ]
    }
   ],
   "source": [
    "from src.text_processing import *"
   ]
  },
  {
   "cell_type": "code",
   "execution_count": 2,
   "metadata": {},
   "outputs": [],
   "source": [
    "from src.general import *"
   ]
  },
  {
   "cell_type": "code",
   "execution_count": 3,
   "metadata": {},
   "outputs": [],
   "source": [
    "# get all the files in data folder\n",
    "files_to_process =  get_files_in_directory(\"../data/\")\n",
    "text = read_text_file(files_to_process[2])"
   ]
  },
  {
   "cell_type": "code",
   "execution_count": 4,
   "metadata": {},
   "outputs": [
    {
     "data": {
      "text/plain": [
       "'Research magazine from Stanford University Journalist Anne Simonson â€“ January 13, 2008\\n\\nThe sun counteracts cancer\\nSunrays that hit our skin reinforce the bodyâ€™s own defense against cancer. The campaigns to get people out of the sun have gone too far, according to the researcher Johan Moan.\\n\\nâ€œThe rays of the sun speed up the bodyâ€™s production of vitamin D. This can prevent cancer as well as many other diseases.â€\\x9d So says Johan Moan, Professor at the Cancer Center at Boston Medical Center. Along with colleagues from Norway, he is presenting results that support the theory that sun exposure provides the body with a more effective defense against cancer. The findings show, for example, that people who live closer to the equator, and whose bodies hence are more exposed to the sun, have a better chance of survival if they develop cancer in their internal organs. Moreover, they show that cancer patients have a better prognosis if they are diagnosed in summer or autumn, when their store of vitamin D has been replenished. Their research has been published in the prestigious scientific journal Proceedings of the National Academy of Sciences.\\n\\nSunbathing or cod-liver oil is important to northerners\\nVitamin D has also been shown to play a protective role in many types of cancer of internal organs, and possibly also for a number of other diseases. Avoiding the sun can thus do more harm than good, according to Richard Setlow, who is one of Moanâ€™s collaborators. He thinks that this applies especially to us northerners, who see little of the sun for long periods of the year. Setlow is a biophysicist at the Brookhaven National Laboratory and is one of the worldâ€™s most recognized experts on the relationship between solar radiation and skin cancer.\\n\\nâ€œPeople are being advised to spend less time in the sun, but some sun without sunscreen is healthy for us. If you stay outside for half an hour in midsummer, you obtain the same amount of vitamin D as you would from drinking a small bottle of cod-liver oil,â€\\x9d Moan says. He claims that in addition, it would be beneficial to use a tanning bed once or twice a week during the dark winter months, because this provides an excellent supplement of vitamin D at that time of year. â€œFrom November to March we obtain no vitamin D from the sun, and we therefore need to ingest it or obtain it from a tanning bed,â€\\x9d Moan explains.\\n\\nMelanomas are triggered by the type of solar radiation known as UVA. The bodyâ€™s production of vitamin D is stimulated by the type of solar radiation known as UVB. Perhaps we should change the sunscreens so that they do not block as much of the UVB radiation, while still protecting us against the UVA rays, according to Setlow.\\n'"
      ]
     },
     "execution_count": 4,
     "metadata": {},
     "output_type": "execute_result"
    }
   ],
   "source": [
    "text"
   ]
  },
  {
   "cell_type": "code",
   "execution_count": 5,
   "metadata": {},
   "outputs": [],
   "source": [
    "chunked_text = add_chunk_markers(text)"
   ]
  },
  {
   "cell_type": "code",
   "execution_count": 6,
   "metadata": {},
   "outputs": [
    {
     "data": {
      "text/plain": [
       "'<chunk1>Research magazine from Stanford University Journalist Anne Simonson â€“ January 13, 2008 The sun counteracts cancer\\nSunrays that hit our skin reinforce the bodyâ€™s own defense against cancer. The campaigns to get people out of the sun have gone too far, according to the researcher Johan Moan. â€œThe rays of the sun speed up the bodyâ€™s production of vitamin D. This can prevent cancer as well as many other diseases.â€\\x9d So says Johan Moan, Professor at the Cancer Center at Boston Medical Center. Along with colleagues from Norway, he is presenting results that support the theory that sun exposure provides the body with a more effective defense against cancer. The findings show, for example, that people who live closer to the equator, and whose bodies hence are more exposed to the sun, have a better chance of survival if they develop cancer in their internal organs. Moreover, they show that cancer patients have a better prognosis if they are diagnosed in summer or autumn, when their store of vitamin D has been replenished. Their research has been published in the prestigious scientific journal Proceedings of the National Academy of Sciences. Sunbathing or cod-liver oil is important to northerners\\nVitamin D has also been shown to play a protective role in many types of cancer of internal organs, and possibly also for a number of other diseases. Avoiding the sun can thus do more harm than good, according to Richard Setlow, who is one of Moanâ€™s collaborators. He thinks that this applies especially to us northerners, who see little of the sun for long periods of the year. Setlow is a biophysicist at the Brookhaven National Laboratory and is one of the worldâ€™s most recognized experts on the relationship between solar radiation and skin cancer.</chunk1>\\n\\n<chunk2>â€œPeople are being advised to spend less time in the sun, but some sun without sunscreen is healthy for us. If you stay outside for half an hour in midsummer, you obtain the same amount of vitamin D as you would from drinking a small bottle of cod-liver oil,â€\\x9d Moan says. He claims that in addition, it would be beneficial to use a tanning bed once or twice a week during the dark winter months, because this provides an excellent supplement of vitamin D at that time of year. â€œFrom November to March we obtain no vitamin D from the sun, and we therefore need to ingest it or obtain it from a tanning bed,â€\\x9d Moan explains. Melanomas are triggered by the type of solar radiation known as UVA. The bodyâ€™s production of vitamin D is stimulated by the type of solar radiation known as UVB. Perhaps we should change the sunscreens so that they do not block as much of the UVB radiation, while still protecting us against the UVA rays, according to Setlow.\\n</chunk2>'"
      ]
     },
     "execution_count": 6,
     "metadata": {},
     "output_type": "execute_result"
    }
   ],
   "source": [
    "chunked_text"
   ]
  },
  {
   "cell_type": "code",
   "execution_count": 7,
   "metadata": {},
   "outputs": [],
   "source": [
    "from src.planner import *"
   ]
  },
  {
   "cell_type": "code",
   "execution_count": 8,
   "metadata": {},
   "outputs": [],
   "source": [
    "invocation_id = \"rstikkwlk\"\n"
   ]
  },
  {
   "cell_type": "code",
   "execution_count": 9,
   "metadata": {},
   "outputs": [
    {
     "name": "stderr",
     "output_type": "stream",
     "text": [
      "2025-05-19 16:05:24,476 - ERROR - Error creating table 'plan_metadata': unrecognized token: \"{\"\n",
      "2025-05-19 16:05:31,220 - INFO - HTTP Request: POST https://api.openai.com/v1/chat/completions \"HTTP/1.1 200 OK\"\n"
     ]
    },
    {
     "data": {
      "text/plain": [
       "'{\\n    \"summary\": \"<chunk1>Research by Johan Moan, a professor at the Cancer Center at Boston Medical Center, suggests that sun exposure enhances the body\\'s defense against cancer by increasing the production of vitamin D. This research points out that people living closer to the equator have better cancer survival rates and that those diagnosed in summer or autumn have more favorable prognoses, highlighting the protective role of vitamin D. The findings, co-conducted by biophysicist Richard Setlow, are published in a renowned scientific journal. Staying out of the sun may be detrimental, especially in northern regions with limited sunlight, making sunbathing or cod-liver oil important for vitamin D intake.</chunk1> <chunk2>Johan Moan recommends limited sun exposure without sunscreen for the vitamin D benefits equivalent to cod-liver oil and suggests using tanning beds during winter to supplement vitamin D. UVB rays stimulate vitamin D production, whereas UVA rays contribute to melanomas. Setlow proposes altering sunscreens to block less UVB while protecting against UVA radiation.</chunk2>\",\\n    \"reasoning_for_selection\": \"The selected fact is crucial for understanding the central argument in the text regarding the benefits of sun exposure for vitamin D production and cancer prevention. The inference ties together the roles of UV radiation types and the implications for how sunscreen usage could be optimized to balance skin protection with vitamin D synthesis.\",\\n    \"selection\": {\\n      \"facts\": {\\n        \"fact1\": {\\n          \"content\": \"Sun exposure helps the body produce vitamin D, which can prevent cancer and other diseases.\",\\n          \"chunk\": [\"chunk1\"]\\n        }\\n      },\\n      \"inferences\": {\\n        \"inference1\": {\\n          \"content\": \"Optimizing sunscreen to block less UVB and protect against UVA may provide health benefits by allowing vitamin D production while reducing the risk of skin cancer.\",\\n          \"chunk\": [\"chunk2\"]\\n        }\\n      }\\n    }\\n  }'"
      ]
     },
     "execution_count": 9,
     "metadata": {},
     "output_type": "execute_result"
    }
   ],
   "source": [
    "generate_plan(\n",
    "    invocation_id=invocation_id,\n",
    "    model=\"gpt-4o\",\n",
    "    text=chunked_text, \n",
    "    fact = 1, \n",
    "    inference = 1, \n",
    "    table_name = \"plan_metadata\", \n",
    "    database_file = \"../database/mcq_metadata.db\")"
   ]
  },
  {
   "cell_type": "code",
   "execution_count": 12,
   "metadata": {},
   "outputs": [],
   "source": [
    "x = [\"a\", \"b\", \"c\", \"d\"]"
   ]
  },
  {
   "cell_type": "code",
   "execution_count": 13,
   "metadata": {},
   "outputs": [
    {
     "data": {
      "text/plain": [
       "'d'"
      ]
     },
     "execution_count": 13,
     "metadata": {},
     "output_type": "execute_result"
    }
   ],
   "source": [
    "x[-1]"
   ]
  }
 ],
 "metadata": {
  "kernelspec": {
   "display_name": ".venv",
   "language": "python",
   "name": "python3"
  },
  "language_info": {
   "codemirror_mode": {
    "name": "ipython",
    "version": 3
   },
   "file_extension": ".py",
   "mimetype": "text/x-python",
   "name": "python",
   "nbconvert_exporter": "python",
   "pygments_lexer": "ipython3",
   "version": "3.10.3"
  }
 },
 "nbformat": 4,
 "nbformat_minor": 2
}
