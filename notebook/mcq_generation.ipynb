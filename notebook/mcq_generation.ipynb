{
 "cells": [
  {
   "cell_type": "markdown",
   "id": "06d4affc",
   "metadata": {},
   "source": [
    "### Generate MCQ Questions for Evaluation "
   ]
  },
  {
   "cell_type": "code",
   "execution_count": 11,
   "id": "2ee53df7",
   "metadata": {},
   "outputs": [],
   "source": [
    "from src.mcq_generation import *\n",
    "from src.general import get_files_in_directory, read_text_file"
   ]
  },
  {
   "cell_type": "code",
   "execution_count": 12,
   "id": "7c2ae3f2",
   "metadata": {},
   "outputs": [],
   "source": [
    "# Get all the text files from data folder\n",
    "folder_path = \"../data\"\n",
    "files = get_files_in_directory(folder_path)\n"
   ]
  },
  {
   "cell_type": "code",
   "execution_count": 13,
   "id": "8753e5f1",
   "metadata": {},
   "outputs": [
    {
     "data": {
      "text/plain": [
       "['../data\\\\text1.txt', '../data\\\\text2.txt']"
      ]
     },
     "execution_count": 13,
     "metadata": {},
     "output_type": "execute_result"
    }
   ],
   "source": [
    "files"
   ]
  },
  {
   "cell_type": "code",
   "execution_count": 15,
   "id": "52a21400",
   "metadata": {},
   "outputs": [],
   "source": [
    "# generate MCQs for each file using `generate_mcq` function\n",
    "for file in files:\n",
    "    text = read_text_file(file)\n",
    "    mcq_factual = generate_mcq(text, \"details\")\n",
    "    mcq_inferential= generate_mcq(text, \"inference\")\n",
    "    mcq_main_idea = generate_mcq(text, \"main_idea\")\n"
   ]
  },
  {
   "cell_type": "code",
   "execution_count": 16,
   "id": "8305643c",
   "metadata": {},
   "outputs": [
    {
     "name": "stdout",
     "output_type": "stream",
     "text": [
      "Exported 16 rows to ../output\\20250428_mcq_metadata.csv\n"
     ]
    }
   ],
   "source": [
    "# importing the database_query module\n",
    "from src.database_query import *\n",
    "\n",
    "# get the data from the database \n",
    "table_name = 'mcq_metadata'\n",
    "# check if the table exists\n",
    "table_exists(table_name)\n",
    "\n",
    "# specify the output filename and export the table to a CSV file\n",
    "output_filename = \"20250428_mcq_metadata.csv\"\n",
    "export_table_to_csv(table_name, output_filename)\n"
   ]
  }
 ],
 "metadata": {
  "kernelspec": {
   "display_name": ".venv",
   "language": "python",
   "name": "python3"
  },
  "language_info": {
   "codemirror_mode": {
    "name": "ipython",
    "version": 3
   },
   "file_extension": ".py",
   "mimetype": "text/x-python",
   "name": "python",
   "nbconvert_exporter": "python",
   "pygments_lexer": "ipython3",
   "version": "3.10.3"
  }
 },
 "nbformat": 4,
 "nbformat_minor": 5
}
