{
 "cells": [
  {
   "cell_type": "markdown",
   "id": "06d4affc",
   "metadata": {},
   "source": [
    "### Generate MCQ Questions for Evaluation "
   ]
  },
  {
   "cell_type": "code",
   "execution_count": 11,
   "id": "2ee53df7",
   "metadata": {},
   "outputs": [],
   "source": [
    "from src.mcq_generation import *\n",
    "from src.general import get_files_in_directory, read_text_file"
   ]
  },
  {
   "cell_type": "code",
   "execution_count": 12,
   "id": "7c2ae3f2",
   "metadata": {},
   "outputs": [],
   "source": [
    "# Get all the text files from data folder\n",
    "folder_path = \"../data\"\n",
    "files = get_files_in_directory(folder_path)\n"
   ]
  },
  {
   "cell_type": "code",
   "execution_count": 13,
   "id": "8753e5f1",
   "metadata": {},
   "outputs": [
    {
     "data": {
      "text/plain": [
       "['../data\\\\text1.txt', '../data\\\\text2.txt']"
      ]
     },
     "execution_count": 13,
     "metadata": {},
     "output_type": "execute_result"
    }
   ],
   "source": [
    "files"
   ]
  },
  {
   "cell_type": "code",
   "execution_count": 15,
   "id": "52a21400",
   "metadata": {},
   "outputs": [],
   "source": [
    "# generate MCQs for each file using `generate_mcq` function\n",
    "for file in files:\n",
    "    text = read_text_file(file)\n",
    "    mcq_factual = generate_mcq(text, \"details\")\n",
    "    mcq_inferential= generate_mcq(text, \"inference\")\n",
    "    mcq_main_idea = generate_mcq(text, \"main_idea\")\n"
   ]
  },
  {
   "cell_type": "code",
   "execution_count": 16,
   "id": "8305643c",
   "metadata": {},
   "outputs": [
    {
     "name": "stdout",
     "output_type": "stream",
     "text": [
      "Exported 16 rows to ../output\\20250428_mcq_metadata.csv\n"
     ]
    }
   ],
   "source": [
    "# importing the database_query module\n",
    "from src.database_query import *\n",
    "\n",
    "# get the data from the database \n",
    "table_name = 'mcq_metadata'\n",
    "# check if the table exists\n",
    "table_exists(table_name)\n",
    "\n",
    "# specify the output filename and export the table to a CSV file\n",
    "output_filename = \"20250428_mcq_metadata.csv\"\n",
    "export_table_to_csv(table_name, output_filename)\n"
   ]
  },
  {
   "cell_type": "code",
   "execution_count": 1,
   "id": "6ad119b9",
   "metadata": {},
   "outputs": [],
   "source": [
    "import pandas as pd\n",
    "\n",
    "def reorder_questions(input_file: str, output_file: str) -> None:\n",
    "    \"\"\"\n",
    "    Reorder rows in the CSV file based on specified sorting rules and save to a new file.\n",
    "\n",
    "    Sorting Rules:\n",
    "    1. Subject (A to Z)\n",
    "    2. Chapter (ascending numeric order)\n",
    "    3. Section (ascending numeric order)\n",
    "    4. Question_type (A to Z)\n",
    "\n",
    "    Args:\n",
    "        input_file (str): Full path to the input CSV file.\n",
    "        output_file (str): Full path for the output CSV file.\n",
    "    \"\"\"\n",
    "    # Load the CSV into a DataFrame\n",
    "    df = pd.read_csv(input_file)\n",
    "\n",
    "    # Ensure Chapter and Section are treated as numeric\n",
    "    df['Chapter'] = pd.to_numeric(df['Chapter'], errors='coerce')\n",
    "    df['Section'] = pd.to_numeric(df['Section'], errors='coerce')\n",
    "\n",
    "    # Perform the sorting\n",
    "    df_sorted = df.sort_values(by=['Subject', 'Chapter', 'Section', 'Question_type'])\n",
    "\n",
    "    # Save the sorted DataFrame to the output file\n",
    "    df_sorted.to_csv(output_file, index=False)"
   ]
  },
  {
   "cell_type": "code",
   "execution_count": null,
   "id": "6f8f37ad",
   "metadata": {},
   "outputs": [
    {
     "ename": "",
     "evalue": "",
     "output_type": "error",
     "traceback": [
      "\u001b[1;31mThe Kernel crashed while executing code in the current cell or a previous cell. \n",
      "\u001b[1;31mPlease review the code in the cell(s) to identify a possible cause of the failure. \n",
      "\u001b[1;31mClick <a href='https://aka.ms/vscodeJupyterKernelCrash'>here</a> for more info. \n",
      "\u001b[1;31mView Jupyter <a href='command:jupyter.viewOutput'>log</a> for further details."
     ]
    }
   ],
   "source": [
    "input_file = \"../output/mcqs/all_mcqs.csv\"\n",
    "output_file = \"../output/mcqs/sorted_mcqs.csv\"\n",
    "reorder_questions(input_file, output_file)"
   ]
  }
 ],
 "metadata": {
  "kernelspec": {
   "display_name": ".venv",
   "language": "python",
   "name": "python3"
  },
  "language_info": {
   "codemirror_mode": {
    "name": "ipython",
    "version": 3
   },
   "file_extension": ".py",
   "mimetype": "text/x-python",
   "name": "python",
   "nbconvert_exporter": "python",
   "pygments_lexer": "ipython3",
   "version": "3.10.3"
  }
 },
 "nbformat": 4,
 "nbformat_minor": 5
}
