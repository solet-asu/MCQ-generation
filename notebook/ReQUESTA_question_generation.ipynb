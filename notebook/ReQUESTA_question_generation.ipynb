{
 "cells": [
  {
   "cell_type": "markdown",
   "id": "aa39a191",
   "metadata": {},
   "source": [
    "### Generate MCQs using ReQUESTA (GPT-5 + Quality first)"
   ]
  },
  {
   "cell_type": "code",
   "execution_count": null,
   "id": "0dc8721f",
   "metadata": {},
   "outputs": [],
   "source": [
    "import pandas as pd\n",
    "from pathlib import Path\n",
    "from src.workflow import question_generation_workflow"
   ]
  },
  {
   "cell_type": "code",
   "execution_count": 2,
   "id": "4a0118e1",
   "metadata": {},
   "outputs": [],
   "source": [
    "INPUT_CSV = \"./some_recorded_output/source_texts.csv\"\n",
    "OUTPUT_CSV = \"./some_recorded_output/requesta_mcqs.csv\""
   ]
  },
  {
   "cell_type": "code",
   "execution_count": 4,
   "id": "03a1a997",
   "metadata": {},
   "outputs": [],
   "source": [
    "# --- load & validate input ---\n",
    "texts = pd.read_csv(INPUT_CSV)"
   ]
  },
  {
   "cell_type": "code",
   "execution_count": null,
   "id": "58453606",
   "metadata": {},
   "outputs": [],
   "source": [
    "\n",
    "# --- generation knobs ---\n",
    "FACT = 2\n",
    "INFERENCE = 2\n",
    "MAIN_IDEA = 1\n",
    "MODEL = \"gpt-5\"\n",
    "QUALITY_FIRST = True\n",
    "CONCURRENCY_LIMIT = 3\n",
    "\n",
    "# --- resume controls ---\n",
    "START_AT = 0        # 0-based row index to start/resume from\n",
    "END_AT = None       # optional: last row index (exclusive). None = process to end.\n",
    "SKIP_ALREADY_WRITTEN = True  # if OUTPUT_CSV exists, skip rows whose textID is already written\n",
    "\n",
    "\n",
    "n = len(texts)\n",
    "if END_AT is None or END_AT > n:\n",
    "    END_AT = n\n",
    "\n",
    "# --- prepare output / dedup on resume ---\n",
    "out_path = Path(OUTPUT_CSV)\n",
    "out_path.parent.mkdir(parents=True, exist_ok=True)\n",
    "header_needed = not out_path.exists()\n",
    "\n",
    "processed_ids = set()\n",
    "if SKIP_ALREADY_WRITTEN and out_path.exists():\n",
    "    try:\n",
    "        processed_ids = set(pd.read_csv(out_path, usecols=[\"textID\"])[\"textID\"].tolist())\n",
    "        header_needed = False\n",
    "    except Exception:\n",
    "        # If existing file is malformed, fall back to re-writing header on new file\n",
    "        pass\n",
    "\n",
    "# --- process rows with iloc so we know exact positions ---\n",
    "for i in range(START_AT, END_AT):\n",
    "    row = texts.iloc[i]\n",
    "    tid = row[\"textID\"]\n",
    "    txt = row[\"text\"]\n",
    "\n",
    "    if SKIP_ALREADY_WRITTEN and tid in processed_ids:\n",
    "        print(f\"Skipping {i+1}/{n} (textID={tid}) — already in output.\")\n",
    "        continue\n",
    "\n",
    "    if not isinstance(txt, str) or not txt.strip():\n",
    "        print(f\"Skipping empty text at row {i+1} (textID={tid})\")\n",
    "        continue\n",
    "\n",
    "    print(f\"Processing {i+1}/{n} (textID={tid})\")\n",
    "    try:\n",
    "        questions = await question_generation_workflow(\n",
    "            text=txt,\n",
    "            fact=FACT,\n",
    "            inference=INFERENCE,\n",
    "            main_idea=MAIN_IDEA,\n",
    "            model=MODEL,\n",
    "            quality_first=QUALITY_FIRST,\n",
    "            concurrency=CONCURRENCY_LIMIT, \n",
    "        )\n",
    "        # build rows (one per question)\n",
    "        records = []\n",
    "        for q in questions or []:\n",
    "            records.append({\n",
    "                \"textID\": tid,\n",
    "                \"text\": txt,\n",
    "                \"requesta_question_type\": q.get(\"question_type\"),\n",
    "                \"requesta_question\": q.get(\"mcq\"),\n",
    "                \"requesta_answer\": q.get(\"mcq_answer\"),\n",
    "            })\n",
    "        # append to CSV immediately (good for resume-after-crash)\n",
    "        if records:\n",
    "            pd.DataFrame(records, columns=[\n",
    "                \"textID\",\"text\",\"requesta_question_type\",\"requesta_question\",\"requesta_answer\"\n",
    "            ]).to_csv(out_path, mode=\"a\", index=False, header=header_needed)\n",
    "            header_needed = False\n",
    "            processed_ids.add(tid)\n",
    "        else:\n",
    "            print(f\"  No questions returned for textID={tid}\")\n",
    "    except Exception as e:\n",
    "        print(f\"Error at row {i+1} (textID={tid}): {e}\")\n",
    "        break  # stop here so you can resume later with START_AT=i\n",
    "\n",
    "print(\"Done (or stopped on error). Output:\", str(out_path))\n"
   ]
  }
 ],
 "metadata": {
  "kernelspec": {
   "display_name": ".venv",
   "language": "python",
   "name": "python3"
  },
  "language_info": {
   "codemirror_mode": {
    "name": "ipython",
    "version": 3
   },
   "file_extension": ".py",
   "mimetype": "text/x-python",
   "name": "python",
   "nbconvert_exporter": "python",
   "pygments_lexer": "ipython3",
   "version": "3.10.3"
  }
 },
 "nbformat": 4,
 "nbformat_minor": 5
}
